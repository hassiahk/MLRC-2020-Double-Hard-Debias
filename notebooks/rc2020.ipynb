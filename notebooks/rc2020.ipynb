{
 "cells": [
  {
   "cell_type": "markdown",
   "metadata": {
    "colab_type": "text",
    "id": "view-in-github"
   },
   "source": [
    "<a href=\"https://colab.research.google.com/github/hassiahk/RC2020-Double-Hard-DeBias/blob/main/notebooks/rc2020.ipynb\" target=\"_parent\"><img src=\"https://colab.research.google.com/assets/colab-badge.svg\" alt=\"Open In Colab\"/></a>"
   ]
  },
  {
   "cell_type": "code",
   "execution_count": null,
   "metadata": {
    "id": "7mTHSDLt6VLE"
   },
   "outputs": [],
   "source": [
    "%%capture\n",
    "!pip install wandb -qqq\n",
    "import wandb"
   ]
  },
  {
   "cell_type": "code",
   "execution_count": null,
   "metadata": {
    "colab": {
     "base_uri": "https://localhost:8080/"
    },
    "id": "h-arWUt56ctD",
    "outputId": "2275532c-8d7e-40ac-ca4b-ec4623db36c9"
   },
   "outputs": [
    {
     "name": "stdout",
     "output_type": "stream",
     "text": [
      "\u001b[34m\u001b[1mwandb\u001b[0m: You can find your API key in your browser here: https://wandb.ai/authorize\n",
      "\u001b[34m\u001b[1mwandb\u001b[0m: Paste an API key from your profile and hit enter: \n",
      "\u001b[34m\u001b[1mwandb\u001b[0m: Appending key for api.wandb.ai to your netrc file: /root/.netrc\n"
     ]
    }
   ],
   "source": [
    "!wandb login"
   ]
  },
  {
   "cell_type": "code",
   "execution_count": null,
   "metadata": {
    "colab": {
     "base_uri": "https://localhost:8080/",
     "height": 769,
     "referenced_widgets": [
      "88264a9d226c47bb91551a6f03590c29",
      "0c8b3dba97484aa18a71fa9f959303a5",
      "6a68547d05be4021a27bde06c5146c70",
      "c302d53cf4f840b6b3871f170a886ee7",
      "c01c84394066406797d55559b084e7e6",
      "102766df6bb94b91bd7884b5e7f15a38",
      "dd02d7b4d5774e7eac4b4b9499377f0a",
      "55721722526a44119a216d3a78940a87"
     ]
    },
    "id": "sRQeNYBZ8dhr",
    "outputId": "2eeec289-1d72-4600-c5cb-01a3ad36b137"
   },
   "outputs": [
    {
     "data": {
      "text/html": [
       "Finishing last run (ID:1o4oeg6p) before initializing another..."
      ],
      "text/plain": [
       "<IPython.core.display.HTML object>"
      ]
     },
     "metadata": {
      "tags": []
     },
     "output_type": "display_data"
    },
    {
     "data": {
      "text/html": [
       "<br/>Waiting for W&B process to finish, PID 475<br/>Program ended successfully."
      ],
      "text/plain": [
       "<IPython.core.display.HTML object>"
      ]
     },
     "metadata": {
      "tags": []
     },
     "output_type": "display_data"
    },
    {
     "data": {
      "application/vnd.jupyter.widget-view+json": {
       "model_id": "88264a9d226c47bb91551a6f03590c29",
       "version_major": 2,
       "version_minor": 0
      },
      "text/plain": [
       "VBox(children=(Label(value=' 880.13MB of 880.13MB uploaded (0.00MB deduped)\\r'), FloatProgress(value=1.0, max=…"
      ]
     },
     "metadata": {
      "tags": []
     },
     "output_type": "display_data"
    },
    {
     "data": {
      "text/html": [
       "Find user logs for this run at: <code>/content/wandb/run-20201208_153509-1o4oeg6p/logs/debug.log</code>"
      ],
      "text/plain": [
       "<IPython.core.display.HTML object>"
      ]
     },
     "metadata": {
      "tags": []
     },
     "output_type": "display_data"
    },
    {
     "data": {
      "text/html": [
       "Find internal logs for this run at: <code>/content/wandb/run-20201208_153509-1o4oeg6p/logs/debug-internal.log</code>"
      ],
      "text/plain": [
       "<IPython.core.display.HTML object>"
      ]
     },
     "metadata": {
      "tags": []
     },
     "output_type": "display_data"
    },
    {
     "data": {
      "text/html": [
       "Synced 4 W&B file(s), 0 media file(s), 1 artifact file(s) and 0 other file(s)"
      ],
      "text/plain": [
       "<IPython.core.display.HTML object>"
      ]
     },
     "metadata": {
      "tags": []
     },
     "output_type": "display_data"
    },
    {
     "data": {
      "text/html": [
       "\n",
       "                    <br/>Synced <strong style=\"color:#cdcd00\">warm-energy-1</strong>: <a href=\"https://wandb.ai/animesh-007/uncategorized/runs/1o4oeg6p\" target=\"_blank\">https://wandb.ai/animesh-007/uncategorized/runs/1o4oeg6p</a><br/>\n",
       "                "
      ],
      "text/plain": [
       "<IPython.core.display.HTML object>"
      ]
     },
     "metadata": {
      "tags": []
     },
     "output_type": "display_data"
    },
    {
     "data": {
      "text/html": [
       "...Successfully finished last run (ID:1o4oeg6p). Initializing new run:<br/><br/>"
      ],
      "text/plain": [
       "<IPython.core.display.HTML object>"
      ]
     },
     "metadata": {
      "tags": []
     },
     "output_type": "display_data"
    },
    {
     "data": {
      "text/html": [
       "\n",
       "                Tracking run with wandb version 0.10.12<br/>\n",
       "                Syncing run <strong style=\"color:#cdcd00\">deft-puddle-2</strong> to <a href=\"https://wandb.ai\" target=\"_blank\">Weights & Biases</a> <a href=\"https://docs.wandb.com/integrations/jupyter.html\" target=\"_blank\">(Documentation)</a>.<br/>\n",
       "                Project page: <a href=\"https://wandb.ai/animesh-007/rc2020\" target=\"_blank\">https://wandb.ai/animesh-007/rc2020</a><br/>\n",
       "                Run page: <a href=\"https://wandb.ai/animesh-007/rc2020/runs/20vxqu9p\" target=\"_blank\">https://wandb.ai/animesh-007/rc2020/runs/20vxqu9p</a><br/>\n",
       "                Run data is saved locally in <code>/content/wandb/run-20201208_154843-20vxqu9p</code><br/><br/>\n",
       "            "
      ],
      "text/plain": [
       "<IPython.core.display.HTML object>"
      ]
     },
     "metadata": {
      "tags": []
     },
     "output_type": "display_data"
    },
    {
     "data": {
      "text/html": [
       "<h1>Run(20vxqu9p)</h1><p></p><iframe src=\"https://wandb.ai/animesh-007/rc2020/runs/20vxqu9p\" style=\"border:none;width:100%;height:400px\"></iframe>"
      ],
      "text/plain": [
       "<wandb.sdk.wandb_run.Run at 0x7f7108b6fe80>"
      ]
     },
     "execution_count": 14,
     "metadata": {
      "tags": []
     },
     "output_type": "execute_result"
    }
   ],
   "source": [
    "import wandb\n",
    "wandb.init(project=\"rc2020\")"
   ]
  },
  {
   "cell_type": "code",
   "execution_count": null,
   "metadata": {
    "colab": {
     "base_uri": "https://localhost:8080/"
    },
    "id": "m8flQNM7W7OO",
    "outputId": "c4dda93a-2a11-431a-ab4b-79a82527d603"
   },
   "outputs": [
    {
     "name": "stdout",
     "output_type": "stream",
     "text": [
      "Downloading...\n",
      "From: https://drive.google.com/uc?id=1jrbQmpB5ZNH4w54yujeAvNFAfVEG0SuE\n",
      "To: /content/GloVe.zip\n",
      "368MB [00:03, 102MB/s] \n"
     ]
    }
   ],
   "source": [
    "!gdown --id 1jrbQmpB5ZNH4w54yujeAvNFAfVEG0SuE"
   ]
  },
  {
   "cell_type": "code",
   "execution_count": null,
   "metadata": {
    "id": "ib07xvRrVc4c"
   },
   "outputs": [],
   "source": [
    "!cd /content/drive/MyDrive/double-debaising/Double-Hard-Debias/data"
   ]
  },
  {
   "cell_type": "code",
   "execution_count": null,
   "metadata": {
    "colab": {
     "base_uri": "https://localhost:8080/"
    },
    "id": "d-XZMDmGXWMe",
    "outputId": "c088f79c-8630-4f7a-b7d0-3d226f162122"
   },
   "outputs": [
    {
     "name": "stdout",
     "output_type": "stream",
     "text": [
      "Archive:  GloVe.zip\n",
      "  inflating: vectors.txt             \n"
     ]
    }
   ],
   "source": [
    "!unzip GloVe.zip"
   ]
  },
  {
   "cell_type": "code",
   "execution_count": null,
   "metadata": {
    "id": "y-I_VzhmXxZQ"
   },
   "outputs": [],
   "source": [
    "!cp /content/vectors.txt \"/content/drive/My Drive/PaperReproducibility/vectors.txt\""
   ]
  },
  {
   "cell_type": "code",
   "execution_count": 1,
   "metadata": {
    "colab": {
     "base_uri": "https://localhost:8080/"
    },
    "id": "I5ovNUehYVX6",
    "outputId": "4da6f364-15d0-4b00-b5fd-ce44bc397d6f"
   },
   "outputs": [
    {
     "name": "stdout",
     "output_type": "stream",
     "text": [
      "Mounted at /content/drive\n"
     ]
    }
   ],
   "source": [
    "from google.colab import drive\n",
    "drive.mount('/content/drive')"
   ]
  },
  {
   "cell_type": "code",
   "execution_count": 2,
   "metadata": {
    "id": "cJCVhpWRlZTo"
   },
   "outputs": [],
   "source": [
    "import sys\n",
    "sys.path.append('/content/drive/MyDrive/double-debaising/Double-Hard-Debias')"
   ]
  },
  {
   "cell_type": "code",
   "execution_count": 3,
   "metadata": {
    "id": "h1p3P4lyZIwI"
   },
   "outputs": [],
   "source": [
    "import codecs, os, json, operator, pickle\n",
    "from random import shuffle\n",
    "import numpy as np\n",
    "from numpy import linalg as LA\n",
    "import scipy\n",
    "\n",
    "%load_ext autoreload\n",
    "%autoreload 2"
   ]
  },
  {
   "cell_type": "code",
   "execution_count": 4,
   "metadata": {
    "colab": {
     "base_uri": "https://localhost:8080/"
    },
    "id": "nhb-XmVMYrTG",
    "outputId": "f5dc74be-a5ac-4cf7-92c2-fd8e8954ae3f"
   },
   "outputs": [
    {
     "name": "stdout",
     "output_type": "stream",
     "text": [
      "322636 (322636, 300) 322636\n"
     ]
    }
   ],
   "source": [
    "def load_glove(path):\n",
    "    with open(path) as f:\n",
    "        lines = f.readlines()\n",
    "    \n",
    "    word_vec = []\n",
    "    vocab = []\n",
    "    for line in lines:\n",
    "        tokens = line.strip().split(\" \")\n",
    "        assert len(tokens) == 301\n",
    "        vocab.append(tokens[0])\n",
    "        word_vec.append([float(elem) for elem in tokens[1:]])\n",
    "    w2i = {w: i for i, w in enumerate(vocab)}\n",
    "    word_vec = np.array(word_vec).astype(float)\n",
    "    print(len(vocab), word_vec.shape, len(w2i))\n",
    "    \n",
    "    return word_vec, w2i, vocab\n",
    "\n",
    "word_vec, w2i, vocab = load_glove('/content/drive/MyDrive/double-debaising/Double-Hard-Debias/data/vectors.txt')"
   ]
  },
  {
   "cell_type": "code",
   "execution_count": 5,
   "metadata": {
    "id": "nI9-ErBvZTBW"
   },
   "outputs": [],
   "source": [
    "# word_vec = wv\n",
    "word2idx = w2i # mapping each word with indices "
   ]
  },
  {
   "cell_type": "code",
   "execution_count": null,
   "metadata": {
    "colab": {
     "base_uri": "https://localhost:8080/"
    },
    "id": "O-gy4qfLIB3W",
    "outputId": "c200ccae-88a8-4137-fb48-3a6f486e1b39"
   },
   "outputs": [
    {
     "data": {
      "text/plain": [
       "(300,)"
      ]
     },
     "execution_count": 19,
     "metadata": {
      "tags": []
     },
     "output_type": "execute_result"
    }
   ],
   "source": [
    "# vocab\n",
    "word_vec[word2idx[\"personal\"]].shape"
   ]
  },
  {
   "cell_type": "code",
   "execution_count": 6,
   "metadata": {
    "id": "2fjP8Nxrck_X"
   },
   "outputs": [],
   "source": [
    "# del(wv)\n",
    "del(w2i)"
   ]
  },
  {
   "cell_type": "code",
   "execution_count": 7,
   "metadata": {
    "id": "3KhIKbXmcxCQ"
   },
   "outputs": [],
   "source": [
    "def getWordVector (word) : \n",
    "  return word_vec[word2idx[word]]"
   ]
  },
  {
   "cell_type": "code",
   "execution_count": 9,
   "metadata": {
    "colab": {
     "base_uri": "https://localhost:8080/"
    },
    "id": "WEMhHu5Hc-qu",
    "outputId": "403516f6-2374-471d-b1e7-a996930ae9fe"
   },
   "outputs": [
    {
     "name": "stderr",
     "output_type": "stream",
     "text": [
      "100%|██████████| 50000/50000 [00:00<00:00, 412056.24it/s]\n"
     ]
    },
    {
     "name": "stdout",
     "output_type": "stream",
     "text": [
      "size of vocabulary: 47628\n"
     ]
    }
   ],
   "source": [
    "import json\n",
    "from tqdm import tqdm\n",
    "from utils import limit_vocab\n",
    "\n",
    "\n",
    "gender_specific = []\n",
    "with open('/content/drive/MyDrive/double-debaising/Double-Hard-Debias/data/male_word_file.txt') as f:\n",
    "    for l in f:\n",
    "        gender_specific.append(l.strip())\n",
    "with open('/content/drive/MyDrive/double-debaising/Double-Hard-Debias/data/female_word_file.txt') as f:\n",
    "    for l in f:\n",
    "        gender_specific.append(l.strip())\n",
    "\n",
    "with codecs.open('/content/drive/MyDrive/double-debaising/Double-Hard-Debias/data/gender_specific_full.json') as f:\n",
    "    gender_specific.extend(json.load(f))\n",
    "\n",
    "definitional_pairs = [['she', 'he'], ['herself', 'himself'], ['her', 'his'], ['daughter', 'son'], \n",
    "                      ['girl', 'boy'], ['mother', 'father'], ['woman', 'man'], ['mary', 'john'], \n",
    "                      ['gal', 'guy'], ['female', 'male']]\n",
    "definitional_words = [word for pair in definitional_pairs for word in pair]\n",
    "\n",
    "assert (len(definitional_pairs) == len(definitional_words)/2)\n",
    "assert (definitional_pairs[0][0] == definitional_words[0])\n",
    "\n",
    "exclude_words = gender_specific\n",
    "\n",
    "vocab_limit, word_vec_limit, word2idx_limit = limit_vocab(word_vec, word2idx, vocab, exclude = exclude_words)"
   ]
  },
  {
   "cell_type": "code",
   "execution_count": 10,
   "metadata": {
    "id": "XUmi_CYHn-cK"
   },
   "outputs": [],
   "source": [
    "he_embed = word_vec[word2idx['he'], :]\n",
    "she_embed = word_vec[word2idx['she'], :]\n",
    "\n",
    "\n",
    "# All words in vocab_limit should have zero gender bias. \n",
    "# So bias[word] = difference between its similarity to 'he' and 'she' vectors.\n",
    "\n",
    "# people use the cosine similarity as a similarity metric between vectors. \n",
    "# Now, the distance can be defined as 1-cos_similarity. \n",
    "# The intuition behind this is that if 2 vectors are perfectly the same \n",
    "# then similarity is 1 (angle=0) and thus, distance is 0\n",
    "def similarity(a, b):\n",
    "    return 1 - scipy.spatial.distance.cosine(a, b)    #1 - cosine distance = cosine similarity\n",
    "\n",
    "def compute_bias_by_projection(word_vec, word2idx, vocab):\n",
    "    d = {}\n",
    "    for w in vocab:\n",
    "        w_vec = word_vec[word2idx[w], :]\n",
    "        # There should not be any difference in 'he' similarity and 'she' similarity for a gender neutral word\n",
    "        # Calculating difference between similarities of \"he\" and \"she\" similarity\n",
    "        d[w] = similarity(w_vec, he_embed) - similarity(w_vec, she_embed)\n",
    "    return d\n",
    "    \n",
    "# If differences is > 0 then word is male baised and if < 0 then word is female biased.\n",
    "gender_bias_bef = compute_bias_by_projection(word_vec_limit, word2idx_limit, vocab_limit)"
   ]
  },
  {
   "cell_type": "code",
   "execution_count": 11,
   "metadata": {
    "colab": {
     "base_uri": "https://localhost:8080/"
    },
    "id": "fG7DU_npyVl6",
    "outputId": "435727b4-e079-4651-c071-51348ef046de"
   },
   "outputs": [
    {
     "data": {
      "text/plain": [
       "47628"
      ]
     },
     "execution_count": 11,
     "metadata": {
      "tags": []
     },
     "output_type": "execute_result"
    }
   ],
   "source": [
    "len(gender_bias_bef)"
   ]
  },
  {
   "cell_type": "code",
   "execution_count": 12,
   "metadata": {
    "colab": {
     "base_uri": "https://localhost:8080/"
    },
    "id": "BA9nIFRgykcH",
    "outputId": "a0b20d2b-a069-4d76-da49-374dc6cb8187"
   },
   "outputs": [
    {
     "name": "stdout",
     "output_type": "stream",
     "text": [
      "Given word is Female biased\n"
     ]
    }
   ],
   "source": [
    "differences = gender_bias_bef['teacher']\n",
    "if differences > 0:\n",
    "  print(\"Given word is Male biased\")\n",
    "elif differences < 0:\n",
    "  print(\"Given word is Female biased\")\n",
    "else:\n",
    "  print(\"Given word is unbiased\")\n"
   ]
  },
  {
   "cell_type": "code",
   "execution_count": 13,
   "metadata": {
    "id": "WZ9IO_MvzsZ8"
   },
   "outputs": [],
   "source": [
    "from sklearn.decomposition import PCA\n",
    "\n",
    "# get main PCA components for removing frequency bias\n",
    "def my_pca(wv):\n",
    "    wv_mean = np.mean(np.array(wv), axis=0)\n",
    "    wv_hat = np.zeros(wv.shape).astype(float)\n",
    "\n",
    "    #can we do this with broadcasting?? Yes we can\n",
    "\n",
    "    wv_hat = wv - wv_mean \n",
    "    #for i in range(len(wv)):\n",
    "        #wv_hat[i, :] = wv[i, :] - wv_mean\n",
    "\n",
    "    #print(wv_hat.shape)\n",
    "    #print(np.mean(wv_hat, axis = 0))\n",
    "    #print(np.mean(np.array(wv_hat), axis=0))\n",
    "    main_pca = PCA()\n",
    "    main_pca.fit(wv_hat)\n",
    "    \n",
    "    return main_pca\n",
    "\n",
    "main_pca = my_pca(word_vec)\n",
    "wv_mean = np.mean(np.array(word_vec), axis=0)"
   ]
  },
  {
   "cell_type": "code",
   "execution_count": null,
   "metadata": {
    "colab": {
     "base_uri": "https://localhost:8080/"
    },
    "id": "kNSnCnIrgJVA",
    "outputId": "5ba4c00c-caaa-4b41-b15c-aaa7f8afb34b"
   },
   "outputs": [
    {
     "data": {
      "text/plain": [
       "(322636, 300)"
      ]
     },
     "execution_count": 23,
     "metadata": {
      "tags": []
     },
     "output_type": "execute_result"
    }
   ],
   "source": [
    "word_vec.shape"
   ]
  },
  {
   "cell_type": "code",
   "execution_count": null,
   "metadata": {
    "colab": {
     "base_uri": "https://localhost:8080/"
    },
    "id": "dm4n0Eyflatp",
    "outputId": "04884c46-9841-4d06-dacf-7f1c26e15bec"
   },
   "outputs": [
    {
     "data": {
      "text/plain": [
       "(300, 300)"
      ]
     },
     "execution_count": 25,
     "metadata": {
      "tags": []
     },
     "output_type": "execute_result"
    }
   ],
   "source": [
    "main_pca.components_.shape"
   ]
  },
  {
   "cell_type": "code",
   "execution_count": null,
   "metadata": {
    "colab": {
     "base_uri": "https://localhost:8080/"
    },
    "id": "ul6JV3ZZgBKh",
    "outputId": "31d65ebe-9582-471d-8adf-9cb99e69f0bd"
   },
   "outputs": [
    {
     "data": {
      "text/plain": [
       "(300,)"
      ]
     },
     "execution_count": 29,
     "metadata": {
      "tags": []
     },
     "output_type": "execute_result"
    }
   ],
   "source": [
    "main_pca.components_[0].shape"
   ]
  },
  {
   "cell_type": "code",
   "execution_count": null,
   "metadata": {
    "colab": {
     "base_uri": "https://localhost:8080/"
    },
    "id": "y4uT2hWwMxtz",
    "outputId": "d8491a51-6116-49ea-d459-b62a30383613"
   },
   "outputs": [
    {
     "data": {
      "text/plain": [
       "1.0"
      ]
     },
     "execution_count": 30,
     "metadata": {
      "tags": []
     },
     "output_type": "execute_result"
    }
   ],
   "source": [
    "np.linalg.norm(main_pca.components_[0])"
   ]
  },
  {
   "cell_type": "code",
   "execution_count": 14,
   "metadata": {
    "id": "qseeSBThEynW"
   },
   "outputs": [],
   "source": [
    "def hard_debias(wv, w2i, w2i_partial, vocab_partial, component_id):\n",
    "    \n",
    "    # D = []\n",
    "    d = main_pca.components_[component_id]\n",
    "    # for i in component_ids:\n",
    "        #D.append(main_pca.components_[i])\n",
    "    # Length of D is always 1, it captures the ith component of main_pca.components_\n",
    "\n",
    "    # get rid of frequency features\n",
    "    wv_f = np.zeros((len(vocab_partial), wv.shape[1])).astype(float)\n",
    "    print(wv_f.shape)\n",
    "\n",
    "    #Debiasing frequency from word vectors\n",
    "    for voc_idx, word in enumerate(vocab_partial):\n",
    "\n",
    "        u = wv[w2i[word], :]    # Get vector for word in vocab_partial-> len(vocab_partial) = 2019\n",
    "        # wv_mean = np.mean(u,axis=0)\n",
    "        \n",
    "        sub = np.zeros(u.shape).astype(float)\n",
    "        #for d in D:      # Eigen Vector of word vectors\n",
    "            #sub += np.dot(np.dot(np.transpose(d), u), d)   #Understand this for PCA implementation!!\n",
    "        sub += np.dot(np.dot(np.transpose(d), u), d)     # d is unit vector\n",
    "        wv_f[w2i_partial[word], :] = u - sub - wv_mean    # removing component of 'u' in direction of 'd' (u - (u.v^)v^)\n",
    "                                                          # consider v^ to be unit vector.\n",
    "        #Why would we subtract mean here, clearly the sub would change the mean of the data\n",
    "    \n",
    "    mean_wv_f = np.mean(np.array(wv_f), axis=0)\n",
    "    # print(mean_wv_f)\n",
    "    #wv_f is not origin centred! \n",
    "\n",
    "    #Debias Gender Direction\n",
    "    gender_directions = list()\n",
    "    #for gender_word_list in [definitional_pairs]:\n",
    "        #gender_directions.append(doPCA(gender_word_list, wv_f, w2i_partial).components_[0])\n",
    "\n",
    "    # Bolukbasi gender debias : Take 10 gender pairs (he : she), calculate gender direction, apply PCA and take first eigen vector of it\n",
    "    gender_directions.append(doPCA(definitional_pairs, wv_f, w2i_partial).components_[0])\n",
    "\n",
    "    wv_debiased = np.zeros((len(vocab_partial), len(wv_f[0, :]))).astype(float)\n",
    "    for i, w in enumerate(vocab_partial):\n",
    "        u = wv_f[w2i_partial[w], :]\n",
    "        for gender_direction in gender_directions:\n",
    "            u = drop(u, gender_direction)\n",
    "            wv_debiased[w2i_partial[w], :] = u\n",
    "    \n",
    "    return wv_debiased"
   ]
  },
  {
   "cell_type": "code",
   "execution_count": null,
   "metadata": {
    "colab": {
     "base_uri": "https://localhost:8080/"
    },
    "id": "EGsefOz1XeH7",
    "outputId": "faa04226-0fb9-4037-ee6d-655bc840872d"
   },
   "outputs": [
    {
     "data": {
      "text/plain": [
       "(300,)"
      ]
     },
     "execution_count": 32,
     "metadata": {
      "tags": []
     },
     "output_type": "execute_result"
    }
   ],
   "source": [
    "word_vec[0].shape"
   ]
  },
  {
   "cell_type": "code",
   "execution_count": 15,
   "metadata": {
    "id": "6eI8aOumF2J1"
   },
   "outputs": [],
   "source": [
    "from sklearn.cluster import KMeans\n",
    "def cluster_and_visualize(words, X, random_state, y_true, num=2):\n",
    "    \n",
    "    kmeans = KMeans(n_clusters=num, random_state=random_state).fit(X)\n",
    "    y_pred = kmeans.predict(X)\n",
    "    correct = [1 if item1 == item2 else 0 for (item1,item2) in zip(y_true, y_pred) ]     #If male denotes '1' in y_true, how can we be sure y_pred will denote male with '1'\n",
    "                                                                                         #lucky guess since seed is fixed\n",
    "    preci = max(sum(correct)/float(len(correct)), 1 - sum(correct)/float(len(correct)))\n",
    "    print('precision', preci)\n",
    "    \n",
    "    return kmeans, y_pred, X, preci"
   ]
  },
  {
   "cell_type": "code",
   "execution_count": 19,
   "metadata": {
    "colab": {
     "base_uri": "https://localhost:8080/"
    },
    "id": "Y4OEOTNTmoSq",
    "outputId": "eecba0d8-aba4-442f-df52-07e86c84103e"
   },
   "outputs": [
    {
     "data": {
      "text/plain": [
       "[('eniwetok', -0.2271241787858822),\n",
       " ('ulithi', -0.22552919159831608),\n",
       " ('majuro', -0.22226947987976708),\n",
       " ('laura', -0.2214269365803906),\n",
       " ('transited', -0.21847881712986927),\n",
       " ('homeport', -0.21403074129714517),\n",
       " ('alumna', -0.21371639275002563),\n",
       " ('replenishment', -0.2136236512464309),\n",
       " ('kwajalein', -0.21304014867528076),\n",
       " ('steamed', -0.2123797047080589),\n",
       " ('refit', -0.20710440844373956),\n",
       " ('gabriela', -0.20673095949636966),\n",
       " ('katie', -0.20626780720313354),\n",
       " ('steaming', -0.20370022294508783),\n",
       " ('rachel', -0.19986917762299683),\n",
       " ('saipan', -0.19926636010793952),\n",
       " ('tomboy', -0.19734658861977217),\n",
       " ('natalie', -0.19668425470901973),\n",
       " ('subic', -0.1963042100839969),\n",
       " ('louise', -0.19513024507993437),\n",
       " ('moored', -0.19476420730317068),\n",
       " ('amanda', -0.19457054381743066),\n",
       " ('tatiana', -0.1940152567320138),\n",
       " ('nina', -0.19301860004039462),\n",
       " ('scuttled', -0.19142955766574032),\n",
       " ('susan', -0.19075214106161464),\n",
       " ('emily', -0.19074752653651306),\n",
       " ('handbag', -0.1906184287661743),\n",
       " ('lauren', -0.18978946610564607),\n",
       " ('marshalls', -0.18814698123906304),\n",
       " ('pregnancy', -0.18735006331677428),\n",
       " ('feisty', -0.1869335506110792),\n",
       " ('jenny', -0.18662661413028914),\n",
       " ('daniela', -0.18644607387571122),\n",
       " ('sultry', -0.1854019391643148),\n",
       " ('minesweeping', -0.18493891038702182),\n",
       " ('gaby', -0.1848988551433962),\n",
       " ('kuznetsova', -0.18474901765078855),\n",
       " ('kristina', -0.18401783734005828),\n",
       " ('pregnant', -0.18376231326818637),\n",
       " ('alejandra', -0.18358860753312123),\n",
       " ('sortied', -0.1833662230310934),\n",
       " ('tg', -0.18318067996259324),\n",
       " ('yokosuka', -0.1827969918354262),\n",
       " ('diana', -0.18279574297453016),\n",
       " ('rebecca', -0.18275025625735386),\n",
       " ('sasebo', -0.18267386939733488),\n",
       " ('renee', -0.18258956532558823),\n",
       " ('decommissioning', -0.1822271008270715),\n",
       " ('refitted', -0.18180516909474187),\n",
       " ('oiler', -0.18164026158518587),\n",
       " ('blouse', -0.18135402308063842),\n",
       " ('allure', -0.18125305639885936),\n",
       " ('pearl', -0.18098063786435392),\n",
       " ('moorings', -0.1809287292812094),\n",
       " ('sabrina', -0.18089137190745475),\n",
       " ('svetlana', -0.18076884598301868),\n",
       " ('amy', -0.18037654181795693),\n",
       " ('funnels', -0.18033225926288),\n",
       " ('naomi', -0.18010953243958117),\n",
       " ('leah', -0.179990390605541),\n",
       " ('underway', -0.17986162199667677),\n",
       " ('minesweeper', -0.17948089501158604),\n",
       " ('nicole', -0.1792859490854407),\n",
       " ('supermodel', -0.17922692270817464),\n",
       " ('olivia', -0.17910389156363316),\n",
       " ('jennifer', -0.1784516752725116),\n",
       " ('bremerton', -0.17824425868797344),\n",
       " ('asw', -0.17822948658924853),\n",
       " ('justine', -0.17809778180302305),\n",
       " ('angelique', -0.17805500305275856),\n",
       " ('hitomi', -0.1771858536821027),\n",
       " ('rihanna', -0.17677617442783966),\n",
       " ('tina', -0.17659215864230737),\n",
       " ('sophie', -0.17592268735951988),\n",
       " ('natalya', -0.17558857499364589),\n",
       " ('gabrielle', -0.17537540846560729),\n",
       " ('refloated', -0.17462974615326465),\n",
       " ('julia', -0.17419829599927095),\n",
       " ('jessica', -0.17408945350100713),\n",
       " ('warship', -0.17398313890219785),\n",
       " ('danielle', -0.1737265998089823),\n",
       " ('starboard', -0.17367857259768693),\n",
       " ('escorts', -0.17346306406648349),\n",
       " ('breasts', -0.17290123965856008),\n",
       " ('olga', -0.17284657535090542),\n",
       " ('stephanie', -0.1726745805380261),\n",
       " ('heather', -0.17256705208017964),\n",
       " ('claudia', -0.17231872309125784),\n",
       " ('miriam', -0.172220441029588),\n",
       " ('rosie', -0.17174913163970784),\n",
       " ('caroline', -0.17163081386699708),\n",
       " ('lucy', -0.1713734624682931),\n",
       " ('christine', -0.1711779671225797),\n",
       " ('maja', -0.1710953589904246),\n",
       " ('beyoncé', -0.1706877574401322),\n",
       " ('samantha', -0.17055918143874005),\n",
       " ('betty', -0.1704859786169688),\n",
       " ('merchantman', -0.17044234178370776),\n",
       " ('rendezvoused', -0.1704116132350526),\n",
       " ('minelayer', -0.17030617148691463),\n",
       " ('antisubmarine', -0.1701446159974831),\n",
       " ('femininity', -0.1697582760436026),\n",
       " ('emmanuelle', -0.16971098567813359),\n",
       " ('kate', -0.16935970012437873),\n",
       " ('martha', -0.16920906668653735),\n",
       " ('petrova', -0.16893123897051754),\n",
       " ('eva', -0.16882352949472768),\n",
       " ('masts', -0.16857150858633096),\n",
       " ('esther', -0.1683636964780365),\n",
       " ('krista', -0.16835745075778152),\n",
       " ('haruka', -0.16830117351313678),\n",
       " ('monika', -0.16818399097658387),\n",
       " ('cheryl', -0.16756868304763572),\n",
       " ('ellen', -0.16750531499240495),\n",
       " ('joanna', -0.167489091028456),\n",
       " ('britney', -0.1673017607848608),\n",
       " ('maggie', -0.16730069519913582),\n",
       " ('kelli', -0.16698033103307697),\n",
       " ('patrolled', -0.16626713267834992),\n",
       " ('unloaded', -0.1661925231077549),\n",
       " ('katya', -0.16610586193903365),\n",
       " ('tanya', -0.16600851401351413),\n",
       " ('flirtatious', -0.1657044126050291),\n",
       " ('nathalie', -0.16567987644390203),\n",
       " ('destroyer', -0.16553377532285563),\n",
       " ('fatale', -0.16494640804429028),\n",
       " ('femme', -0.1647599842221248),\n",
       " ('melanie', -0.1645069400368968),\n",
       " ('maxine', -0.1644215851531633),\n",
       " ('marianne', -0.16393879664240363),\n",
       " ('violetta', -0.16372267521723594),\n",
       " ('emma', -0.16363779055894445),\n",
       " ('vanessa', -0.16329748174741798),\n",
       " ('torpedoed', -0.16326039890509358),\n",
       " ('josephine', -0.16325003540577587),\n",
       " ('megan', -0.16324870425649984),\n",
       " ('erika', -0.1630732142527409),\n",
       " ('promiscuity', -0.163044955181181),\n",
       " ('earrings', -0.16298917195651463),\n",
       " ('infertility', -0.16275401452211247),\n",
       " ('escort', -0.16260564510648345),\n",
       " ('miscarriage', -0.16242388964744314),\n",
       " ('kylie', -0.16222866654050216),\n",
       " ('annabelle', -0.16204292064270898),\n",
       " ('glamorous', -0.16202063714381343),\n",
       " ('bette', -0.16198341804211425),\n",
       " ('courtesan', -0.1619316649598619),\n",
       " ('irina', -0.1619054848354956),\n",
       " ('juanita', -0.16190440550331253),\n",
       " ('elena', -0.16184669459968504),\n",
       " ('guam', -0.16176662294649613),\n",
       " ('katarina', -0.16155143507795966),\n",
       " ('galina', -0.16154771546889835),\n",
       " ('cruise', -0.16130213582020636),\n",
       " ('janie', -0.16082561064771705),\n",
       " ('astrid', -0.1607564260026163),\n",
       " ('tania', -0.16066643578871664),\n",
       " ('imogen', -0.16036155370279281),\n",
       " ('christina', -0.16013754220257148),\n",
       " ('sheila', -0.1600645624113256),\n",
       " ('cervix', -0.1597809712320739),\n",
       " ('alison', -0.15970852176112238),\n",
       " ('shakedown', -0.15950008118513914),\n",
       " ('nadine', -0.15943682929196068),\n",
       " ('liza', -0.1593250690172633),\n",
       " ('inna', -0.15905886029498328),\n",
       " ('sonia', -0.1589992986182286),\n",
       " ('diane', -0.15892231856622308),\n",
       " ('alina', -0.15877813122410622),\n",
       " ('rapunzel', -0.15866313882683603),\n",
       " ('streep', -0.15858754158029809),\n",
       " ('contralto', -0.15851549498941597),\n",
       " ('tarawa', -0.1584822093060132),\n",
       " ('telenovela', -0.1584689373053425),\n",
       " ('mermaid', -0.15808782973989866),\n",
       " ('elaine', -0.15800760983368334),\n",
       " ('postpartum', -0.15795149636976757),\n",
       " ('aground', -0.1579331427713665),\n",
       " ('helen', -0.15791336260103261),\n",
       " ('ship', -0.15774844510797437),\n",
       " ('elly', -0.1577392610590853),\n",
       " ('becky', -0.15770113913628714),\n",
       " ('erica', -0.15738506041981715),\n",
       " ('callie', -0.15736167556955638),\n",
       " ('lst', -0.15723274064933945),\n",
       " ('karen', -0.15718391589801395),\n",
       " ('tatyana', -0.15691204708322992),\n",
       " ('seductive', -0.15689361002590163),\n",
       " ('lynette', -0.15665513519156093),\n",
       " ('kathy', -0.15663661767806336),\n",
       " ('adrienne', -0.15655738687553467),\n",
       " ('kristin', -0.15634527856762503),\n",
       " ('leyte', -0.1562635218107019),\n",
       " ('siti', -0.1560282066321449),\n",
       " ('michelle', -0.15593889748149725),\n",
       " ('pankhurst', -0.1558476404683976),\n",
       " ('degeneres', -0.1558148615394429),\n",
       " ('ayesha', -0.15563488199736075),\n",
       " ('simona', -0.1556065831543908),\n",
       " ('bombshell', -0.15548823601120387),\n",
       " ('recommissioned', -0.15538746828427197),\n",
       " ('lulu', -0.15536806654897495),\n",
       " ('foundered', -0.15516847615377038),\n",
       " ('aleksandra', -0.15516058133286736),\n",
       " ('alicia', -0.1550935081272371),\n",
       " ('blonde', -0.15507587894976538),\n",
       " ('westpac', -0.15466589926098173),\n",
       " ('minesweepers', -0.15447896661015637),\n",
       " ('thelma', -0.154402552984364),\n",
       " ('suzy', -0.15438174787856485),\n",
       " ('anita', -0.15436647073485388),\n",
       " ('refitting', -0.15423404869992574),\n",
       " ('tonnage', -0.1540898263976791),\n",
       " ('dinah', -0.15387892305079842),\n",
       " ('scrapping', -0.15387794348727746),\n",
       " ('elsa', -0.15361382273078394),\n",
       " ('mooring', -0.15324249009743152),\n",
       " ('maru', -0.15319680871750074),\n",
       " ('natalia', -0.15317440905147284),\n",
       " ('trish', -0.15295527376334284),\n",
       " ('jacqueline', -0.15286017468087199),\n",
       " ('ayumi', -0.15280840136463414),\n",
       " ('heidi', -0.1528043836445936),\n",
       " ('irene', -0.15278505139208265),\n",
       " ('julie', -0.1527259547168025),\n",
       " ('natasha', -0.15259153575263085),\n",
       " ('upkeep', -0.1523717854623604),\n",
       " ('heptathlon', -0.15220591679903206),\n",
       " ('mademoiselle', -0.1519825338125418),\n",
       " ('bikini', -0.15196480274834623),\n",
       " ('agnieszka', -0.1517309177138818),\n",
       " ('mimi', -0.15170860032484856),\n",
       " ('amuro', -0.15159578772677662),\n",
       " ('brigitte', -0.1515944356235157),\n",
       " ('edna', -0.15149939818934188),\n",
       " ('amelia', -0.1514529034739851),\n",
       " ('glenda', -0.1513395908222479),\n",
       " ('propellers', -0.15116052182330397),\n",
       " ('atoll', -0.15113826208582992),\n",
       " ('becca', -0.15108928718212689),\n",
       " ('lorde', -0.1510078389292394),\n",
       " ('mia', -0.1509077220496825),\n",
       " ('nikki', -0.1508855789629845),\n",
       " ('erin', -0.15087221151972585),\n",
       " ('tug', -0.1507035027323328),\n",
       " ('frida', -0.15065802605416712),\n",
       " ('replenished', -0.15064796248599732),\n",
       " ('jana', -0.1504281621936836),\n",
       " ('meg', -0.1503591385271501),\n",
       " ('drydock', -0.15028527007780068),\n",
       " ('jasmine', -0.15003226626489208),\n",
       " ('corset', -0.1500208070202974),\n",
       " ('cindy', -0.14997338365031376),\n",
       " ('sassy', -0.14994373503496328),\n",
       " ('debbie', -0.14976802639405284),\n",
       " ('therese', -0.14968710469749547),\n",
       " ('pageant', -0.14963572425843819),\n",
       " ('celine', -0.14948166775940352),\n",
       " ('cinta', -0.1494202559004425),\n",
       " ('pregnancies', -0.1493075444253007),\n",
       " ('lena', -0.14928506972375444),\n",
       " ('camila', -0.1492774866887705),\n",
       " ('leona', -0.14914657418285637),\n",
       " ('patricia', -0.14887217130648367),\n",
       " ('bernadette', -0.14885313055735594),\n",
       " ('wta', -0.1488036174822437),\n",
       " ('submerged', -0.14880203133629177),\n",
       " ('sunk', -0.1487781762568916),\n",
       " ('unborn', -0.14862322637378445),\n",
       " ('honshū', -0.14856542023802066),\n",
       " ('capsized', -0.1485584733739418),\n",
       " ('midwife', -0.1482327515473747),\n",
       " ('chloe', -0.14821695706368987),\n",
       " ('viki', -0.1482054255425348),\n",
       " ('hortense', -0.14809392169936164),\n",
       " ('esquimalt', -0.1480759811373139),\n",
       " ('michaela', -0.14803642256881944),\n",
       " ('renata', -0.14793338548587398),\n",
       " ('marianas', -0.14792954438887995),\n",
       " ('titleholder', -0.1479141530162975),\n",
       " ('ekaterina', -0.14786181425563105),\n",
       " ('kesha', -0.14779407186445936),\n",
       " ('glamour', -0.14776070429318267),\n",
       " ('berthed', -0.1476820738341207),\n",
       " ('marina', -0.14761015462022686),\n",
       " ('lorena', -0.14757002333313518),\n",
       " ('lili', -0.14737828418814858),\n",
       " ('ellie', -0.14736140705019196),\n",
       " ('teen', -0.14725857382146756),\n",
       " ('bridal', -0.14718203903504457),\n",
       " ('paula', -0.14717901760345087),\n",
       " ('monique', -0.1471410293051525),\n",
       " ('hattie', -0.14694908698285114),\n",
       " ('trimester', -0.14692354851220002),\n",
       " ('hayley', -0.1468522911124721),\n",
       " ('janine', -0.14683324133805264),\n",
       " ('sally', -0.14679304090534762),\n",
       " ('decommissioned', -0.1467346585487438),\n",
       " ('sasha', -0.14671830657395757),\n",
       " ('gymnast', -0.1466813931675921),\n",
       " ('yvonne', -0.14668056385460015),\n",
       " ('uss', -0.14649386136949694),\n",
       " ('magda', -0.1464473322830251),\n",
       " ('forecastle', -0.14642808864953782),\n",
       " ('prostitute', -0.1462253521758129),\n",
       " ('scarlett', -0.14615486446249448),\n",
       " ('dianne', -0.14603524305941906),\n",
       " ('kathleen', -0.14590021194861347),\n",
       " ('fetus', -0.14575778594572553),\n",
       " ('enchantment', -0.14562018758340567),\n",
       " ('baby', -0.14546813718667728),\n",
       " ('celia', -0.14528101320763942),\n",
       " ('cleo', -0.14519731564899463),\n",
       " ('mv', -0.1451834077306663),\n",
       " ('monica', -0.1451509486120528),\n",
       " ('bianca', -0.1451310246366656),\n",
       " ('kittens', -0.1449741318914899),\n",
       " ('comforted', -0.14490483291877876),\n",
       " ('claire', -0.1449044569343484),\n",
       " ('troopship', -0.14489811347051174),\n",
       " ('greta', -0.14489333199175614),\n",
       " ('hijab', -0.14485958708266322),\n",
       " ('sank', -0.14452808642130166),\n",
       " ('linda', -0.14445223622072279),\n",
       " ('isabelle', -0.1442064806955098),\n",
       " ('morissette', -0.1441731729251976),\n",
       " ('cora', -0.1441725115187228),\n",
       " ('ciara', -0.14413404691367238),\n",
       " ('yelena', -0.14380832904250995),\n",
       " ('kyoko', -0.14367138309056238),\n",
       " ('faithfull', -0.1436397112602097),\n",
       " ('sienna', -0.14350279437391855),\n",
       " ('okinawa', -0.1433968504922266),\n",
       " ('commissioning', -0.14332540176527386),\n",
       " ('dower', -0.1432726647692213),\n",
       " ('menstrual', -0.14325726825852292),\n",
       " ('yolanda', -0.14318012624735565),\n",
       " ('faints', -0.14316062753329772),\n",
       " ('claudine', -0.1429611484682478),\n",
       " ('roberta', -0.1429523451853414),\n",
       " ('nita', -0.14290612557366322),\n",
       " ('katharine', -0.1428425872377247),\n",
       " ('wollstonecraft', -0.14279603367608806),\n",
       " ('alisa', -0.14274318624488924),\n",
       " ('valentina', -0.1427345070928132),\n",
       " ('faye', -0.14258178416277179),\n",
       " ('tenchi', -0.14247688868304198),\n",
       " ('anorexia', -0.14243303997969115),\n",
       " ('liz', -0.142338100687056),\n",
       " ('yasmin', -0.14230729499591976),\n",
       " ('nora', -0.14225129629053057),\n",
       " ('sylvia', -0.14223634214322667),\n",
       " ('mariah', -0.14222907681923047),\n",
       " ('vessel', -0.14209704701543924),\n",
       " ('camilla', -0.14209382090063483),\n",
       " ('mindy', -0.142052271079526),\n",
       " ('simone', -0.14201290482386686),\n",
       " ('angela', -0.14183231759731973),\n",
       " ('itf', -0.1417860822372552),\n",
       " ('alanis', -0.14177314336193103),\n",
       " ('melina', -0.14176119237421314),\n",
       " ('bella', -0.14166084251175648),\n",
       " ('sandra', -0.1416297523004032),\n",
       " ('hamasaki', -0.14162390484816745),\n",
       " ('annette', -0.14159157252457888),\n",
       " ('nancy', -0.14148411477596656),\n",
       " ('gerda', -0.1414822888022248),\n",
       " ('paige', -0.1413778894098514),\n",
       " ('cleavage', -0.1412379884369781),\n",
       " ('stella', -0.14122784417966083),\n",
       " ('fleur', -0.14104295356219865),\n",
       " ('nadia', -0.14102207078876772),\n",
       " ('molly', -0.1409560477308346),\n",
       " ('avex', -0.14087447259480568),\n",
       " ('adela', -0.14087175890026893),\n",
       " ('leanne', -0.140860876872146),\n",
       " ('marlene', -0.14077136026628345),\n",
       " ('sylvie', -0.14075418700155606),\n",
       " ('annabel', -0.14074097635517224),\n",
       " ('nisha', -0.14068030409475707),\n",
       " ('sealift', -0.14062932471473122),\n",
       " ('lauper', -0.14051316670680347),\n",
       " ('madeline', -0.14034454717570488),\n",
       " ('circe', -0.14034450171808832),\n",
       " ('meryl', -0.14024028293838386),\n",
       " ('nervosa', -0.14017293688753463),\n",
       " ('homeward', -0.14016152265990034),\n",
       " ('marilyn', -0.1401529781149008),\n",
       " ('lizzie', -0.1400886597092056),\n",
       " ('radwańska', -0.1400419301828898),\n",
       " ('belinda', -0.13995426126192534),\n",
       " ('tow', -0.13992313336175655),\n",
       " ('vivienne', -0.13988105215893842),\n",
       " ('carly', -0.13987805717721014),\n",
       " ('duet', -0.13982943013545324),\n",
       " ('mizuki', -0.13978718950180102),\n",
       " ('kirsten', -0.13971373376589458),\n",
       " ('genevieve', -0.13942200140797478),\n",
       " ('selina', -0.1394074767338267),\n",
       " ('peggy', -0.13939622870456714),\n",
       " ('stena', -0.13928563914137537),\n",
       " ('jill', -0.13917149672369133),\n",
       " ('valerie', -0.13911553555882739),\n",
       " ('fey', -0.13904870287053717),\n",
       " ('lexi', -0.1390344172999317),\n",
       " ('laila', -0.13874163245493443),\n",
       " ('sails', -0.13874136557511685),\n",
       " ('margo', -0.13872711884050282),\n",
       " ('gina', -0.13872080786786112),\n",
       " ('swimwear', -0.13859792243773172),\n",
       " ('anchored', -0.13856338610706354),\n",
       " ('necklace', -0.13844534063950686),\n",
       " ('menstruation', -0.1382990273515856),\n",
       " ('fragrance', -0.13820414486258614),\n",
       " ('veolia', -0.13819818812486906),\n",
       " ('transgender', -0.13817045313486642),\n",
       " ('billie', -0.13806392451924243),\n",
       " ('hannah', -0.13801624863671635),\n",
       " ('sara', -0.13788853893692987),\n",
       " ('anna', -0.13786333313919652),\n",
       " ('marie', -0.13783832974585697),\n",
       " ('donna', -0.13774749424728072),\n",
       " ('espiritu', -0.13774254713849898),\n",
       " ('icebreakers', -0.1376995666515558),\n",
       " ('akiko', -0.13761131915889835),\n",
       " ('sarah', -0.13748771066969645),\n",
       " ('ophelia', -0.13737913667686252),\n",
       " ('cassandra', -0.13733963793233595),\n",
       " ('kathryn', -0.1373340285654181),\n",
       " ('harbor', -0.13729680678274736),\n",
       " ('battleships', -0.1372905766310858),\n",
       " ('brunette', -0.1371562790516584),\n",
       " ('henriette', -0.13712553462352473),\n",
       " ('breakwater', -0.13710719360592782),\n",
       " ('hingis', -0.13702612340547715),\n",
       " ('anchors', -0.13678943823664902),\n",
       " ('tugs', -0.13660099626898237),\n",
       " ('karina', -0.13644832147276864),\n",
       " ('amina', -0.1363406403625167),\n",
       " ('dollhouse', -0.1362629412981866),\n",
       " ('gwyneth', -0.13623028722501296),\n",
       " ('sandhya', -0.13620172153972143),\n",
       " ('elizabeth', -0.13619495615891208),\n",
       " ('mangeshkar', -0.13618678169301957),\n",
       " ('sharapova', -0.13618642318209273),\n",
       " ('doris', -0.1361782905455322),\n",
       " ('fernanda', -0.13614516945107336),\n",
       " ('scherzinger', -0.13614425476867908),\n",
       " ('glycol', -0.1360788594125295),\n",
       " ('escorted', -0.13601666383611177),\n",
       " ('minogue', -0.1360002192393912),\n",
       " ('lillian', -0.13598211006452254),\n",
       " ('jelena', -0.13592654575159135),\n",
       " ('reclassified', -0.1359176569393057),\n",
       " ('hadassah', -0.13582526518202576),\n",
       " ('lisa', -0.13580372897365733),\n",
       " ('phoebe', -0.13579378793938013),\n",
       " ('beauty', -0.1357227899943485),\n",
       " ('lola', -0.13570645172547202),\n",
       " ('melissa', -0.1356519906544652),\n",
       " ('schooner', -0.13564705346479522),\n",
       " ('rudders', -0.13563486443428419),\n",
       " ('marsha', -0.1354641190182464),\n",
       " ('shimmer', -0.13538026058067743),\n",
       " ('sheerness', -0.13536031890572986),\n",
       " ('sudha', -0.13530934359990143),\n",
       " ('martine', -0.1352451589208642),\n",
       " ('keel', -0.1352400042835351),\n",
       " ('irma', -0.13515483896662095),\n",
       " ('amethyst', -0.13510463985292076),\n",
       " ('cher', -0.13501792962835635),\n",
       " ('emerita', -0.1349478046073791),\n",
       " ('frigate', -0.13481040592050408),\n",
       " ('madeleine', -0.13479144605531557),\n",
       " ('norma', -0.13465826869137987),\n",
       " ('sadie', -0.134643913284472),\n",
       " ('zara', -0.13458309684050496),\n",
       " ('zsa', -0.13456304442182188),\n",
       " ('kimberly', -0.134549536411408),\n",
       " ('eugenie', -0.13453209120324638),\n",
       " ('rosemary', -0.13445716414930697),\n",
       " ('skirt', -0.13442362117123885),\n",
       " ('mona', -0.13425133827756697),\n",
       " ('sia', -0.13424575561795282),\n",
       " ('helene', -0.13419095548123128),\n",
       " ('sensuality', -0.13416873689526088),\n",
       " ('promiscuous', -0.13403453839339396),\n",
       " ('filipina', -0.13397966862649036),\n",
       " ('cathy', -0.1339248042074993),\n",
       " ('agnes', -0.13392084160814388),\n",
       " ('joanne', -0.133883094445014),\n",
       " ('capes', -0.13383673335491875),\n",
       " ('rosanna', -0.13376976990849154),\n",
       " ('kure', -0.1337149743172883),\n",
       " ('kristine', -0.13369031028081646),\n",
       " ('mistral', -0.1336118188147446),\n",
       " ('oftentimes', -0.133607449811177),\n",
       " ('lohan', -0.13358259697829467),\n",
       " ('kana', -0.13357821654725954),\n",
       " ('stratus', -0.13348368221096918),\n",
       " ('batgirl', -0.13344121807432696),\n",
       " ('tanker', -0.13340026777578673),\n",
       " ('lingayen', -0.13339463814800812),\n",
       " ('buoys', -0.13334979431014038),\n",
       " ('manus', -0.1332581618053421),\n",
       " ('antiaircraft', -0.13314607737228645),\n",
       " ('bree', -0.1330918574978126),\n",
       " ('ethel', -0.13304892496339016),\n",
       " ('milly', -0.13292944281923902),\n",
       " ('eloise', -0.13290218174200819),\n",
       " ('cécile', -0.13286292470616012),\n",
       " ('escorting', -0.13280678077939168),\n",
       " ('joan', -0.13276948529100008),\n",
       " ('chanel', -0.1327039499270205),\n",
       " ('shakira', -0.1325744102106512),\n",
       " ('stacey', -0.13257286522192713),\n",
       " ('raquel', -0.13247442740661275),\n",
       " ('abby', -0.13246561117704625),\n",
       " ('ingrid', -0.13243940414223798),\n",
       " ('kayla', -0.13240343975838853),\n",
       " ('ships', -0.13232636015796628),\n",
       " ('towed', -0.13231918154545985),\n",
       " ('lipstick', -0.13226205955726766),\n",
       " ('rms', -0.13220920973251515),\n",
       " ('freya', -0.1320851263534195),\n",
       " ('bartoli', -0.1320579230667217),\n",
       " ('patty', -0.1319916308191964),\n",
       " ('gabriella', -0.1319797572032947),\n",
       " ('sultana', -0.13196718289413856),\n",
       " ('grt', -0.13190644155831044),\n",
       " ('karin', -0.13187542792602536),\n",
       " ('ursuline', -0.1317828872982113),\n",
       " ('berenice', -0.13171475519567044),\n",
       " ('leyla', -0.13171410796645655),\n",
       " ('ella', -0.1316456607674601),\n",
       " ('margaret', -0.13149242199951194),\n",
       " ('maxie', -0.13149192582819436),\n",
       " ('amélie', -0.13146752406822737),\n",
       " ('vivien', -0.13144151117401592),\n",
       " ('susanne', -0.13142676402706988),\n",
       " ('daria', -0.1314134258550549),\n",
       " ('ywca', -0.1313461714544819),\n",
       " ('ursula', -0.13133016293906807),\n",
       " ('kitty', -0.13129578054207325),\n",
       " ('leila', -0.1312860523457161),\n",
       " ('fashion', -0.13128252592309408),\n",
       " ('gemma', -0.13124988141036098),\n",
       " ('anya', -0.13122674747999652),\n",
       " ('heartbroken', -0.13101865365956566),\n",
       " ('harriet', -0.13076021258028236),\n",
       " ('silvia', -0.13074522699886615),\n",
       " ('eileen', -0.13064286732175745),\n",
       " ('deborah', -0.13059871515345167),\n",
       " ('lolita', -0.1305538921259587),\n",
       " ('serena', -0.13054685098382146),\n",
       " ('anastasia', -0.13049883053691547),\n",
       " ('steph', -0.13049645283291444),\n",
       " ('truk', -0.1304856724216642),\n",
       " ('frau', -0.13043259586594613),\n",
       " ('lucille', -0.13031889386954143),\n",
       " ('shawl', -0.13029065787012128),\n",
       " ('candace', -0.13025554823686536),\n",
       " ('johanna', -0.13002885657493246),\n",
       " ('begum', -0.13000601199989692),\n",
       " ('hera', -0.1299873277783139),\n",
       " ('sissy', -0.1299652173177961),\n",
       " ('eleanor', -0.12990678152451052),\n",
       " ('carriers', -0.12984134615719978),\n",
       " ('midler', -0.12981380259785713),\n",
       " ('coco', -0.12979890145190276),\n",
       " ('navratilova', -0.12976716233246366),\n",
       " ('bretagne', -0.1296690990537962),\n",
       " ('dioecious', -0.12965214858169105),\n",
       " ('jeanne', -0.12961879806274867),\n",
       " ('connie', -0.12958147622846272),\n",
       " ('brooch', -0.12945819525820335),\n",
       " ('betrothal', -0.1294075503505695),\n",
       " ('janelle', -0.12940453879841318),\n",
       " ('ivana', -0.12939332045076757),\n",
       " ('ashley', -0.12935615832523395),\n",
       " ('brooke', -0.1293001699898808),\n",
       " ('lilith', -0.12925921864835932),\n",
       " ('hildegard', -0.12925330174215),\n",
       " ('karolina', -0.12922246760264655),\n",
       " ('dagmar', -0.12920400582244973),\n",
       " ('rhoda', -0.12909304143086076),\n",
       " ('cruised', -0.1290842376277117),\n",
       " ('towing', -0.12897719538771446),\n",
       " ('waterline', -0.12896598299343776),\n",
       " ('elle', -0.12890419266343445),\n",
       " ('cruises', -0.12889270502544803),\n",
       " ('suzanne', -0.12888937798667088),\n",
       " ('carlotta', -0.12882421193366966),\n",
       " ('hilde', -0.12882278739620234),\n",
       " ('zainab', -0.1288066782178524),\n",
       " ('katherine', -0.12865805335323444),\n",
       " ('rina', -0.12863381312792055),\n",
       " ('vera', -0.1285318044790691),\n",
       " ('mujer', -0.1284667062370941),\n",
       " ('denise', -0.12844940089229828),\n",
       " ('vogue', -0.12842546449227965),\n",
       " ('demi', -0.12831499172475114),\n",
       " ('carrie', -0.12829517900118437),\n",
       " ('singer', -0.12807610731968366),\n",
       " ('sailed', -0.12803961924284069),\n",
       " ('ruth', -0.1280042142014275),\n",
       " ('josie', -0.12791238219634726),\n",
       " ('betsy', -0.12786854345311371),\n",
       " ('aida', -0.12785373629168717),\n",
       " ('shruti', -0.1278295190424843),\n",
       " ('flirts', -0.1278253240506304),\n",
       " ('cherbourg', -0.12780295496855154),\n",
       " ('roseanne', -0.12778897985808668),\n",
       " ('tanja', -0.12770409757448764),\n",
       " ('rigging', -0.12767920693388723),\n",
       " ('robyn', -0.12760493438169673),\n",
       " ('jodie', -0.1274027997532433),\n",
       " ('ingeborg', -0.12731598089646068),\n",
       " ('charlene', -0.12726994244691892),\n",
       " ('dench', -0.1271848120348028),\n",
       " ('casemates', -0.12718430486938492),\n",
       " ('mujeres', -0.1271359200057447),\n",
       " ('unloading', -0.12710127475718425),\n",
       " ('gail', -0.12708702951191753),\n",
       " ('parenting', -0.12699683644235582),\n",
       " ('persephone', -0.12695225342442096),\n",
       " ('sexy', -0.12694934702789884),\n",
       " ('pamela', -0.1269081549627893),\n",
       " ('ovaries', -0.1269016723887103),\n",
       " ('lydia', -0.1268205283661672),\n",
       " ('feminists', -0.12671346905640513),\n",
       " ('sonja', -0.12670272633935376),\n",
       " ('femina', -0.12660997353593617),\n",
       " ('topless', -0.12651367273606928),\n",
       " ('queenie', -0.12648849796776718),\n",
       " ('dahlia', -0.12643893125607408),\n",
       " ('divas', -0.12637089738918483),\n",
       " ('marguerite', -0.12634894828634524),\n",
       " ('cassie', -0.12622094861192112),\n",
       " ('zoe', -0.1262196544202968),\n",
       " ('cookbooks', -0.12618371877758727),\n",
       " ('roxy', -0.1259618442357141),\n",
       " ('scotties', -0.12580692640149382),\n",
       " ('caitlin', -0.1258046685997003),\n",
       " ('roofline', -0.12579037822469274),\n",
       " ('berthing', -0.12574451630762407),\n",
       " ('musume', -0.1257368407137398),\n",
       " ('renée', -0.1257242459230159),\n",
       " ('dorothy', -0.12572283724660294),\n",
       " ('hilda', -0.1256885983783782),\n",
       " ('rita', -0.1256651161797011),\n",
       " ('alyssa', -0.12566161513254037),\n",
       " ('bridget', -0.1255918173292767),\n",
       " ('stefani', -0.12559166729554627),\n",
       " ('kumari', -0.1255733125253229),\n",
       " ('candice', -0.12554862357902796),\n",
       " ('wilhelmina', -0.12546289745053885),\n",
       " ('brandi', -0.1254316642734229),\n",
       " ('azalea', -0.12526157358300938),\n",
       " ('adele', -0.1252547433356146),\n",
       " ('celeste', -0.12512050883389036),\n",
       " ('janice', -0.12508793946689922),\n",
       " ('carla', -0.12502108635655662),\n",
       " ('spouse', -0.12501271260478397),\n",
       " ('audrey', -0.12499577622372826),\n",
       " ('shafts', -0.12491989080700006),\n",
       " ('yui', -0.12485071962026839),\n",
       " ('transiting', -0.12484137169023579),\n",
       " ('sofía', -0.12483959445537463),\n",
       " ('battlecruiser', -0.12480354832440088),\n",
       " ('kardashian', -0.12475826436721915),\n",
       " ('paloma', -0.12467775937531578),\n",
       " ('jeanette', -0.12462433393913996),\n",
       " ('typhoon', -0.1246133610087028),\n",
       " ('mitosis', -0.12459129517084233),\n",
       " ('ramona', -0.12456845091204649),\n",
       " ('germaine', -0.1245577558265003),\n",
       " ('usha', -0.12451060974853556),\n",
       " ('sinking', -0.12447902051911885),\n",
       " ('catwalk', -0.12445521200830811),\n",
       " ('myra', -0.12443265561740147),\n",
       " ('pageants', -0.12438625514930879),\n",
       " ('veils', -0.12418455827260688),\n",
       " ('rosalie', -0.12417257321316832),\n",
       " ('céline', -0.12416441067277484),\n",
       " ('susannah', -0.12413549991202832),\n",
       " ('jenna', -0.12410712810325919),\n",
       " ('constance', -0.124100351055494),\n",
       " ('amphibious', -0.12408746876906063),\n",
       " ('doreen', -0.12408534574934282),\n",
       " ('lavigne', -0.12407202981598198),\n",
       " ('gretchen', -0.12402300608377437),\n",
       " ('gillian', -0.12384257389072517),\n",
       " ('medea', -0.12377441755506724),\n",
       " ('lata', -0.12376372857930562),\n",
       " ('angie', -0.12369075522635498),\n",
       " ('tabitha', -0.12366838993504947),\n",
       " ('parton', -0.12364980023245409),\n",
       " ('phyllis', -0.12362711623200806),\n",
       " ('tankers', -0.12355934387832046),\n",
       " ('nontrivial', -0.12355532033173766),\n",
       " ('yulia', -0.12354009064436178),\n",
       " ('aphrodite', -0.12349412281000571),\n",
       " ('edith', -0.12348197034683528),\n",
       " ('millicent', -0.12347428318060394),\n",
       " ('fiona', -0.12346690820721529),\n",
       " ('quilts', -0.1234611994311069),\n",
       " ('yumi', -0.12341311505739261),\n",
       " ('mattie', -0.12341163461583093),\n",
       " ('suffragist', -0.12324397549081434),\n",
       " ('kara', -0.12319525198216308),\n",
       " ('cynthia', -0.12317825619341805),\n",
       " ('empowerment', -0.1231764131403601),\n",
       " ('prue', -0.12316085486403039),\n",
       " ('jima', -0.12311696417936602),\n",
       " ('gowns', -0.1230894048595651),\n",
       " ('hollandia', -0.12306651594774054),\n",
       " ('daphne', -0.12304646789820861),\n",
       " ('dolly', -0.12302488609866402),\n",
       " ('seduces', -0.12299454178977565),\n",
       " ('hulls', -0.12290598254448448),\n",
       " ('overhaul', -0.12289974750866894),\n",
       " ('rayne', -0.12289258949089221),\n",
       " ('casco', -0.1228875136195855),\n",
       " ('playmate', -0.1228697222020183),\n",
       " ('cosmetics', -0.12284038459062518),\n",
       " ('breastfeeding', -0.12274926667281949),\n",
       " ('momo', -0.12270461279040168),\n",
       " ('lenore', -0.1226979673632772),\n",
       " ('braided', -0.12269569304505223),\n",
       " ('beatriz', -0.1226783522918733),\n",
       " ('tricia', -0.12259118385134826),\n",
       " ('rimes', -0.12258171569818221),\n",
       " ('maersk', -0.12257116290557968),\n",
       " ('chantal', -0.12256710665349269),\n",
       " ('blige', -0.1225653499861562),\n",
       " ('wendy', -0.12252224102882125),\n",
       " ('bubblegum', -0.1223640447662574),\n",
       " ('feminine', -0.12232380190969228),\n",
       " ('nell', -0.12231261102208146),\n",
       " ('gwen', -0.12225879607043988),\n",
       " ('franky', -0.122239173977437),\n",
       " ('nipple', -0.12216855425105266),\n",
       " ('paulina', -0.12210022486906535),\n",
       " ('adria', -0.12193875013583921),\n",
       " ('radiance', -0.12192678650452038),\n",
       " ('elisa', -0.12192636312509286),\n",
       " ('sinead', -0.12184078762494532),\n",
       " ('inga', -0.12173083345781),\n",
       " ('angelina', -0.12171791543536692),\n",
       " ('lily', -0.12170698830795035),\n",
       " ('rachael', -0.12162249610793252),\n",
       " ('knots', -0.12159926617243388),\n",
       " ('tallulah', -0.12153887574444511),\n",
       " ('kristen', -0.12149966594349926),\n",
       " ('nadezhda', -0.12145549203800787),\n",
       " ('imelda', -0.1214474564556366),\n",
       " ('tearful', -0.12140428758984834),\n",
       " ('trawlers', -0.12138283411257189),\n",
       " ('meera', -0.12132302567071118),\n",
       " ('jetty', -0.12127549839987706),\n",
       " ('suzie', -0.1212711809686624),\n",
       " ('jolie', -0.12124332039727881),\n",
       " ('sexism', -0.12123321587996971),\n",
       " ('brenda', -0.12111838796516528),\n",
       " ('refresher', -0.121091730556255),\n",
       " ('elsie', -0.12102297567632803),\n",
       " ('earhart', -0.12101404788459746),\n",
       " ('dancer', -0.12100405027072614),\n",
       " ('lana', -0.12099720117554191),\n",
       " ('nurse', -0.12097890805438682),\n",
       " ('feelings', -0.12097496731635915),\n",
       " ('scharnhorst', -0.12097482978637641),\n",
       " ('cyndi', -0.12096585240923918),\n",
       " ('corinne', -0.12093910461666024),\n",
       " ('mandy', -0.1208763950691345),\n",
       " ('perfume', -0.12084518915003684),\n",
       " ('judy', -0.1208211359672926),\n",
       " ('wilhelmshaven', -0.12071135010242173),\n",
       " ('destroyers', -0.12066659689576009),\n",
       " ('pippa', -0.12065303482080025),\n",
       " ('cecily', -0.1206304122495907),\n",
       " ('abigail', -0.120588473130405),\n",
       " ('elisabeth', -0.12058499069586848),\n",
       " ('quiero', -0.12056886770937991),\n",
       " ('sweeps', -0.12049652408586264),\n",
       " ('colette', -0.12040549751516727),\n",
       " ('anchorage', -0.1204001283585937),\n",
       " ('jillian', -0.1203968834226381),\n",
       " ('minaj', -0.12038351608921427),\n",
       " ('chiara', -0.12031552665488998),\n",
       " ('infanticide', -0.12030908397173856),\n",
       " ('bettina', -0.12024672405119818),\n",
       " ('keri', -0.12020836298151116),\n",
       " ('siblings', -0.12016866346892174),\n",
       " ('felicia', -0.12011102493820436),\n",
       " ('locket', -0.12007997206145071),\n",
       " ('nandini', -0.12007168929565182),\n",
       " ('reassures', -0.12001060307352163),\n",
       " ('cilla', -0.11996107466330397),\n",
       " ('receptionist', -0.11990952023833423),\n",
       " ('virgen', -0.11989042927512727),\n",
       " ('beached', -0.1198774928790951),\n",
       " ('rin', -0.11987530562307191),\n",
       " ('ingraham', -0.11985943712288627),\n",
       " ('blanche', -0.11977314390233007),\n",
       " ('lucrezia', -0.11975972681928526),\n",
       " ('susie', -0.11975604552323449),\n",
       " ('xena', -0.11975439230789064),\n",
       " ('julianne', -0.11975241567585615),\n",
       " ('picket', -0.11971437432746401),\n",
       " ('ginny', -0.1197014012660389),\n",
       " ('sheena', -0.11967441393329548),\n",
       " ('sappho', -0.11964903944531635),\n",
       " ('annie', -0.11955787722343392),\n",
       " ('infidelity', -0.11953653484730142),\n",
       " ('carolyn', -0.11940732011216237),\n",
       " ('suffragette', -0.1193458389266927),\n",
       " ('mermaids', -0.11933278879067233),\n",
       " ('irena', -0.11929252753908137),\n",
       " ('madge', -0.11924812663214646),\n",
       " ('wilma', -0.11922455920491115),\n",
       " ('lucinda', -0.11906832079358942),\n",
       " ('contestant', -0.11900056172322437),\n",
       " ('adriana', -0.11894926662601535),\n",
       " ('whore', -0.11893767564655122),\n",
       " ('priya', -0.11893042283756095),\n",
       " ('petite', -0.11891595378735231),\n",
       " ('trawler', -0.11891469918213282),\n",
       " ('louisa', -0.11882957197560795),\n",
       " ('redhead', -0.1188273570133298),\n",
       " ('aaliyah', -0.11880271756601202),\n",
       " ('lotta', -0.11874253126787082),\n",
       " ('christening', -0.11864365998227933),\n",
       " ('extensible', -0.1186275962777128),\n",
       " ('velma', -0.11862724313890194),\n",
       " ('amidships', -0.11858142145717088),\n",
       " ('francisca', -0.11856143209881653),\n",
       " ('marissa', -0.11854735593053745),\n",
       " ('luisa', -0.11849185360444603),\n",
       " ('kirsty', -0.11846902685384175),\n",
       " ('necklaces', -0.11845992518475623),\n",
       " ('lorna', -0.11844802587724312),\n",
       " ('ní', -0.11838027717610133),\n",
       " ('sterilized', -0.11828515785536575),\n",
       " ('mme', -0.11822673275387952),\n",
       " ('maud', -0.11821650817163065),\n",
       " ('lucretia', -0.11820661456760317),\n",
       " ('pola', -0.11818872787887513),\n",
       " ('polly', -0.11806141176944074),\n",
       " ('lia', -0.11802233106177829),\n",
       " ('fanny', -0.11800345995662098),\n",
       " ('suman', -0.11792560415113507),\n",
       " ('polaris', -0.11791236320253651),\n",
       " ('sophia', -0.11787948842397555),\n",
       " ('ovarian', -0.11773622561786257),\n",
       " ('estelle', -0.11767702422508508),\n",
       " ('mawr', -0.11758745740856458),\n",
       " ('minnelli', -0.11750463163017655),\n",
       " ('dido', -0.11746110451674241),\n",
       " ('tugboat', -0.11745266956546263),\n",
       " ('anchor', -0.11744770476914912),\n",
       " ('nouméa', -0.11741238697049916),\n",
       " ('carina', -0.11737740309683364),\n",
       " ('janeway', -0.11734839024750698),\n",
       " ('mms', -0.11725454157564918),\n",
       " ('telemundo', -0.11723170190851695),\n",
       " ('gilda', -0.11720147828951899),\n",
       " ('eliza', -0.11716191215082572),\n",
       " ('inactivation', -0.1171501504585597),\n",
       " ('doña', -0.11713487574909531),\n",
       " ('cece', -0.1171231470703269),\n",
       " ('torpedoes', -0.1170637908717308),\n",
       " ('tamara', -0.11702050000613595),\n",
       " ('lavinia', -0.11701137954473084),\n",
       " ('carrier', -0.11700329770571216),\n",
       " ('cleopatra', -0.11692185719700865),\n",
       " ('ligase', -0.1168581159560087),\n",
       " ('unload', -0.11680510967477176),\n",
       " ('marries', -0.11677312723834621),\n",
       " ('stosur', -0.11674038879710957),\n",
       " ('ironclad', -0.11672521585331241),\n",
       " ('erotic', -0.11662429951915332),\n",
       " ('casemate', -0.11659662523529069),\n",
       " ('scissor', -0.11658894462633573),\n",
       " ('distraught', -0.11658188096316358),\n",
       " ('raked', -0.11656866860526205),\n",
       " ('janet', -0.11652915996501667),\n",
       " ('alexandra', -0.11652517385556849),\n",
       " ('tearfully', -0.11650854210910422),\n",
       " ('selene', -0.11642183189225075),\n",
       " ('brie', -0.11641990817067593),\n",
       " ('winehouse', -0.11638963210947573),\n",
       " ('stylist', -0.11637706987772167),\n",
       " ('mariana', -0.1163327054801715),\n",
       " ('francesca', -0.11632784762187609),\n",
       " ('judith', -0.11618826926183612),\n",
       " ('shima', -0.11618404455581166),\n",
       " ('streisand', -0.11616588442794495),\n",
       " ('wnba', -0.11616053687432604),\n",
       " ('infanta', -0.11615665486369608),\n",
       " ('agatha', -0.11615341483863006),\n",
       " ('battleship', -0.11605265304558321),\n",
       " ('rcn', -0.1160420819039858),\n",
       " ('chrissie', -0.11592180909631555),\n",
       " ('reba', -0.11589073237970016),\n",
       " ('thea', -0.11583066484426952),\n",
       " ('sunita', -0.11578378841715664),\n",
       " ('clijsters', -0.11575973795345273),\n",
       " ('gigi', -0.11569958609135689),\n",
       " ('paola', -0.11568129322969123),\n",
       " ('foal', -0.11563479883696692),\n",
       " ('isabel', -0.1156193681162887),\n",
       " ('moonstone', -0.11561526177625647),\n",
       " ('seema', -0.11560742731419282),\n",
       " ('electropop', -0.11559356054494607),\n",
       " ('salome', -0.11555305483074352),\n",
       " ('childcare', -0.1155467456820225),\n",
       " ('cristina', -0.11550804000273152),\n",
       " ('pussycat', -0.11544083583519427),\n",
       " ('infertile', -0.11541666687142138),\n",
       " ('emilie', -0.11541271207864467),\n",
       " ('sailing', -0.11537926103154283),\n",
       " ('puget', -0.11529542079436417),\n",
       " ('tiffany', -0.1151900541373102),\n",
       " ('kisses', -0.11516390272764865),\n",
       " ('anne', -0.11513139389386029),\n",
       " ('patti', -0.11512358664962852),\n",
       " ('slaps', -0.11499244263298203),\n",
       " ('gossip', -0.1149864087007284),\n",
       " ('ironclads', -0.11498088254342942),\n",
       " ('artemis', -0.1149546789078556),\n",
       " ('giselle', -0.11492536418024546),\n",
       " ('tvb', -0.11488048622513647),\n",
       " ('tia', -0.11486793887602875),\n",
       " ('erinsborough', -0.11486633376557964),\n",
       " ('dresses', -0.11471436805829271),\n",
       " ('ferried', -0.11460685057357767),\n",
       " ('jayne', -0.11460088706491789),\n",
       " ('leonora', -0.11459310144387946),\n",
       " ('belén', -0.11458349465220108),\n",
       " ('helga', -0.11457385515833318),\n",
       " ('seagull', -0.11449179326513792),\n",
       " ('reactivation', -0.11448515661200309),\n",
       " ('salma', -0.11447890403935335),\n",
       " ('augusta', -0.11444124103056008),\n",
       " ('gisela', -0.11443392714298195),\n",
       " ('vessels', -0.11440743137117149),\n",
       " ('bea', -0.11439102755552288),\n",
       " ('doll', -0.1143491715504944),\n",
       " ('nadh', -0.11431060451877606),\n",
       " ('titania', -0.1142758785263489),\n",
       " ('utada', -0.11425876331766349),\n",
       " ('bethany', -0.11423639981713607),\n",
       " ('callas', -0.1142202919350156),\n",
       " ('mildred', -0.11419924424924688),\n",
       " ('eunice', -0.11412895613584562),\n",
       " ('corvettes', -0.11412400619901764),\n",
       " ('bremerhaven', -0.11408274753595227),\n",
       " ('priyanka', -0.11407704789800288),\n",
       " ('sledge', -0.11398747173046331),\n",
       " ('supergirl', -0.11398639554422807),\n",
       " ('comforting', -0.11398061790410807),\n",
       " ('transsexual', -0.11395246393759784),\n",
       " ('bebe', -0.11394004617897047),\n",
       " ('steamer', -0.11383422508896035),\n",
       " ('inés', -0.11382266873474045),\n",
       " ('izumi', -0.11381186908665453),\n",
       " ('dolls', -0.11380712025374651),\n",
       " ('brightman', -0.1137436872691231),\n",
       " ('sew', -0.1136992806335716),\n",
       " ('ada', -0.11366212267419407),\n",
       " ('oprah', -0.11365896044872748),\n",
       " ('lifeboats', -0.11361713851375188),\n",
       " ('turrets', -0.11360123858657678),\n",
       " ('barbra', -0.1135968127135174),\n",
       " ('housekeeper', -0.11357098696221546),\n",
       " ('juliet', -0.11335220211738417),\n",
       " ('fhm', -0.11333835597044994),\n",
       " ('ivanovic', -0.11324118259562599),\n",
       " ('dress', -0.1131562929325367),\n",
       " ('deactivation', -0.11309489286475238),\n",
       " ('melba', -0.11308974579795417),\n",
       " ('marisa', -0.11301133177317924),\n",
       " ('arlene', -0.11300567488476132),\n",
       " ('edie', -0.11299977443018139),\n",
       " ('usns', -0.11285929490447844),\n",
       " ('haa', -0.11283364900758786),\n",
       " ('sapphire', -0.1128235546360935),\n",
       " ('mcentire', -0.11279799611307118),\n",
       " ('confides', -0.11277795522257783),\n",
       " ('angelica', -0.11272476789990338),\n",
       " ('redox', -0.11270700910368303),\n",
       " ('alumnae', -0.11270517483128173),\n",
       " ('bonnie', -0.11266235875366071),\n",
       " ('stern', -0.11265072015097266),\n",
       " ('knitting', -0.11264411214512682),\n",
       " ('assures', -0.11264283610477066),\n",
       " ('katy', -0.11264090702007312),\n",
       " ...]"
      ]
     },
     "execution_count": 19,
     "metadata": {
      "tags": []
     },
     "output_type": "execute_result"
    }
   ],
   "source": [
    "sorted(gender_bias_bef.items(), key=operator.itemgetter(1))"
   ]
  },
  {
   "cell_type": "code",
   "execution_count": 16,
   "metadata": {
    "colab": {
     "base_uri": "https://localhost:8080/"
    },
    "id": "N2BAPttvF7Yk",
    "outputId": "0d19a52c-6e83-4482-9508-3cecefc223a7"
   },
   "outputs": [
    {
     "name": "stdout",
     "output_type": "stream",
     "text": [
      "component id:  0\n",
      "(2019, 300)\n",
      "pairs used in PCA:  10\n",
      "precision 0.817\n",
      "component id:  1\n",
      "(2019, 300)\n",
      "pairs used in PCA:  10\n",
      "precision 0.704\n",
      "component id:  2\n",
      "(2019, 300)\n",
      "pairs used in PCA:  10\n",
      "precision 0.8145\n",
      "component id:  3\n",
      "(2019, 300)\n",
      "pairs used in PCA:  10\n",
      "precision 0.816\n",
      "component id:  4\n",
      "(2019, 300)\n",
      "pairs used in PCA:  10\n",
      "precision 0.802\n",
      "component id:  5\n",
      "(2019, 300)\n",
      "pairs used in PCA:  10\n",
      "precision 0.775\n",
      "component id:  6\n",
      "(2019, 300)\n",
      "pairs used in PCA:  10\n",
      "precision 0.785\n",
      "component id:  7\n",
      "(2019, 300)\n",
      "pairs used in PCA:  10\n",
      "precision 0.8025\n",
      "component id:  8\n",
      "(2019, 300)\n",
      "pairs used in PCA:  10\n",
      "precision 0.807\n",
      "component id:  9\n",
      "(2019, 300)\n",
      "pairs used in PCA:  10\n",
      "precision 0.815\n",
      "component id:  10\n",
      "(2019, 300)\n",
      "pairs used in PCA:  10\n",
      "precision 0.812\n",
      "component id:  11\n",
      "(2019, 300)\n",
      "pairs used in PCA:  10\n",
      "precision 0.818\n",
      "component id:  12\n",
      "(2019, 300)\n",
      "pairs used in PCA:  10\n",
      "precision 0.8180000000000001\n",
      "component id:  13\n",
      "(2019, 300)\n",
      "pairs used in PCA:  10\n",
      "precision 0.8045\n",
      "component id:  14\n",
      "(2019, 300)\n",
      "pairs used in PCA:  10\n",
      "precision 0.8145\n",
      "component id:  15\n",
      "(2019, 300)\n",
      "pairs used in PCA:  10\n",
      "precision 0.811\n",
      "component id:  16\n",
      "(2019, 300)\n",
      "pairs used in PCA:  10\n",
      "precision 0.8145\n",
      "component id:  17\n",
      "(2019, 300)\n",
      "pairs used in PCA:  10\n",
      "precision 0.806\n",
      "component id:  18\n",
      "(2019, 300)\n",
      "pairs used in PCA:  10\n",
      "precision 0.808\n",
      "component id:  19\n",
      "(2019, 300)\n",
      "pairs used in PCA:  10\n",
      "precision 0.8165\n"
     ]
    }
   ],
   "source": [
    "from utils import extract_vectors\n",
    "from utils import train_and_predict\n",
    "from utils import doPCA, drop\n",
    "\n",
    "size=1000    #why this size??\n",
    "sorted_g = sorted(gender_bias_bef.items(), key=operator.itemgetter(1)) # default order is ascending\n",
    "female = [item[0] for item in sorted_g[:size]]\n",
    "male = [item[0] for item in sorted_g[-size:]]\n",
    "#getting top thousand male and female biased terms\n",
    "y_true = [1]*size + [0]*size\n",
    "\n",
    "c_vocab = list(set(male + female + [word for word in definitional_words if word in word2idx]))\n",
    "#c_vocab (vocab_partial) contains set of biased words \n",
    "c_w2i = dict()\n",
    "for idx, w in enumerate(c_vocab):\n",
    "    c_w2i[w] = idx\n",
    "    \n",
    "precisions = []\n",
    "    \n",
    "#what is component_id ?\n",
    "#Set of eigen vectors, why range is 20??\n",
    "for component_id in range(20):\n",
    "    \n",
    "    print('component id: ', component_id)\n",
    "    \n",
    "    wv_debiased = hard_debias(word_vec, word2idx, w2i_partial = c_w2i, vocab_partial = c_vocab, component_id = component_id)\n",
    "    kmeans, y_pred, _, preci = cluster_and_visualize(male + female, \n",
    "                                           extract_vectors(male + female, wv_debiased, c_w2i), 1, y_true)\n",
    "    precisions.append(preci)"
   ]
  },
  {
   "cell_type": "code",
   "execution_count": null,
   "metadata": {
    "colab": {
     "base_uri": "https://localhost:8080/"
    },
    "id": "qOGv7ljtwmWy",
    "outputId": "1b03f282-c98d-4e88-c05c-2f0320c39d7c"
   },
   "outputs": [
    {
     "name": "stdout",
     "output_type": "stream",
     "text": [
      "\u001b[0m\u001b[01;34mdrive\u001b[0m/  GloVe.zip  \u001b[01;34msample_data\u001b[0m/  voc.txt\n"
     ]
    }
   ],
   "source": [
    "ls"
   ]
  },
  {
   "cell_type": "code",
   "execution_count": null,
   "metadata": {
    "id": "XIKyEcTw-Akh"
   },
   "outputs": [],
   "source": [
    "with open('./voc.txt', 'w') as outFile : \n",
    "  for word in c_vocab : \n",
    "    outFile.write(word + \"\\n\")"
   ]
  },
  {
   "cell_type": "code",
   "execution_count": null,
   "metadata": {
    "colab": {
     "base_uri": "https://localhost:8080/"
    },
    "id": "yF7bwPOCziTN",
    "outputId": "809a1329-625b-4337-a67a-d86967fd10c4"
   },
   "outputs": [
    {
     "data": {
      "text/plain": [
       "array([1], dtype=int32)"
      ]
     },
     "execution_count": 56,
     "metadata": {
      "tags": []
     },
     "output_type": "execute_result"
    }
   ],
   "source": [
    "kmeans.predict(word_vec[word2idx['he']].reshape(1, -1))"
   ]
  },
  {
   "cell_type": "code",
   "execution_count": 18,
   "metadata": {
    "colab": {
     "base_uri": "https://localhost:8080/",
     "height": 211
    },
    "id": "sTq2uVjPF9oE",
    "outputId": "bcf5f5ba-f2be-44d7-b7fa-2096afccae41"
   },
   "outputs": [
    {
     "data": {
      "image/png": "[encoded data removed]",
      "text/plain": [
       "<Figure size 432x201.6 with 1 Axes>"
      ]
     },
     "metadata": {
      "needs_background": "light",
      "tags": []
     },
     "output_type": "display_data"
    }
   ],
   "source": [
    "import numpy as np\n",
    "import matplotlib.pyplot as plt\n",
    "\n",
    "# Create some mock data\n",
    "t = np.arange(1, 21)\n",
    "data1 = precisions\n",
    "\n",
    "fig, ax1 = plt.subplots(figsize=(6,2.8))\n",
    "\n",
    "color = 'red'\n",
    "ax1.set_xlabel('Project out the D-th directions', fontsize=17)\n",
    "ax1.set_ylabel('accuracy', fontsize=17)\n",
    "ax1.scatter(t, data1, color=color, label='GloVe', marker = 'x', s=60)\n",
    "plt.xticks([2,4,6,8,10, 12, 14, 16 ,18, 20], fontsize=15)\n",
    "ax1.tick_params(axis='y', labelsize=14)\n",
    "ax1.set_ylim(0.65, 0.84)\n",
    "ax1.legend(loc='lower right', frameon=True, fontsize='large')\n",
    "ax1.grid(axis='y')\n",
    "\n",
    "fig.tight_layout()  # otherwise the right y-label is slightly clipped\n",
    "# wandb.log({\"Accuracy\": wandb.Image(fig)}, commit=True)\n",
    "plt.show()"
   ]
  },
  {
   "cell_type": "markdown",
   "metadata": {
    "id": "LwthlJKkf1YW"
   },
   "source": [
    "# Glove_eval.py from here."
   ]
  },
  {
   "cell_type": "code",
   "execution_count": null,
   "metadata": {
    "colab": {
     "base_uri": "https://localhost:8080/"
    },
    "id": "rkE9Ie7RTtyR",
    "outputId": "f789383c-9c77-45ca-c001-831084816d1b"
   },
   "outputs": [
    {
     "name": "stdout",
     "output_type": "stream",
     "text": [
      "/content/drive/MyDrive/double-debaising/Double-Hard-Debias\n"
     ]
    }
   ],
   "source": [
    "cd '/content/drive/MyDrive/double-debaising/Double-Hard-Debias'"
   ]
  },
  {
   "cell_type": "code",
   "execution_count": null,
   "metadata": {
    "id": "kv6xQrT5UT29"
   },
   "outputs": [],
   "source": [
    "import codecs, os, json, operator, pickle\n",
    "from random import shuffle\n",
    "import numpy as np\n",
    "from numpy import linalg as LA\n",
    "import scipy\n",
    "\n",
    "%load_ext autoreload\n",
    "%autoreload 2"
   ]
  },
  {
   "cell_type": "code",
   "execution_count": null,
   "metadata": {
    "id": "ddUEbX7-WK77"
   },
   "outputs": [],
   "source": [
    "def load_glove(path):\n",
    "    with open(path) as f:\n",
    "        lines = f.readlines()\n",
    "    \n",
    "    word_vec = []\n",
    "    vocab = []\n",
    "    for line in lines:\n",
    "        tokens = line.strip().split(\" \")\n",
    "        try:\n",
    "            assert len(tokens) == 301\n",
    "            vocab.append(tokens[0])\n",
    "            word_vec.append([float(elem) for elem in tokens[1:]])\n",
    "        except:\n",
    "            print(line)\n",
    "        \n",
    "    word2index = {w: i for i, w in enumerate(vocab)}\n",
    "    word_vec = np.array(word_vec).astype(float)\n",
    "    print(len(vocab), word_vec.shape, len(word2index))\n",
    "    \n",
    "    return word_vec, word2index, vocab\n",
    "\n",
    "def normalize(wv):\n",
    "    \n",
    "    # normalize vectors\n",
    "    norms = np.apply_along_axis(LA.norm, 1, wv)\n",
    "    wv = wv / norms[:, np.newaxis]\n",
    "    return wv\n",
    "\n",
    "# this function mainly checks length of word_vec and reverses word_vec \n",
    "def debias_gn(wv):\n",
    "    for v in wv:\n",
    "        assert(len(v) == 300)\n",
    "    \n",
    "    wv = wv[:,:-1]\n",
    "\n",
    "    for v in wv:\n",
    "        assert(len(v) == 299)\n",
    "    return wv"
   ]
  },
  {
   "cell_type": "code",
   "execution_count": null,
   "metadata": {
    "colab": {
     "base_uri": "https://localhost:8080/"
    },
    "id": "5TdgHbEgX2GL",
    "outputId": "5b620002-accb-4198-d662-aba201cbc1d8"
   },
   "outputs": [
    {
     "name": "stdout",
     "output_type": "stream",
     "text": [
      "322636 (322636, 300) 322636\n",
      "322636 (322636, 300) 322636\n"
     ]
    }
   ],
   "source": [
    "glove, glove_w2i, vocab = load_glove(\"./data/vectors.txt\")\n",
    "gn_glove, gn_glove_w2i, gn_vocab = load_glove(\"./data/vectors300.txt\")\n",
    "gn_glove_a = debias_gn(gn_glove)"
   ]
  },
  {
   "cell_type": "code",
   "execution_count": null,
   "metadata": {
    "colab": {
     "base_uri": "https://localhost:8080/"
    },
    "id": "Jdnctrjwd5DP",
    "outputId": "c18707ab-1ab3-4b65-f93e-724005138b1d"
   },
   "outputs": [
    {
     "data": {
      "text/plain": [
       "(322636, 299)"
      ]
     },
     "execution_count": 21,
     "metadata": {
      "tags": []
     },
     "output_type": "execute_result"
    }
   ],
   "source": [
    "# len(gn_glove)\n",
    "# len(gn_glove)\n",
    "gn_glove.shape\n",
    "gn_glove_a.shape"
   ]
  },
  {
   "cell_type": "code",
   "execution_count": null,
   "metadata": {
    "colab": {
     "base_uri": "https://localhost:8080/"
    },
    "id": "I0FmHYi-X_zl",
    "outputId": "c5893464-f92d-4bcb-f667-c44505368411"
   },
   "outputs": [
    {
     "name": "stdout",
     "output_type": "stream",
     "text": [
      "322636 (322636, 300) 322636\n"
     ]
    }
   ],
   "source": [
    "def load_glove_p(path):\n",
    "    \n",
    "    debiased_embeds = pickle.load(open(path, 'rb'))\n",
    "    wv = []\n",
    "    vocab = []\n",
    "    for w in debiased_embeds:\n",
    "        wv.append(np.array(debiased_embeds[w]))\n",
    "        vocab.append(str(w))\n",
    "        \n",
    "    w2i = {w: i for i, w in enumerate(vocab)}\n",
    "    wv = np.array(wv).astype(float)\n",
    "    print(len(vocab), wv.shape, len(w2i))\n",
    "        \n",
    "    return wv, w2i, vocab\n",
    "\n",
    "#dhd --> double hard debias   \n",
    "dhd_glove, dhd_glove_w2i, dhd_vocab = load_glove_p(\"./data/glove_dhd.p\")"
   ]
  },
  {
   "cell_type": "code",
   "execution_count": null,
   "metadata": {
    "colab": {
     "base_uri": "https://localhost:8080/"
    },
    "id": "3KShAyR9dDTx",
    "outputId": "ee46158c-0fce-456f-e2e0-0f444132d30f"
   },
   "outputs": [
    {
     "name": "stdout",
     "output_type": "stream",
     "text": [
      "322636 (322636, 300) 322636\n",
      "322636 (322636, 300) 322636\n"
     ]
    }
   ],
   "source": [
    "# hd -> hard debias\n",
    "hd_glove, hd_glove_w2i, hd_vocab = load_glove(\n",
    "    \"./data/vectors_hd.txt\")\n",
    "\n",
    "# why we have not removed last column here?\n",
    "# basically what is _a represnets\n",
    "hd_glove_a, hd_glove_a_w2i, hd_vocab_a = load_glove(\n",
    "    \"./data/vectors_hd_a.txt\")"
   ]
  },
  {
   "cell_type": "code",
   "execution_count": null,
   "metadata": {
    "colab": {
     "base_uri": "https://localhost:8080/"
    },
    "id": "gDbZtJz4dMVD",
    "outputId": "a7371f0d-0d04-4a53-af33-679048b8919a"
   },
   "outputs": [
    {
     "name": "stdout",
     "output_type": "stream",
     "text": [
      "322636 300\n",
      "\n",
      "322636 (322636, 300) 322636\n",
      "322636 300\n",
      "\n",
      "322636 (322636, 300) 322636\n"
     ]
    }
   ],
   "source": [
    "gp_glove, gp_glove_w2i, gp_vocab = load_glove(\n",
    "    \"./data/gp_glove.txt\")\n",
    "gp_gn_glove, gp_gn_glove_w2i, gp_gn_vocab = load_glove(\n",
    "    \"./data/gp_gn_glove.txt\")"
   ]
  },
  {
   "cell_type": "code",
   "execution_count": null,
   "metadata": {
    "id": "MEMTss8Ad2vo"
   },
   "outputs": [],
   "source": [
    "def similarity(a, b):\n",
    "    return 1-scipy.spatial.distance.cosine(a, b)"
   ]
  },
  {
   "cell_type": "code",
   "execution_count": null,
   "metadata": {
    "colab": {
     "base_uri": "https://localhost:8080/"
    },
    "id": "-qRqi37aj5Yi",
    "outputId": "4586ba43-1c31-48ec-92db-0da7098e7005"
   },
   "outputs": [
    {
     "name": "stdout",
     "output_type": "stream",
     "text": [
      "/content/drive/MyDrive/double-debaising/Double-Hard-Debias\n"
     ]
    }
   ],
   "source": [
    "cd /content/drive/MyDrive/double-debaising/Double-Hard-Debias"
   ]
  },
  {
   "cell_type": "markdown",
   "metadata": {
    "id": "lZAxdRQZlM1z"
   },
   "source": [
    "# Setting up word-embeddings benchmark"
   ]
  },
  {
   "cell_type": "code",
   "execution_count": null,
   "metadata": {
    "colab": {
     "base_uri": "https://localhost:8080/"
    },
    "id": "6ILys1YekdMB",
    "outputId": "ca1d7745-83c8-4971-beaf-2c1cb280aaf8"
   },
   "outputs": [
    {
     "name": "stdout",
     "output_type": "stream",
     "text": [
      "Cloning into 'word-embeddings-benchmarks'...\n",
      "remote: Enumerating objects: 4, done.\u001b[K\n",
      "remote: Counting objects: 100% (4/4), done.\u001b[K\n",
      "remote: Compressing objects: 100% (4/4), done.\u001b[K\n",
      "remote: Total 730 (delta 0), reused 3 (delta 0), pack-reused 726\u001b[K\n",
      "Receiving objects: 100% (730/730), 183.33 KiB | 2.55 MiB/s, done.\n",
      "Resolving deltas: 100% (483/483), done.\n"
     ]
    }
   ],
   "source": [
    "!git clone https://github.com/kudkudak/word-embeddings-benchmarks.git"
   ]
  },
  {
   "cell_type": "code",
   "execution_count": null,
   "metadata": {
    "colab": {
     "base_uri": "https://localhost:8080/"
    },
    "id": "uQ09bJ4Wkolc",
    "outputId": "d789cf86-f147-4e16-820b-1bc25d172cf0"
   },
   "outputs": [
    {
     "name": "stdout",
     "output_type": "stream",
     "text": [
      "/content/drive/My Drive/double-debaising/Double-Hard-Debias/word-embeddings-benchmarks\n"
     ]
    }
   ],
   "source": [
    "cd word-embeddings-benchmarks"
   ]
  },
  {
   "cell_type": "code",
   "execution_count": null,
   "metadata": {
    "id": "qVfLYucZks9g"
   },
   "outputs": [],
   "source": [
    "!python setup.py install"
   ]
  },
  {
   "cell_type": "code",
   "execution_count": null,
   "metadata": {
    "id": "YLMQvnLOk07s"
   },
   "outputs": [],
   "source": [
    "pip install -r requirements.txt"
   ]
  },
  {
   "cell_type": "code",
   "execution_count": null,
   "metadata": {
    "colab": {
     "base_uri": "https://localhost:8080/"
    },
    "id": "MeJOiqqVlENY",
    "outputId": "d1667da4-ddff-4b0f-9050-ebd88e8f96d9"
   },
   "outputs": [
    {
     "name": "stdout",
     "output_type": "stream",
     "text": [
      "/content/drive/MyDrive/double-debaising/Double-Hard-Debias\n"
     ]
    }
   ],
   "source": [
    "cd /content/drive/MyDrive/double-debaising/Double-Hard-Debias"
   ]
  },
  {
   "cell_type": "markdown",
   "metadata": {
    "id": "_0b2wVvplc4K"
   },
   "source": [
    "# Now continuing with code"
   ]
  },
  {
   "cell_type": "code",
   "execution_count": null,
   "metadata": {
    "id": "3yCp4ltimAkF"
   },
   "outputs": [],
   "source": [
    "import sys\n",
    "sys.path.append('/content/drive/MyDrive/double-debaising/Double-Hard-Debias/word-embeddings-benchmarks')"
   ]
  },
  {
   "cell_type": "code",
   "execution_count": null,
   "metadata": {
    "colab": {
     "base_uri": "https://localhost:8080/"
    },
    "id": "gDeUndSSh3G1",
    "outputId": "cd510182-0d60-4246-b346-0ad5da85cec1"
   },
   "outputs": [
    {
     "name": "stderr",
     "output_type": "stream",
     "text": [
      "/usr/local/lib/python3.6/dist-packages/sklearn/utils/deprecation.py:144: FutureWarning: The sklearn.datasets.base module is  deprecated in version 0.22 and will be removed in version 0.24. The corresponding classes / functions should instead be imported from sklearn.datasets. Anything that cannot be imported from sklearn.datasets is now part of the private API.\n",
      "  warnings.warn(message, FutureWarning)\n"
     ]
    }
   ],
   "source": [
    "from eval import evaluate_cate, evaluate_ana, evaluate_analogy_google, evaluate_analogy_msr"
   ]
  },
  {
   "cell_type": "code",
   "execution_count": null,
   "metadata": {
    "colab": {
     "base_uri": "https://localhost:8080/"
    },
    "id": "KZ2nQYvFlIbT",
    "outputId": "d91ffb22-4715-49ce-a50d-5897746c41f1"
   },
   "outputs": [
    {
     "name": "stdout",
     "output_type": "stream",
     "text": [
      "Calculating categorization benchmarks\n",
      "Sample data from AP, num of samples: 402 : \"['apple']\" is assigned class edible_fruit\n",
      "exist 401 in 402\n",
      "Cluster purity on AP 0.5635910224438903\n",
      "Sample data from ESSLI_2c, num of samples: 45 : \"['kill']\" is assigned class changeState-changeState\n",
      "exist 45 in 45\n",
      "Cluster purity on ESSLI_2c 0.5777777777777778\n",
      "Sample data from ESSLI_2b, num of samples: 40 : \"['jealousy']\" is assigned class LO\n",
      "exist 40 in 40\n",
      "Cluster purity on ESSLI_2b 0.775\n",
      "Sample data from ESSLI_1a, num of samples: 44 : \"['bottle']\" is assigned class tool-artifact\n",
      "exist 44 in 44\n",
      "Cluster purity on ESSLI_1a 0.7272727272727273\n",
      "Sample data from Battig, num of samples: 5231 : \"robin\" is assigned class bird\n",
      "exist 4125 in 5231\n",
      "Cluster purity on Battig 0.509090909090909\n",
      "Sample data from BLESS, num of samples: 200 : \"['bag']\" is assigned class container\n",
      "exist 200 in 200\n",
      "Cluster purity on BLESS 0.81\n"
     ]
    }
   ],
   "source": [
    "evaluate_cate(glove, glove_w2i, vocab)"
   ]
  },
  {
   "cell_type": "code",
   "execution_count": null,
   "metadata": {
    "colab": {
     "base_uri": "https://localhost:8080/"
    },
    "id": "IsUt1nKdml9m",
    "outputId": "e9a88a2a-5d00-46ad-f639-2d68d4e82053"
   },
   "outputs": [
    {
     "name": "stdout",
     "output_type": "stream",
     "text": [
      "Calculating categorization benchmarks\n",
      "Sample data from AP, num of samples: 402 : \"['apple']\" is assigned class edible_fruit\n",
      "exist 401 in 402\n",
      "Cluster purity on AP 0.6059850374064838\n",
      "Sample data from ESSLI_2c, num of samples: 45 : \"['kill']\" is assigned class changeState-changeState\n",
      "exist 45 in 45\n",
      "Cluster purity on ESSLI_2c 0.6444444444444445\n",
      "Sample data from ESSLI_2b, num of samples: 40 : \"['jealousy']\" is assigned class LO\n",
      "exist 40 in 40\n",
      "Cluster purity on ESSLI_2b 0.8\n",
      "Sample data from ESSLI_1a, num of samples: 44 : \"['bottle']\" is assigned class tool-artifact\n",
      "exist 44 in 44\n",
      "Cluster purity on ESSLI_1a 0.7954545454545455\n",
      "Sample data from Battig, num of samples: 5231 : \"robin\" is assigned class bird\n",
      "exist 4125 in 5231\n",
      "Cluster purity on Battig 0.5081212121212121\n",
      "Sample data from BLESS, num of samples: 200 : \"['bag']\" is assigned class container\n",
      "exist 200 in 200\n",
      "Cluster purity on BLESS 0.845\n",
      "Calculating categorization benchmarks\n",
      "Sample data from AP, num of samples: 402 : \"['apple']\" is assigned class edible_fruit\n",
      "exist 401 in 402\n",
      "Cluster purity on AP 0.6059850374064838\n",
      "Sample data from ESSLI_2c, num of samples: 45 : \"['kill']\" is assigned class changeState-changeState\n",
      "exist 45 in 45\n",
      "Cluster purity on ESSLI_2c 0.6444444444444445\n",
      "Sample data from ESSLI_2b, num of samples: 40 : \"['jealousy']\" is assigned class LO\n",
      "exist 40 in 40\n",
      "Cluster purity on ESSLI_2b 0.8\n",
      "Sample data from ESSLI_1a, num of samples: 44 : \"['bottle']\" is assigned class tool-artifact\n",
      "exist 44 in 44\n",
      "Cluster purity on ESSLI_1a 0.7954545454545455\n",
      "Sample data from Battig, num of samples: 5231 : \"robin\" is assigned class bird\n",
      "exist 4125 in 5231\n",
      "Cluster purity on Battig 0.5008484848484849\n",
      "Sample data from BLESS, num of samples: 200 : \"['bag']\" is assigned class container\n",
      "exist 200 in 200\n",
      "Cluster purity on BLESS 0.845\n"
     ]
    }
   ],
   "source": [
    "evaluate_cate(hd_glove, hd_glove_w2i, hd_vocab)\n",
    "evaluate_cate(hd_glove_a, hd_glove_a_w2i, hd_vocab_a)"
   ]
  },
  {
   "cell_type": "code",
   "execution_count": null,
   "metadata": {
    "colab": {
     "base_uri": "https://localhost:8080/"
    },
    "id": "mZl9TCnCnHV1",
    "outputId": "8a29f8a8-8806-440f-dc7f-8725e556843f"
   },
   "outputs": [
    {
     "name": "stdout",
     "output_type": "stream",
     "text": [
      "Calculating categorization benchmarks\n",
      "Sample data from AP, num of samples: 402 : \"['apple']\" is assigned class edible_fruit\n",
      "exist 401 in 402\n",
      "Cluster purity on AP 0.5685785536159601\n",
      "Sample data from ESSLI_2c, num of samples: 45 : \"['kill']\" is assigned class changeState-changeState\n",
      "exist 45 in 45\n",
      "Cluster purity on ESSLI_2c 0.6222222222222222\n",
      "Sample data from ESSLI_2b, num of samples: 40 : \"['jealousy']\" is assigned class LO\n",
      "exist 40 in 40\n",
      "Cluster purity on ESSLI_2b 0.75\n",
      "Sample data from ESSLI_1a, num of samples: 44 : \"['bottle']\" is assigned class tool-artifact\n",
      "exist 44 in 44\n",
      "Cluster purity on ESSLI_1a 0.7045454545454546\n",
      "Sample data from Battig, num of samples: 5231 : \"robin\" is assigned class bird\n",
      "exist 4125 in 5231\n",
      "Cluster purity on Battig 0.5044848484848484\n",
      "Sample data from BLESS, num of samples: 200 : \"['bag']\" is assigned class container\n",
      "exist 200 in 200\n",
      "Cluster purity on BLESS 0.85\n",
      "Calculating categorization benchmarks\n",
      "Sample data from AP, num of samples: 402 : \"['apple']\" is assigned class edible_fruit\n",
      "exist 401 in 402\n",
      "Cluster purity on AP 0.5685785536159601\n",
      "Sample data from ESSLI_2c, num of samples: 45 : \"['kill']\" is assigned class changeState-changeState\n",
      "exist 45 in 45\n",
      "Cluster purity on ESSLI_2c 0.5777777777777778\n",
      "Sample data from ESSLI_2b, num of samples: 40 : \"['jealousy']\" is assigned class LO\n",
      "exist 40 in 40\n",
      "Cluster purity on ESSLI_2b 0.75\n",
      "Sample data from ESSLI_1a, num of samples: 44 : \"['bottle']\" is assigned class tool-artifact\n",
      "exist 44 in 44\n",
      "Cluster purity on ESSLI_1a 0.7272727272727273\n",
      "Sample data from Battig, num of samples: 5231 : \"robin\" is assigned class bird\n",
      "exist 4125 in 5231\n",
      "Cluster purity on Battig 0.48824242424242426\n",
      "Sample data from BLESS, num of samples: 200 : \"['bag']\" is assigned class container\n",
      "exist 200 in 200\n",
      "Cluster purity on BLESS 0.8250000000000001\n"
     ]
    }
   ],
   "source": [
    "evaluate_cate(gn_glove, gn_glove_w2i, gn_vocab)\n",
    "evaluate_cate(gn_glove_a, gn_glove_w2i, gn_vocab)"
   ]
  },
  {
   "cell_type": "code",
   "execution_count": null,
   "metadata": {
    "colab": {
     "base_uri": "https://localhost:8080/"
    },
    "id": "V38dLsConnaO",
    "outputId": "dc61f3b3-2113-43d0-aea7-a34225b652f3"
   },
   "outputs": [
    {
     "name": "stdout",
     "output_type": "stream",
     "text": [
      "Calculating categorization benchmarks\n",
      "Sample data from AP, num of samples: 402 : \"['apple']\" is assigned class edible_fruit\n",
      "exist 401 in 402\n",
      "Cluster purity on AP 0.5610972568578554\n",
      "Sample data from ESSLI_2c, num of samples: 45 : \"['kill']\" is assigned class changeState-changeState\n",
      "exist 45 in 45\n",
      "Cluster purity on ESSLI_2c 0.5777777777777778\n",
      "Sample data from ESSLI_2b, num of samples: 40 : \"['jealousy']\" is assigned class LO\n",
      "exist 40 in 40\n",
      "Cluster purity on ESSLI_2b 0.775\n",
      "Sample data from ESSLI_1a, num of samples: 44 : \"['bottle']\" is assigned class tool-artifact\n",
      "exist 44 in 44\n",
      "Cluster purity on ESSLI_1a 0.7272727272727273\n",
      "Sample data from Battig, num of samples: 5231 : \"robin\" is assigned class bird\n",
      "exist 4125 in 5231\n",
      "Cluster purity on Battig 0.4896969696969697\n",
      "Sample data from BLESS, num of samples: 200 : \"['bag']\" is assigned class container\n",
      "exist 200 in 200\n",
      "Cluster purity on BLESS 0.785\n",
      "Calculating categorization benchmarks\n",
      "Sample data from AP, num of samples: 402 : \"['apple']\" is assigned class edible_fruit\n",
      "exist 401 in 402\n",
      "Cluster purity on AP 0.6109725685785536\n",
      "Sample data from ESSLI_2c, num of samples: 45 : \"['kill']\" is assigned class changeState-changeState\n",
      "exist 45 in 45\n",
      "Cluster purity on ESSLI_2c 0.5777777777777778\n",
      "Sample data from ESSLI_2b, num of samples: 40 : \"['jealousy']\" is assigned class LO\n",
      "exist 40 in 40\n",
      "Cluster purity on ESSLI_2b 0.75\n",
      "Sample data from ESSLI_1a, num of samples: 44 : \"['bottle']\" is assigned class tool-artifact\n",
      "exist 44 in 44\n",
      "Cluster purity on ESSLI_1a 0.75\n",
      "Sample data from Battig, num of samples: 5231 : \"robin\" is assigned class bird\n",
      "exist 4125 in 5231\n",
      "Cluster purity on Battig 0.5204848484848484\n",
      "Sample data from BLESS, num of samples: 200 : \"['bag']\" is assigned class container\n",
      "exist 200 in 200\n",
      "Cluster purity on BLESS 0.775\n",
      "Calculating categorization benchmarks\n",
      "Sample data from AP, num of samples: 402 : \"['apple']\" is assigned class edible_fruit\n",
      "exist 401 in 402\n",
      "Cluster purity on AP 0.5960099750623441\n",
      "Sample data from ESSLI_2c, num of samples: 45 : \"['kill']\" is assigned class changeState-changeState\n",
      "exist 45 in 45\n",
      "Cluster purity on ESSLI_2c 0.5777777777777778\n",
      "Sample data from ESSLI_2b, num of samples: 40 : \"['jealousy']\" is assigned class LO\n",
      "exist 40 in 40\n",
      "Cluster purity on ESSLI_2b 0.7250000000000001\n",
      "Sample data from ESSLI_1a, num of samples: 44 : \"['bottle']\" is assigned class tool-artifact\n",
      "exist 44 in 44\n",
      "Cluster purity on ESSLI_1a 0.7272727272727273\n",
      "Sample data from Battig, num of samples: 5231 : \"robin\" is assigned class bird\n",
      "exist 4125 in 5231\n",
      "Cluster purity on Battig 0.48315151515151517\n",
      "Sample data from BLESS, num of samples: 200 : \"['bag']\" is assigned class container\n",
      "exist 200 in 200\n",
      "Cluster purity on BLESS 0.795\n"
     ]
    }
   ],
   "source": [
    "evaluate_cate(gp_glove, gp_glove_w2i, gp_vocab)\n",
    "evaluate_cate(gp_gn_glove, gp_gn_glove_w2i, gp_gn_vocab)\n",
    "evaluate_cate(dhd_glove, dhd_glove_w2i, dhd_vocab)"
   ]
  },
  {
   "cell_type": "code",
   "execution_count": null,
   "metadata": {
    "colab": {
     "base_uri": "https://localhost:8080/",
     "height": 375
    },
    "id": "uyvc8U8kn4sV",
    "outputId": "6091e6a1-334a-4e15-b71b-47fc71914cd6"
   },
   "outputs": [
    {
     "ename": "FileNotFoundError",
     "evalue": "ignored",
     "output_type": "error",
     "traceback": [
      "\u001b[0;31m---------------------------------------------------------------------------\u001b[0m",
      "\u001b[0;31mFileNotFoundError\u001b[0m                         Traceback (most recent call last)",
      "\u001b[0;32m<ipython-input-49-e6bee312001e>\u001b[0m in \u001b[0;36m<module>\u001b[0;34m()\u001b[0m\n\u001b[0;32m----> 1\u001b[0;31m \u001b[0mevaluate_ana\u001b[0m\u001b[0;34m(\u001b[0m\u001b[0mhd_glove_a\u001b[0m\u001b[0;34m,\u001b[0m \u001b[0mhd_glove_a_w2i\u001b[0m\u001b[0;34m,\u001b[0m \u001b[0mhd_vocab_a\u001b[0m\u001b[0;34m)\u001b[0m\u001b[0;34m\u001b[0m\u001b[0;34m\u001b[0m\u001b[0m\n\u001b[0m\u001b[1;32m      2\u001b[0m \u001b[0mevaluate_ana\u001b[0m\u001b[0;34m(\u001b[0m\u001b[0mgn_glove_a\u001b[0m\u001b[0;34m,\u001b[0m \u001b[0mgn_glove_w2i\u001b[0m\u001b[0;34m,\u001b[0m \u001b[0mgn_vocab\u001b[0m\u001b[0;34m)\u001b[0m\u001b[0;34m\u001b[0m\u001b[0;34m\u001b[0m\u001b[0m\n\u001b[1;32m      3\u001b[0m \u001b[0mevaluate_ana\u001b[0m\u001b[0;34m(\u001b[0m\u001b[0mgp_glove\u001b[0m\u001b[0;34m,\u001b[0m \u001b[0mgp_glove_w2i\u001b[0m\u001b[0;34m,\u001b[0m \u001b[0mgp_vocab\u001b[0m\u001b[0;34m)\u001b[0m\u001b[0;34m\u001b[0m\u001b[0;34m\u001b[0m\u001b[0m\n\u001b[1;32m      4\u001b[0m \u001b[0mevaluate_ana\u001b[0m\u001b[0;34m(\u001b[0m\u001b[0mgp_gn_glove\u001b[0m\u001b[0;34m,\u001b[0m \u001b[0mgp_gn_glove_w2i\u001b[0m\u001b[0;34m,\u001b[0m \u001b[0mgp_gn_vocab\u001b[0m\u001b[0;34m)\u001b[0m\u001b[0;34m\u001b[0m\u001b[0;34m\u001b[0m\u001b[0m\n",
      "\u001b[0;32m/content/drive/My Drive/double-debaising/Double-Hard-Debias/eval.py\u001b[0m in \u001b[0;36mevaluate_ana\u001b[0;34m(wv, w2i, vocab)\u001b[0m\n\u001b[1;32m    402\u001b[0m     \u001b[0mW_norm\u001b[0m \u001b[0;34m=\u001b[0m \u001b[0;34m(\u001b[0m\u001b[0mwv\u001b[0m\u001b[0;34m.\u001b[0m\u001b[0mT\u001b[0m \u001b[0;34m/\u001b[0m \u001b[0md\u001b[0m\u001b[0;34m)\u001b[0m\u001b[0;34m.\u001b[0m\u001b[0mT\u001b[0m\u001b[0;34m\u001b[0m\u001b[0;34m\u001b[0m\u001b[0m\n\u001b[1;32m    403\u001b[0m \u001b[0;34m\u001b[0m\u001b[0m\n\u001b[0;32m--> 404\u001b[0;31m     \u001b[0mevaluate_analogy_msr\u001b[0m\u001b[0;34m(\u001b[0m\u001b[0mW_norm\u001b[0m\u001b[0;34m,\u001b[0m \u001b[0mw2i\u001b[0m\u001b[0;34m)\u001b[0m\u001b[0;34m\u001b[0m\u001b[0;34m\u001b[0m\u001b[0m\n\u001b[0m\u001b[1;32m    405\u001b[0m     \u001b[0mevaluate_analogy_google\u001b[0m\u001b[0;34m(\u001b[0m\u001b[0mW_norm\u001b[0m\u001b[0;34m,\u001b[0m \u001b[0mw2i\u001b[0m\u001b[0;34m)\u001b[0m\u001b[0;34m\u001b[0m\u001b[0;34m\u001b[0m\u001b[0m\n\u001b[1;32m    406\u001b[0m \u001b[0;34m\u001b[0m\u001b[0m\n",
      "\u001b[0;32m/content/drive/My Drive/double-debaising/Double-Hard-Debias/eval.py\u001b[0m in \u001b[0;36mevaluate_analogy_msr\u001b[0;34m(W, vocab, file_name)\u001b[0m\n\u001b[1;32m    355\u001b[0m     \u001b[0mfull_count\u001b[0m \u001b[0;34m=\u001b[0m \u001b[0;36m0\u001b[0m \u001b[0;31m# count all questions, including those with unknown words\u001b[0m\u001b[0;34m\u001b[0m\u001b[0;34m\u001b[0m\u001b[0m\n\u001b[1;32m    356\u001b[0m \u001b[0;34m\u001b[0m\u001b[0m\n\u001b[0;32m--> 357\u001b[0;31m     \u001b[0;32mwith\u001b[0m \u001b[0mopen\u001b[0m\u001b[0;34m(\u001b[0m\u001b[0;34m'%s/%s'\u001b[0m \u001b[0;34m%\u001b[0m \u001b[0;34m(\u001b[0m\u001b[0mprefix\u001b[0m\u001b[0;34m,\u001b[0m \u001b[0mfile_name\u001b[0m\u001b[0;34m)\u001b[0m\u001b[0;34m,\u001b[0m \u001b[0;34m'r'\u001b[0m\u001b[0;34m)\u001b[0m \u001b[0;32mas\u001b[0m \u001b[0mf\u001b[0m\u001b[0;34m:\u001b[0m\u001b[0;34m\u001b[0m\u001b[0;34m\u001b[0m\u001b[0m\n\u001b[0m\u001b[1;32m    358\u001b[0m         \u001b[0mfull_data\u001b[0m \u001b[0;34m=\u001b[0m \u001b[0;34m[\u001b[0m\u001b[0;34m]\u001b[0m\u001b[0;34m\u001b[0m\u001b[0;34m\u001b[0m\u001b[0m\n\u001b[1;32m    359\u001b[0m         \u001b[0;32mfor\u001b[0m \u001b[0mline\u001b[0m \u001b[0;32min\u001b[0m \u001b[0mf\u001b[0m\u001b[0;34m:\u001b[0m\u001b[0;34m\u001b[0m\u001b[0;34m\u001b[0m\u001b[0m\n",
      "\u001b[0;31mFileNotFoundError\u001b[0m: [Errno 2] No such file or directory: '/zf15/tw8cb/summer_2019/code/GloVe/eval/question-data//EN-MSR.txt'"
     ]
    }
   ],
   "source": [
    "# check line no. 343 in eval file for the path\n",
    "# look for that path, need to find it\n",
    "# https://github.com/stanfordnlp/GloVe/tree/master/eval/question-data\n",
    "# found this path but it doesn't contain file which is mentioned in code.\n",
    "evaluate_ana(hd_glove_a, hd_glove_a_w2i, hd_vocab_a)\n",
    "evaluate_ana(gn_glove_a, gn_glove_w2i, gn_vocab)\n",
    "evaluate_ana(gp_glove, gp_glove_w2i, gp_vocab)\n",
    "evaluate_ana(gp_gn_glove, gp_gn_glove_w2i, gp_gn_vocab)"
   ]
  },
  {
   "cell_type": "code",
   "execution_count": null,
   "metadata": {
    "colab": {
     "base_uri": "https://localhost:8080/",
     "height": 324
    },
    "id": "BBPWcyh9oNvM",
    "outputId": "77c9248f-3700-4417-d363-28762b01ea28"
   },
   "outputs": [
    {
     "ename": "FileNotFoundError",
     "evalue": "ignored",
     "output_type": "error",
     "traceback": [
      "\u001b[0;31m---------------------------------------------------------------------------\u001b[0m",
      "\u001b[0;31mFileNotFoundError\u001b[0m                         Traceback (most recent call last)",
      "\u001b[0;32m<ipython-input-50-37e7189290d9>\u001b[0m in \u001b[0;36m<module>\u001b[0;34m()\u001b[0m\n\u001b[0;32m----> 1\u001b[0;31m \u001b[0mevaluate_ana\u001b[0m\u001b[0;34m(\u001b[0m\u001b[0mdhd_glove\u001b[0m\u001b[0;34m,\u001b[0m \u001b[0mdhd_glove_w2i\u001b[0m\u001b[0;34m,\u001b[0m \u001b[0mdhd_vocab\u001b[0m\u001b[0;34m)\u001b[0m\u001b[0;34m\u001b[0m\u001b[0;34m\u001b[0m\u001b[0m\n\u001b[0m",
      "\u001b[0;32m/content/drive/My Drive/double-debaising/Double-Hard-Debias/eval.py\u001b[0m in \u001b[0;36mevaluate_ana\u001b[0;34m(wv, w2i, vocab)\u001b[0m\n\u001b[1;32m    402\u001b[0m     \u001b[0mW_norm\u001b[0m \u001b[0;34m=\u001b[0m \u001b[0;34m(\u001b[0m\u001b[0mwv\u001b[0m\u001b[0;34m.\u001b[0m\u001b[0mT\u001b[0m \u001b[0;34m/\u001b[0m \u001b[0md\u001b[0m\u001b[0;34m)\u001b[0m\u001b[0;34m.\u001b[0m\u001b[0mT\u001b[0m\u001b[0;34m\u001b[0m\u001b[0;34m\u001b[0m\u001b[0m\n\u001b[1;32m    403\u001b[0m \u001b[0;34m\u001b[0m\u001b[0m\n\u001b[0;32m--> 404\u001b[0;31m     \u001b[0mevaluate_analogy_msr\u001b[0m\u001b[0;34m(\u001b[0m\u001b[0mW_norm\u001b[0m\u001b[0;34m,\u001b[0m \u001b[0mw2i\u001b[0m\u001b[0;34m)\u001b[0m\u001b[0;34m\u001b[0m\u001b[0;34m\u001b[0m\u001b[0m\n\u001b[0m\u001b[1;32m    405\u001b[0m     \u001b[0mevaluate_analogy_google\u001b[0m\u001b[0;34m(\u001b[0m\u001b[0mW_norm\u001b[0m\u001b[0;34m,\u001b[0m \u001b[0mw2i\u001b[0m\u001b[0;34m)\u001b[0m\u001b[0;34m\u001b[0m\u001b[0;34m\u001b[0m\u001b[0m\n\u001b[1;32m    406\u001b[0m \u001b[0;34m\u001b[0m\u001b[0m\n",
      "\u001b[0;32m/content/drive/My Drive/double-debaising/Double-Hard-Debias/eval.py\u001b[0m in \u001b[0;36mevaluate_analogy_msr\u001b[0;34m(W, vocab, file_name)\u001b[0m\n\u001b[1;32m    355\u001b[0m     \u001b[0mfull_count\u001b[0m \u001b[0;34m=\u001b[0m \u001b[0;36m0\u001b[0m \u001b[0;31m# count all questions, including those with unknown words\u001b[0m\u001b[0;34m\u001b[0m\u001b[0;34m\u001b[0m\u001b[0m\n\u001b[1;32m    356\u001b[0m \u001b[0;34m\u001b[0m\u001b[0m\n\u001b[0;32m--> 357\u001b[0;31m     \u001b[0;32mwith\u001b[0m \u001b[0mopen\u001b[0m\u001b[0;34m(\u001b[0m\u001b[0;34m'%s/%s'\u001b[0m \u001b[0;34m%\u001b[0m \u001b[0;34m(\u001b[0m\u001b[0mprefix\u001b[0m\u001b[0;34m,\u001b[0m \u001b[0mfile_name\u001b[0m\u001b[0;34m)\u001b[0m\u001b[0;34m,\u001b[0m \u001b[0;34m'r'\u001b[0m\u001b[0;34m)\u001b[0m \u001b[0;32mas\u001b[0m \u001b[0mf\u001b[0m\u001b[0;34m:\u001b[0m\u001b[0;34m\u001b[0m\u001b[0;34m\u001b[0m\u001b[0m\n\u001b[0m\u001b[1;32m    358\u001b[0m         \u001b[0mfull_data\u001b[0m \u001b[0;34m=\u001b[0m \u001b[0;34m[\u001b[0m\u001b[0;34m]\u001b[0m\u001b[0;34m\u001b[0m\u001b[0;34m\u001b[0m\u001b[0m\n\u001b[1;32m    359\u001b[0m         \u001b[0;32mfor\u001b[0m \u001b[0mline\u001b[0m \u001b[0;32min\u001b[0m \u001b[0mf\u001b[0m\u001b[0;34m:\u001b[0m\u001b[0;34m\u001b[0m\u001b[0;34m\u001b[0m\u001b[0m\n",
      "\u001b[0;31mFileNotFoundError\u001b[0m: [Errno 2] No such file or directory: '/zf15/tw8cb/summer_2019/code/GloVe/eval/question-data//EN-MSR.txt'"
     ]
    }
   ],
   "source": [
    "evaluate_ana(dhd_glove, dhd_glove_w2i, dhd_vocab)"
   ]
  },
  {
   "cell_type": "code",
   "execution_count": null,
   "metadata": {
    "colab": {
     "base_uri": "https://localhost:8080/"
    },
    "id": "NhcdV-MZpuuL",
    "outputId": "32c30715-1597-4c87-c0fe-21b35dea9b1f"
   },
   "outputs": [
    {
     "name": "stdout",
     "output_type": "stream",
     "text": [
      "442\n"
     ]
    },
    {
     "name": "stderr",
     "output_type": "stream",
     "text": [
      "100%|██████████| 50000/50000 [00:00<00:00, 383147.13it/s]"
     ]
    },
    {
     "name": "stdout",
     "output_type": "stream",
     "text": [
      "1883\n",
      "size of vocabulary: 47628\n"
     ]
    },
    {
     "name": "stderr",
     "output_type": "stream",
     "text": [
      "\n"
     ]
    }
   ],
   "source": [
    "from tqdm import tqdm\n",
    "from utils import limit_vocab\n",
    "\n",
    "gender_specific = []\n",
    "\n",
    "with open('./data/male_word_file.txt') as f:\n",
    "    for l in f:\n",
    "        gender_specific.append(l.strip())\n",
    "with open('./data/female_word_file.txt') as f:\n",
    "    for l in f:\n",
    "        gender_specific.append(l.strip())\n",
    "print(len(gender_specific))\n",
    "\n",
    "with codecs.open('./data/gender_specific_full.json') as f:\n",
    "    gender_specific.extend(json.load(f))\n",
    "\n",
    "\n",
    "exclude_words = gender_specific\n",
    "print(len(exclude_words))\n",
    "\n",
    "glove_vocab_limit, glove_limit, glove_w2i_limit = limit_vocab(glove, glove_w2i, vocab, exclude = exclude_words)"
   ]
  },
  {
   "cell_type": "code",
   "execution_count": null,
   "metadata": {
    "colab": {
     "base_uri": "https://localhost:8080/"
    },
    "id": "aq3pY26hseLn",
    "outputId": "678a77aa-e18d-43bc-d9a3-cecae576ee14"
   },
   "outputs": [
    {
     "name": "stderr",
     "output_type": "stream",
     "text": [
      "100%|██████████| 50000/50000 [00:00<00:00, 385930.12it/s]\n"
     ]
    },
    {
     "name": "stdout",
     "output_type": "stream",
     "text": [
      "size of vocabulary: 47628\n"
     ]
    }
   ],
   "source": [
    "gn_vocab_limit, gn_limit, gn_w2i_limit = limit_vocab(gn_glove, gn_glove_w2i, gn_vocab, exclude = exclude_words)"
   ]
  },
  {
   "cell_type": "code",
   "execution_count": null,
   "metadata": {
    "colab": {
     "base_uri": "https://localhost:8080/"
    },
    "id": "2sDWajEdskEA",
    "outputId": "816a000e-3a7d-4ad6-a8a6-1b7fcba7e1d7"
   },
   "outputs": [
    {
     "name": "stderr",
     "output_type": "stream",
     "text": [
      "100%|██████████| 50000/50000 [00:00<00:00, 397978.56it/s]\n"
     ]
    },
    {
     "name": "stdout",
     "output_type": "stream",
     "text": [
      "size of vocabulary: 47628\n"
     ]
    }
   ],
   "source": [
    "gn_a_vocab_limit, gn_a_limit, gn_a_w2i_limit = limit_vocab(\n",
    "    gn_glove_a, gn_glove_w2i, gn_vocab, exclude = exclude_words)"
   ]
  },
  {
   "cell_type": "code",
   "execution_count": null,
   "metadata": {
    "colab": {
     "base_uri": "https://localhost:8080/"
    },
    "id": "ju5pzKawtIcm",
    "outputId": "ef024994-e419-451a-a6bc-f55bf4f8b333"
   },
   "outputs": [
    {
     "name": "stderr",
     "output_type": "stream",
     "text": [
      "100%|██████████| 50000/50000 [00:00<00:00, 391600.16it/s]\n"
     ]
    },
    {
     "name": "stdout",
     "output_type": "stream",
     "text": [
      "size of vocabulary: 47628\n"
     ]
    },
    {
     "name": "stderr",
     "output_type": "stream",
     "text": [
      "100%|██████████| 50000/50000 [00:00<00:00, 356186.01it/s]\n"
     ]
    },
    {
     "name": "stdout",
     "output_type": "stream",
     "text": [
      "size of vocabulary: 47628\n"
     ]
    },
    {
     "name": "stderr",
     "output_type": "stream",
     "text": [
      "100%|██████████| 50000/50000 [00:00<00:00, 368374.44it/s]\n"
     ]
    },
    {
     "name": "stdout",
     "output_type": "stream",
     "text": [
      "size of vocabulary: 47628\n"
     ]
    },
    {
     "name": "stderr",
     "output_type": "stream",
     "text": [
      "100%|██████████| 50000/50000 [00:00<00:00, 376910.39it/s]\n"
     ]
    },
    {
     "name": "stdout",
     "output_type": "stream",
     "text": [
      "size of vocabulary: 47628\n"
     ]
    }
   ],
   "source": [
    "gp_vocab_limit, gp_limit, gp_w2i_limit = limit_vocab(\n",
    "    gp_glove, gp_glove_w2i, gp_vocab, exclude = exclude_words)\n",
    "gp_gn_vocab_limit, gp_gn_limit, gp_gn_w2i_limit = limit_vocab(\n",
    "    gp_gn_glove, gp_gn_glove_w2i, gp_gn_vocab, exclude = exclude_words)\n",
    "\n",
    "hd_vocab_limit, hd_limit, hd_w2i_limit = limit_vocab(\n",
    "    hd_glove, hd_glove_w2i, hd_vocab, exclude = exclude_words)\n",
    "hd_a_vocab_limit, hd_a_limit, hd_a_w2i_limit = limit_vocab(\n",
    "    hd_glove_a, hd_glove_a_w2i, hd_vocab_a, exclude = exclude_words)"
   ]
  },
  {
   "cell_type": "code",
   "execution_count": null,
   "metadata": {
    "colab": {
     "base_uri": "https://localhost:8080/"
    },
    "id": "dVeNT6HttN8r",
    "outputId": "3e98d957-0e16-48c7-eda6-3bfd7733d7b2"
   },
   "outputs": [
    {
     "name": "stderr",
     "output_type": "stream",
     "text": [
      "100%|██████████| 50000/50000 [00:00<00:00, 372187.85it/s]\n"
     ]
    },
    {
     "name": "stdout",
     "output_type": "stream",
     "text": [
      "size of vocabulary: 47628\n"
     ]
    }
   ],
   "source": [
    "dhd_vocab_limit, dhd_limit, dhd_w2i_limit = limit_vocab(\n",
    "    dhd_glove, dhd_glove_w2i, dhd_vocab, exclude = exclude_words)"
   ]
  },
  {
   "cell_type": "code",
   "execution_count": null,
   "metadata": {
    "id": "ZlBV1teKtU8C"
   },
   "outputs": [],
   "source": [
    "he_embed = glove[glove_w2i['he'], :]\n",
    "she_embed = glove[glove_w2i['she'], :]\n",
    "\n",
    "def similarity(a, b):\n",
    "    return 1-scipy.spatial.distance.cosine(a, b)\n",
    "\n",
    "def compute_bias_by_projection(wv, w2i, vocab):\n",
    "    d = {}\n",
    "    for w in vocab:\n",
    "        u = wv[w2i[w], :]\n",
    "        d[w] = similarity(u, he_embed) - similarity(u, she_embed)\n",
    "    return d\n",
    "\n",
    "gender_bias_bef = compute_bias_by_projection(glove_limit, glove_w2i_limit, glove_vocab_limit)\n",
    "sorted_g = sorted(gender_bias_bef.items(), key=operator.itemgetter(1))"
   ]
  },
  {
   "cell_type": "code",
   "execution_count": null,
   "metadata": {
    "id": "lhOVIAJ2tfRf"
   },
   "outputs": [],
   "source": [
    "def visualize(vectors, y_true, y_pred, ax, title, random_state):\n",
    "    \n",
    "    # perform TSNE\n",
    "    vectors = normalize(vectors)\n",
    "    X_embedded = TSNE(n_components=2, random_state=random_state).fit_transform(vectors)\n",
    "    for x,p,y in zip(X_embedded, y_pred, y_true):\n",
    "        if y:\n",
    "            ax.scatter(x[0], x[1], marker = '.', c = 'c')\n",
    "        else:\n",
    "            ax.scatter(x[0], x[1], marker = 'x', c = 'darkviolet')\n",
    "    \n",
    "    return ax\n",
    "\n",
    "def cluster_and_visualize(words, X1, title, random_state, tsne_random_state, y_true, num=2):\n",
    "    \n",
    "    kmeans_1 = KMeans(n_clusters=num, random_state=random_state).fit(X1)\n",
    "    y_pred_1 = kmeans_1.predict(X1)\n",
    "    correct = [1 if item1 == item2 else 0 for (item1,item2) in zip(y_true, y_pred_1) ]\n",
    "    print('precision', max(sum(correct)/float(len(correct)), 1 - sum(correct)/float(len(correct))))\n",
    "    \n",
    "    fig, axs = plt.subplots(1, 1, figsize=(6, 3))\n",
    "    ax1 = visualize(X1, y_true, y_pred_1, axs, title, tsne_random_state)\n",
    "    \n",
    "#     fig.savefig(\"a_{}_{}_{}.pdf\".format(title, size, random_state))"
   ]
  },
  {
   "cell_type": "code",
   "execution_count": null,
   "metadata": {
    "id": "EYHzg_MbtiaZ"
   },
   "outputs": [],
   "source": [
    "from sklearn.cluster import KMeans\n",
    "from sklearn.manifold import TSNE\n",
    "from utils import extract_vectors\n",
    "import operator\n",
    "import matplotlib as mpl\n",
    "import matplotlib.pyplot as plt\n",
    "from cycler import cycler\n",
    "%matplotlib inline\n",
    "\n",
    "size=200\n",
    "female = [item[0] for item in sorted_g[:size]]\n",
    "male = [item[0] for item in sorted_g[-size:]]\n",
    "y_true = [1]*size + [0]*size"
   ]
  },
  {
   "cell_type": "code",
   "execution_count": null,
   "metadata": {
    "id": "aT67cUFevY-g"
   },
   "outputs": [],
   "source": [
    "# You may change the random states to get more visualization result\n",
    "random_state = 0\n",
    "tsne_random_state = 5"
   ]
  },
  {
   "cell_type": "code",
   "execution_count": null,
   "metadata": {
    "colab": {
     "base_uri": "https://localhost:8080/",
     "height": 228
    },
    "id": "xOrAJtzjvr1t",
    "outputId": "d5720115-1897-407c-f6fd-8b9cc9516fa1"
   },
   "outputs": [
    {
     "name": "stdout",
     "output_type": "stream",
     "text": [
      "precision 1.0\n"
     ]
    },
    {
     "data": {
      "image/png": "[encoded data removed]",
      "text/plain": [
       "<Figure size 432x216 with 1 Axes>"
      ]
     },
     "metadata": {
      "needs_background": "light",
      "tags": []
     },
     "output_type": "display_data"
    }
   ],
   "source": [
    "cluster_and_visualize(male + female, extract_vectors(male + female, glove_limit, glove_w2i_limit), \n",
    "                          'GloVe', random_state, tsne_random_state, y_true)"
   ]
  },
  {
   "cell_type": "code",
   "execution_count": null,
   "metadata": {
    "colab": {
     "base_uri": "https://localhost:8080/",
     "height": 228
    },
    "id": "tdMOwO9Evvfm",
    "outputId": "ed2d10dd-4e37-4bf5-b4c1-f9b7c1953c66"
   },
   "outputs": [
    {
     "name": "stdout",
     "output_type": "stream",
     "text": [
      "precision 0.7775\n"
     ]
    },
    {
     "data": {
      "image/png": "[encoded data removed]",
      "text/plain": [
       "<Figure size 432x216 with 1 Axes>"
      ]
     },
     "metadata": {
      "needs_background": "light",
      "tags": []
     },
     "output_type": "display_data"
    }
   ],
   "source": [
    "cluster_and_visualize(male + female, extract_vectors(male + female, hd_limit, hd_w2i_limit), \n",
    "                          'Hard-GloVe', random_state, tsne_random_state, y_true)"
   ]
  },
  {
   "cell_type": "code",
   "execution_count": null,
   "metadata": {
    "colab": {
     "base_uri": "https://localhost:8080/",
     "height": 231
    },
    "id": "mi4cRtQJv1_K",
    "outputId": "5d9f2905-6d54-46c3-f51b-69a34a4104fa"
   },
   "outputs": [
    {
     "name": "stdout",
     "output_type": "stream",
     "text": [
      "precision 0.7775\n"
     ]
    },
    {
     "data": {
      "image/png": "[encoded data removed]",
      "text/plain": [
       "<Figure size 432x216 with 1 Axes>"
      ]
     },
     "metadata": {
      "needs_background": "light",
      "tags": []
     },
     "output_type": "display_data"
    }
   ],
   "source": [
    "cluster_and_visualize(male + female, extract_vectors(male + female, hd_a_limit, hd_a_w2i_limit), \n",
    "                          ' Strong-Hard-GloVe', random_state, tsne_random_state, y_true)"
   ]
  },
  {
   "cell_type": "code",
   "execution_count": null,
   "metadata": {
    "colab": {
     "base_uri": "https://localhost:8080/",
     "height": 228
    },
    "id": "MuK_-HV-v82X",
    "outputId": "081aaacf-d1ea-407b-c8ca-dd3d24f78e79"
   },
   "outputs": [
    {
     "name": "stdout",
     "output_type": "stream",
     "text": [
      "precision 0.6225\n"
     ]
    },
    {
     "data": {
      "image/png": "[encoded data removed]",
      "text/plain": [
       "<Figure size 432x216 with 1 Axes>"
      ]
     },
     "metadata": {
      "needs_background": "light",
      "tags": []
     },
     "output_type": "display_data"
    }
   ],
   "source": [
    "cluster_and_visualize(male + female, extract_vectors(male + female, dhd_limit, dhd_w2i_limit), \n",
    "                          'Double-Hard-GloVe', random_state, tsne_random_state, y_true)"
   ]
  },
  {
   "cell_type": "code",
   "execution_count": null,
   "metadata": {
    "colab": {
     "base_uri": "https://localhost:8080/",
     "height": 228
    },
    "id": "YNzUjn_dwB8N",
    "outputId": "ab69dd6a-3103-480f-d8ec-fd06f25b67fb"
   },
   "outputs": [
    {
     "name": "stdout",
     "output_type": "stream",
     "text": [
      "precision 1.0\n"
     ]
    },
    {
     "data": {
      "image/png": "[encoded data removed]",
      "text/plain": [
       "<Figure size 432x216 with 1 Axes>"
      ]
     },
     "metadata": {
      "needs_background": "light",
      "tags": []
     },
     "output_type": "display_data"
    }
   ],
   "source": [
    "cluster_and_visualize(male + female, extract_vectors(male + female, gn_limit, gn_w2i_limit), \n",
    "                          'GN-GloVe', random_state, tsne_random_state, y_true)"
   ]
  },
  {
   "cell_type": "code",
   "execution_count": null,
   "metadata": {
    "id": "KWgtqDgcwGGS"
   },
   "outputs": [],
   "source": [
    "def cluster(words, X1, random_state, y_true, num=2):\n",
    "    \n",
    "    kmeans_1 = KMeans(n_clusters=num, random_state=random_state).fit(X1)\n",
    "    y_pred_1 = kmeans_1.predict(X1)\n",
    "    correct = [1 if item1 == item2 else 0 for (item1,item2) in zip(y_true, y_pred_1) ]\n",
    "    print('precision', max(sum(correct)/float(len(correct)), 1 - sum(correct)/float(len(correct))))"
   ]
  },
  {
   "cell_type": "code",
   "execution_count": null,
   "metadata": {
    "id": "i6PABX4MwilV"
   },
   "outputs": [],
   "source": [
    "# Cluster most biased words before and after debiasing\n",
    "\n",
    "def my_cluster(wv, w2i, start=0, size=500, random_state = 1):\n",
    "    \n",
    "    if start == 0:\n",
    "        female = [item[0] for item in sorted_g[:size]]\n",
    "        male = [item[0] for item in sorted_g[-size:]]\n",
    "    else:\n",
    "        female = [item[0] for item in sorted_g[start:size+start]]\n",
    "        male = [item[0] for item in sorted_g[-(start+size):-start]]\n",
    "\n",
    "    y_true = [1]*size + [0]*size\n",
    "    \n",
    "    cluster(male + female, extract_vectors(male + female, wv, w2i), random_state, y_true)"
   ]
  },
  {
   "cell_type": "code",
   "execution_count": null,
   "metadata": {
    "colab": {
     "base_uri": "https://localhost:8080/"
    },
    "id": "GtKH0MHBwmWO",
    "outputId": "5ba4bcf2-5dc5-489d-d51b-0ccf11228622"
   },
   "outputs": [
    {
     "name": "stdout",
     "output_type": "stream",
     "text": [
      "precision 1.0\n",
      "precision 0.765\n",
      "precision 0.765\n",
      "precision 1.0\n",
      "precision 1.0\n",
      "precision 1.0\n",
      "precision 1.0\n",
      "precision 0.665\n"
     ]
    }
   ],
   "source": [
    "random_state_=0\n",
    "start=0\n",
    "end=100\n",
    "my_cluster(glove_limit, glove_w2i_limit, start, end, random_state=random_state_)\n",
    "my_cluster(hd_limit, hd_w2i_limit, start, end, random_state=random_state_)\n",
    "my_cluster(hd_a_limit, hd_a_w2i_limit, start, end, random_state=random_state_)\n",
    "my_cluster(gn_limit, gn_w2i_limit, start, end, random_state=random_state_)\n",
    "my_cluster(gn_a_limit, gn_a_w2i_limit, start, end, random_state=random_state_)\n",
    "my_cluster(gp_limit, gp_w2i_limit, start, end, random_state=random_state_)\n",
    "my_cluster(gp_gn_limit, gp_gn_w2i_limit, start, end, random_state=random_state_)\n",
    "my_cluster(dhd_limit, dhd_w2i_limit, start, end, random_state=random_state_)"
   ]
  },
  {
   "cell_type": "code",
   "execution_count": null,
   "metadata": {
    "id": "jXBXOFIgwppb"
   },
   "outputs": [],
   "source": []
  }
 ],
 "metadata": {
  "colab": {
   "collapsed_sections": [],
   "include_colab_link": true,
   "name": "rc2020.ipynb",
   "provenance": []
  },
  "kernelspec": {
   "display_name": "Python 3",
   "language": "python",
   "name": "python3"
  },
  "language_info": {
   "codemirror_mode": {
    "name": "ipython",
    "version": 3
   },
   "file_extension": ".py",
   "mimetype": "text/x-python",
   "name": "python",
   "nbconvert_exporter": "python",
   "pygments_lexer": "ipython3",
   "version": "3.8.5"
  },
  "widgets": {
   "application/vnd.jupyter.widget-state+json": {
    "0c8b3dba97484aa18a71fa9f959303a5": {
     "model_module": "@jupyter-widgets/base",
     "model_name": "LayoutModel",
     "state": {
      "_model_module": "@jupyter-widgets/base",
      "_model_module_version": "1.2.0",
      "_model_name": "LayoutModel",
      "_view_count": null,
      "_view_module": "@jupyter-widgets/base",
      "_view_module_version": "1.2.0",
      "_view_name": "LayoutView",
      "align_content": null,
      "align_items": null,
      "align_self": null,
      "border": null,
      "bottom": null,
      "display": null,
      "flex": null,
      "flex_flow": null,
      "grid_area": null,
      "grid_auto_columns": null,
      "grid_auto_flow": null,
      "grid_auto_rows": null,
      "grid_column": null,
      "grid_gap": null,
      "grid_row": null,
      "grid_template_areas": null,
      "grid_template_columns": null,
      "grid_template_rows": null,
      "height": null,
      "justify_content": null,
      "justify_items": null,
      "left": null,
      "margin": null,
      "max_height": null,
      "max_width": null,
      "min_height": null,
      "min_width": null,
      "object_fit": null,
      "object_position": null,
      "order": null,
      "overflow": null,
      "overflow_x": null,
      "overflow_y": null,
      "padding": null,
      "right": null,
      "top": null,
      "visibility": null,
      "width": null
     }
    },
    "102766df6bb94b91bd7884b5e7f15a38": {
     "model_module": "@jupyter-widgets/base",
     "model_name": "LayoutModel",
     "state": {
      "_model_module": "@jupyter-widgets/base",
      "_model_module_version": "1.2.0",
      "_model_name": "LayoutModel",
      "_view_count": null,
      "_view_module": "@jupyter-widgets/base",
      "_view_module_version": "1.2.0",
      "_view_name": "LayoutView",
      "align_content": null,
      "align_items": null,
      "align_self": null,
      "border": null,
      "bottom": null,
      "display": null,
      "flex": null,
      "flex_flow": null,
      "grid_area": null,
      "grid_auto_columns": null,
      "grid_auto_flow": null,
      "grid_auto_rows": null,
      "grid_column": null,
      "grid_gap": null,
      "grid_row": null,
      "grid_template_areas": null,
      "grid_template_columns": null,
      "grid_template_rows": null,
      "height": null,
      "justify_content": null,
      "justify_items": null,
      "left": null,
      "margin": null,
      "max_height": null,
      "max_width": null,
      "min_height": null,
      "min_width": null,
      "object_fit": null,
      "object_position": null,
      "order": null,
      "overflow": null,
      "overflow_x": null,
      "overflow_y": null,
      "padding": null,
      "right": null,
      "top": null,
      "visibility": null,
      "width": null
     }
    },
    "55721722526a44119a216d3a78940a87": {
     "model_module": "@jupyter-widgets/base",
     "model_name": "LayoutModel",
     "state": {
      "_model_module": "@jupyter-widgets/base",
      "_model_module_version": "1.2.0",
      "_model_name": "LayoutModel",
      "_view_count": null,
      "_view_module": "@jupyter-widgets/base",
      "_view_module_version": "1.2.0",
      "_view_name": "LayoutView",
      "align_content": null,
      "align_items": null,
      "align_self": null,
      "border": null,
      "bottom": null,
      "display": null,
      "flex": null,
      "flex_flow": null,
      "grid_area": null,
      "grid_auto_columns": null,
      "grid_auto_flow": null,
      "grid_auto_rows": null,
      "grid_column": null,
      "grid_gap": null,
      "grid_row": null,
      "grid_template_areas": null,
      "grid_template_columns": null,
      "grid_template_rows": null,
      "height": null,
      "justify_content": null,
      "justify_items": null,
      "left": null,
      "margin": null,
      "max_height": null,
      "max_width": null,
      "min_height": null,
      "min_width": null,
      "object_fit": null,
      "object_position": null,
      "order": null,
      "overflow": null,
      "overflow_x": null,
      "overflow_y": null,
      "padding": null,
      "right": null,
      "top": null,
      "visibility": null,
      "width": null
     }
    },
    "6a68547d05be4021a27bde06c5146c70": {
     "model_module": "@jupyter-widgets/controls",
     "model_name": "LabelModel",
     "state": {
      "_dom_classes": [],
      "_model_module": "@jupyter-widgets/controls",
      "_model_module_version": "1.5.0",
      "_model_name": "LabelModel",
      "_view_count": null,
      "_view_module": "@jupyter-widgets/controls",
      "_view_module_version": "1.5.0",
      "_view_name": "LabelView",
      "description": "",
      "description_tooltip": null,
      "layout": "IPY_MODEL_102766df6bb94b91bd7884b5e7f15a38",
      "placeholder": "​",
      "style": "IPY_MODEL_c01c84394066406797d55559b084e7e6",
      "value": " 880.14MB of 880.14MB uploaded (0.00MB deduped)\r"
     }
    },
    "88264a9d226c47bb91551a6f03590c29": {
     "model_module": "@jupyter-widgets/controls",
     "model_name": "VBoxModel",
     "state": {
      "_dom_classes": [],
      "_model_module": "@jupyter-widgets/controls",
      "_model_module_version": "1.5.0",
      "_model_name": "VBoxModel",
      "_view_count": null,
      "_view_module": "@jupyter-widgets/controls",
      "_view_module_version": "1.5.0",
      "_view_name": "VBoxView",
      "box_style": "",
      "children": [
       "IPY_MODEL_6a68547d05be4021a27bde06c5146c70",
       "IPY_MODEL_c302d53cf4f840b6b3871f170a886ee7"
      ],
      "layout": "IPY_MODEL_0c8b3dba97484aa18a71fa9f959303a5"
     }
    },
    "c01c84394066406797d55559b084e7e6": {
     "model_module": "@jupyter-widgets/controls",
     "model_name": "DescriptionStyleModel",
     "state": {
      "_model_module": "@jupyter-widgets/controls",
      "_model_module_version": "1.5.0",
      "_model_name": "DescriptionStyleModel",
      "_view_count": null,
      "_view_module": "@jupyter-widgets/base",
      "_view_module_version": "1.2.0",
      "_view_name": "StyleView",
      "description_width": ""
     }
    },
    "c302d53cf4f840b6b3871f170a886ee7": {
     "model_module": "@jupyter-widgets/controls",
     "model_name": "FloatProgressModel",
     "state": {
      "_dom_classes": [],
      "_model_module": "@jupyter-widgets/controls",
      "_model_module_version": "1.5.0",
      "_model_name": "FloatProgressModel",
      "_view_count": null,
      "_view_module": "@jupyter-widgets/controls",
      "_view_module_version": "1.5.0",
      "_view_name": "ProgressView",
      "bar_style": "",
      "description": "",
      "description_tooltip": null,
      "layout": "IPY_MODEL_55721722526a44119a216d3a78940a87",
      "max": 1,
      "min": 0,
      "orientation": "horizontal",
      "style": "IPY_MODEL_dd02d7b4d5774e7eac4b4b9499377f0a",
      "value": 1
     }
    },
    "dd02d7b4d5774e7eac4b4b9499377f0a": {
     "model_module": "@jupyter-widgets/controls",
     "model_name": "ProgressStyleModel",
     "state": {
      "_model_module": "@jupyter-widgets/controls",
      "_model_module_version": "1.5.0",
      "_model_name": "ProgressStyleModel",
      "_view_count": null,
      "_view_module": "@jupyter-widgets/base",
      "_view_module_version": "1.2.0",
      "_view_name": "StyleView",
      "bar_color": null,
      "description_width": ""
     }
    }
   }
  }
 },
 "nbformat": 4,
 "nbformat_minor": 1
}
