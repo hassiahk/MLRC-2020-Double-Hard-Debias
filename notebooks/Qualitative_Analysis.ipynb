{
 "cells": [
  {
   "cell_type": "markdown",
   "metadata": {},
   "source": [
    "<a href=\"https://colab.research.google.com/github/hassiahk/Double-Hard-Debias/blob/main/notebooks/Qualitative_Analysis.ipynb\" target=\"_parent\"><img src=\"https://colab.research.google.com/assets/colab-badge.svg\" alt=\"Open In Colab\"/></a>"
   ]
  },
  {
   "cell_type": "code",
   "execution_count": null,
   "metadata": {
    "id": "Jiii33oFekc0"
   },
   "outputs": [],
   "source": [
    "import codecs\n",
    "import os\n",
    "import json\n",
    "import random\n",
    "import warnings\n",
    "from typing import Dict, List\n",
    "\n",
    "import numpy as np\n",
    "import scipy.spatial\n",
    "\n",
    "warnings.filterwarnings(\"ignore\")\n",
    "\n",
    "%load_ext autoreload\n",
    "%autoreload 2"
   ]
  },
  {
   "cell_type": "code",
   "execution_count": null,
   "metadata": {
    "id": "Mc3SAqC5eluE"
   },
   "outputs": [],
   "source": [
    "def seed_everything(seed=42):\n",
    "    random.seed(seed)\n",
    "    os.environ['PYTHONHASHSEED'] = str(seed)\n",
    "    np.random.seed(seed)\n",
    "seed_everything()"
   ]
  },
  {
   "cell_type": "code",
   "execution_count": null,
   "metadata": {
    "colab": {
     "base_uri": "https://localhost:8080/"
    },
    "executionInfo": {
     "elapsed": 199257,
     "status": "ok",
     "timestamp": 1612283040936,
     "user": {
      "displayName": "Haswanth Kumar Aekula",
      "photoUrl": "",
      "userId": "00471480593148083416"
     },
     "user_tz": -330
    },
    "id": "hrPN1gj0gKBU",
    "outputId": "970d562b-5221-4e86-bad6-dc10b38ba950"
   },
   "outputs": [
    {
     "name": "stdout",
     "output_type": "stream",
     "text": [
      "322636 (322636, 300) 322636\n",
      "322636 (322636, 300) 322636\n"
     ]
    }
   ],
   "source": [
    "from double_hard_debias.utils import load_glove_txt\n",
    "\n",
    "\n",
    "glove, glove_word2idx, vocab = load_glove_txt(\"../data/vectors.txt\")\n",
    "dhd_glove_reproduced, dhd_glove_word2idx_reproduced, dhd_vocab_reproduced = load_glove_txt(\"../data/glove_dhd.txt\")"
   ]
  },
  {
   "cell_type": "markdown",
   "metadata": {
    "id": "iUoLKo9tiZPv"
   },
   "source": [
    "### Restrict the vocabulary"
   ]
  },
  {
   "cell_type": "code",
   "execution_count": null,
   "metadata": {
    "colab": {
     "base_uri": "https://localhost:8080/"
    },
    "executionInfo": {
     "elapsed": 195857,
     "status": "ok",
     "timestamp": 1612283041853,
     "user": {
      "displayName": "Haswanth Kumar Aekula",
      "photoUrl": "",
      "userId": "00471480593148083416"
     },
     "user_tz": -330
    },
    "id": "1mZB9eb7fQF7",
    "outputId": "362fc8b8-982a-4627-ac2e-30a16c55bb2e"
   },
   "outputs": [
    {
     "name": "stdout",
     "output_type": "stream",
     "text": [
      "442\n",
      "1883\n"
     ]
    }
   ],
   "source": [
    "from tqdm import tqdm\n",
    "from double_hard_debias.utils import limit_vocab\n",
    "\n",
    "\n",
    "gender_specific_words = []\n",
    "\n",
    "with open('./data/male_word_file.txt') as f:\n",
    "    for l in f:\n",
    "        gender_specific_words.append(l.strip())\n",
    "with open('./data/female_word_file.txt') as f:\n",
    "    for l in f:\n",
    "        gender_specific_words.append(l.strip())\n",
    "print(len(gender_specific_words))\n",
    "\n",
    "with codecs.open('./data/gender_specific_full.json') as f:\n",
    "    gender_specific_words.extend(json.load(f))\n",
    "\n",
    "print(len(gender_specific_words))"
   ]
  },
  {
   "cell_type": "code",
   "execution_count": null,
   "metadata": {
    "colab": {
     "base_uri": "https://localhost:8080/"
    },
    "executionInfo": {
     "elapsed": 194768,
     "status": "ok",
     "timestamp": 1612283042842,
     "user": {
      "displayName": "Haswanth Kumar Aekula",
      "photoUrl": "",
      "userId": "00471480593148083416"
     },
     "user_tz": -330
    },
    "id": "yXRscLLwgjsD",
    "outputId": "b882150e-604b-4589-b62f-147e7020bb93"
   },
   "outputs": [
    {
     "name": "stderr",
     "output_type": "stream",
     "text": [
      "100%|██████████| 50000/50000 [00:00<00:00, 305114.85it/s]\n",
      "  0%|          | 0/50000 [00:00<?, ?it/s]"
     ]
    },
    {
     "name": "stdout",
     "output_type": "stream",
     "text": [
      "size of vocabulary: 47628\n"
     ]
    },
    {
     "name": "stderr",
     "output_type": "stream",
     "text": [
      "100%|██████████| 50000/50000 [00:00<00:00, 394301.56it/s]\n"
     ]
    },
    {
     "name": "stdout",
     "output_type": "stream",
     "text": [
      "size of vocabulary: 47628\n"
     ]
    }
   ],
   "source": [
    "glove_limit, glove_word2idx_limit, glove_vocab_limit = limit_vocab(\n",
    "    glove, glove_word2idx, vocab, exclude=gender_specific\n",
    ")\n",
    "dhd_limit, dhd_word2idx_limit, dhd_vocab_limit = limit_vocab(\n",
    "    dhd_glove_reproduced, dhd_glove_word2idx_reproduced, dhd_vocab_reproduced, exclude=gender_specific\n",
    ")"
   ]
  },
  {
   "cell_type": "markdown",
   "metadata": {
    "id": "ii92mH_MhZKd"
   },
   "source": [
    "### Compute bias before and after debiasing by taking the difference between consine similarity with he and she vector."
   ]
  },
  {
   "cell_type": "code",
   "execution_count": null,
   "metadata": {
    "id": "K1mw0CE3E6Uf"
   },
   "outputs": [],
   "source": [
    "def cosine_similarity(word_vec1: np.ndarray, word_vec2: np.ndarray) -> float:\n",
    "    \"\"\"\n",
    "    Computes Cosine Similarity between two word embeddings or vectors.\n",
    "    Args:\n",
    "        word_vec1: Word vector of a word.\n",
    "        word_vec2: Word vector of a word.\n",
    "    Returns:\n",
    "        Cosine similarity coefficient.\n",
    "    \"\"\"\n",
    "    return 1 - scipy.spatial.distance.cosine(word_vec1, word_vec2)\n",
    "\n",
    "def compute_bias_by_projection(\n",
    "    word_vec: np.ndarray,\n",
    "    word2idx: Dict[str, int],\n",
    "    vocab: List[str],\n",
    "    he_embed: np.ndarray,\n",
    "    she_embed: np.ndarray,\n",
    ") -> Dict[str, float]:\n",
    "    \"\"\"\n",
    "    Computes bias of each word by taking the difference of the word's similarity to `he` word embedding\n",
    "    and the word's similarity to `she` word embedding.\n",
    "    Args:\n",
    "        word_vec: Word vector of different words.\n",
    "        word2idx: Word to index mapping.\n",
    "        vocab: Vocabulary.\n",
    "    \"\"\"\n",
    "    gender_bias: Dict[str, float] = {}\n",
    "\n",
    "    for word in vocab:\n",
    "        vector = word_vec[word2idx[word]]\n",
    "        gender_bias[word] = cosine_similarity(vector, he_embed) - cosine_similarity(vector, she_embed)\n",
    "\n",
    "    return gender_bias"
   ]
  },
  {
   "cell_type": "code",
   "execution_count": null,
   "metadata": {
    "id": "CmxpXN94gVZV"
   },
   "outputs": [],
   "source": [
    "he_embed = glove[glove_word2idx['he'], :]\n",
    "she_embed = glove[glove_word2idx['she'], :]\n",
    "\n",
    "gender_bias_before = compute_bias_by_projection(\n",
    "    glove_limit, glove_word2idx_limit, glove_vocab_limit, he_embed, she_embed\n",
    ")"
   ]
  },
  {
   "cell_type": "code",
   "execution_count": null,
   "metadata": {
    "id": "PaSWEdqhV9f3"
   },
   "outputs": [],
   "source": [
    "he_embed_dhd = dhd_glove_reproduced[dhd_glove_word2idx_reproduced['he'], :]\n",
    "she_embed_dhd = dhd_glove_reproduced[dhd_glove_word2idx_reproduced['she'], :]\n",
    "\n",
    "gender_bias_after = compute_bias_by_projection(\n",
    "    dhd_limit, dhd_word2idx_limit, dhd_vocab_limit, he_embed_dhd, she_embed_dhd\n",
    ")"
   ]
  },
  {
   "cell_type": "markdown",
   "metadata": {
    "id": "AI4ps6kFhp3A"
   },
   "source": [
    "### Gender bias before and after debiasing. Positive means that the word is biased towards he and negative means that the word is biased towards she."
   ]
  },
  {
   "cell_type": "code",
   "execution_count": null,
   "metadata": {
    "id": "DIimiarvI4jG"
   },
   "outputs": [],
   "source": [
    "def bias_before_after(word: str):\n",
    "    print(f'Word: {word}')\n",
    "    print(f'Bias Before: {gender_bias_before[word]}\\nBias After: {gender_bias_after[word]}')"
   ]
  },
  {
   "cell_type": "code",
   "execution_count": null,
   "metadata": {
    "colab": {
     "base_uri": "https://localhost:8080/"
    },
    "executionInfo": {
     "elapsed": 1186,
     "status": "ok",
     "timestamp": 1612283082012,
     "user": {
      "displayName": "Haswanth Kumar Aekula",
      "photoUrl": "",
      "userId": "00471480593148083416"
     },
     "user_tz": -330
    },
    "id": "mM99XOoiJhi3",
    "outputId": "7f361048-43ab-4223-f581-5850a10785ff"
   },
   "outputs": [
    {
     "name": "stdout",
     "output_type": "stream",
     "text": [
      "Word: doctor\n",
      "Bias Before: 0.012779653811138436\n",
      "Bias After: 0.009506828053698513\n"
     ]
    }
   ],
   "source": [
    "bias_before_after('doctor')"
   ]
  },
  {
   "cell_type": "code",
   "execution_count": null,
   "metadata": {
    "colab": {
     "base_uri": "https://localhost:8080/"
    },
    "executionInfo": {
     "elapsed": 918,
     "status": "ok",
     "timestamp": 1612283083438,
     "user": {
      "displayName": "Haswanth Kumar Aekula",
      "photoUrl": "",
      "userId": "00471480593148083416"
     },
     "user_tz": -330
    },
    "id": "1IBDunFDItXQ",
    "outputId": "326437e3-dda4-44d9-b8f3-a45d276b1af2"
   },
   "outputs": [
    {
     "name": "stdout",
     "output_type": "stream",
     "text": [
      "Word: programmer\n",
      "Bias Before: 0.03555772823044012\n",
      "Bias After: -0.007160397265488783\n"
     ]
    }
   ],
   "source": [
    "bias_before_after('programmer')"
   ]
  },
  {
   "cell_type": "code",
   "execution_count": null,
   "metadata": {
    "colab": {
     "base_uri": "https://localhost:8080/"
    },
    "executionInfo": {
     "elapsed": 1144,
     "status": "ok",
     "timestamp": 1612283085401,
     "user": {
      "displayName": "Haswanth Kumar Aekula",
      "photoUrl": "",
      "userId": "00471480593148083416"
     },
     "user_tz": -330
    },
    "id": "Y3Z4FymWJ9hx",
    "outputId": "1b42ce9b-cdf9-4183-b56b-226d8dec6903"
   },
   "outputs": [
    {
     "name": "stdout",
     "output_type": "stream",
     "text": [
      "Word: homemaker\n",
      "Bias Before: -0.1121882437408126\n",
      "Bias After: 0.03256866170158712\n"
     ]
    }
   ],
   "source": [
    "bias_before_after('homemaker')"
   ]
  },
  {
   "cell_type": "code",
   "execution_count": null,
   "metadata": {
    "colab": {
     "base_uri": "https://localhost:8080/"
    },
    "executionInfo": {
     "elapsed": 891,
     "status": "ok",
     "timestamp": 1612283086810,
     "user": {
      "displayName": "Haswanth Kumar Aekula",
      "photoUrl": "",
      "userId": "00471480593148083416"
     },
     "user_tz": -330
    },
    "id": "zuYiigUtJ9VA",
    "outputId": "e18cffbc-075e-4d0c-9576-26cae1049864"
   },
   "outputs": [
    {
     "name": "stdout",
     "output_type": "stream",
     "text": [
      "Word: nurse\n",
      "Bias Before: -0.12097890805438682\n",
      "Bias After: 0.03308098877483401\n"
     ]
    }
   ],
   "source": [
    "bias_before_after('nurse')"
   ]
  },
  {
   "cell_type": "code",
   "execution_count": null,
   "metadata": {
    "colab": {
     "base_uri": "https://localhost:8080/"
    },
    "executionInfo": {
     "elapsed": 789,
     "status": "ok",
     "timestamp": 1612283088093,
     "user": {
      "displayName": "Haswanth Kumar Aekula",
      "photoUrl": "",
      "userId": "00471480593148083416"
     },
     "user_tz": -330
    },
    "id": "BQQO0egrJ9Hm",
    "outputId": "a7e9b96a-2762-4bd8-a614-cbc3884dd5ab"
   },
   "outputs": [
    {
     "name": "stdout",
     "output_type": "stream",
     "text": [
      "Word: worker\n",
      "Bias Before: -0.006665410002464012\n",
      "Bias After: 0.023414286810958918\n"
     ]
    }
   ],
   "source": [
    "bias_before_after('worker')"
   ]
  },
  {
   "cell_type": "code",
   "execution_count": null,
   "metadata": {
    "colab": {
     "base_uri": "https://localhost:8080/"
    },
    "executionInfo": {
     "elapsed": 752,
     "status": "ok",
     "timestamp": 1612283089461,
     "user": {
      "displayName": "Haswanth Kumar Aekula",
      "photoUrl": "",
      "userId": "00471480593148083416"
     },
     "user_tz": -330
    },
    "id": "5176XRs8J88z",
    "outputId": "0d46bf2e-6cc7-4d57-d8d2-0c93cfc3aded"
   },
   "outputs": [
    {
     "name": "stdout",
     "output_type": "stream",
     "text": [
      "Word: president\n",
      "Bias Before: 0.08256089765387709\n",
      "Bias After: 0.03410448077336892\n"
     ]
    }
   ],
   "source": [
    "bias_before_after('president')"
   ]
  },
  {
   "cell_type": "code",
   "execution_count": null,
   "metadata": {
    "colab": {
     "base_uri": "https://localhost:8080/"
    },
    "executionInfo": {
     "elapsed": 942,
     "status": "ok",
     "timestamp": 1612283091320,
     "user": {
      "displayName": "Haswanth Kumar Aekula",
      "photoUrl": "",
      "userId": "00471480593148083416"
     },
     "user_tz": -330
    },
    "id": "TVdPah97J8kZ",
    "outputId": "829330f7-0c79-40c9-8e1a-f0b7e0a498c1"
   },
   "outputs": [
    {
     "name": "stdout",
     "output_type": "stream",
     "text": [
      "Word: politician\n",
      "Bias Before: 0.06632057738561792\n",
      "Bias After: 0.02851813613094467\n"
     ]
    }
   ],
   "source": [
    "bias_before_after('politician')"
   ]
  },
  {
   "cell_type": "code",
   "execution_count": null,
   "metadata": {
    "id": "xz1jQYaXKMXt"
   },
   "outputs": [],
   "source": []
  }
 ],
 "metadata": {
  "colab": {
   "authorship_tag": "ABX9TyNkD6Mp2qdHszR5+IRRXU6j",
   "collapsed_sections": [],
   "name": "Qualitative_Analysis.ipynb",
   "provenance": []
  },
  "kernelspec": {
   "display_name": "rc2020",
   "language": "python",
   "name": "rc2020"
  },
  "language_info": {
   "codemirror_mode": {
    "name": "ipython",
    "version": 3
   },
   "file_extension": ".py",
   "mimetype": "text/x-python",
   "name": "python",
   "nbconvert_exporter": "python",
   "pygments_lexer": "ipython3",
   "version": "3.8.5"
  }
 },
 "nbformat": 4,
 "nbformat_minor": 1
}
