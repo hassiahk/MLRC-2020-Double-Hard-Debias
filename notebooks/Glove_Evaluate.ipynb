{
 "cells": [
  {
   "cell_type": "code",
   "execution_count": null,
   "metadata": {},
   "outputs": [],
   "source": [
    "from double_hard_debias.evaluate import evaluate_cate\n",
    "import numpy as np"
   ]
  },
  {
   "cell_type": "code",
   "execution_count": null,
   "metadata": {},
   "outputs": [],
   "source": [
    "def load_glove_txt(path: str):\n",
    "    \"\"\"\n",
    "    Loads GloVe embeddings from txt file.\n",
    "    \"\"\"\n",
    "\n",
    "    with open(path, \"r\", encoding=\"utf-8\") as glove_file:\n",
    "        lines = glove_file.readlines()\n",
    "\n",
    "    word_vec = []\n",
    "    vocab = []\n",
    "\n",
    "    for line in lines:\n",
    "        tokens = line.strip().split(\" \")\n",
    "\n",
    "        # `tokens` should be a list of length 301 which consists of the word and the respective 300 dimension word vector\n",
    "        assert len(tokens) == 301\n",
    "\n",
    "        vocab.append(tokens[0])\n",
    "        word_vec.append(tokens[1:])\n",
    "\n",
    "    word2idx = {word: idx for idx, word in enumerate(vocab)}\n",
    "    word_vec = np.array(word_vec).astype(float)\n",
    "    print(f\"word_vec shape: {word_vec.shape}, word2idx length: {len(word2idx)}, vocab length: {len(vocab)}\")\n",
    "\n",
    "    return word_vec, word2idx, vocab\n",
    "\n",
    "dhd_glove, dhd_glove_w2i, dhd_vocab = load_glove_txt(\"../data/glove_dhd.txt\")"
   ]
  },
  {
   "cell_type": "code",
   "execution_count": null,
   "metadata": {},
   "outputs": [],
   "source": [
    "evaluate_cate(dhd_glove, dhd_glove_w2i, dhd_vocab)"
   ]
  }
 ],
 "metadata": {
  "kernelspec": {
   "display_name": "rc2020",
   "language": "python",
   "name": "rc2020"
  },
  "language_info": {
   "codemirror_mode": {
    "name": "ipython",
    "version": 3
   },
   "file_extension": ".py",
   "mimetype": "text/x-python",
   "name": "python",
   "nbconvert_exporter": "python",
   "pygments_lexer": "ipython3",
   "version": "3.8.5"
  }
 },
 "nbformat": 4,
 "nbformat_minor": 4
}
