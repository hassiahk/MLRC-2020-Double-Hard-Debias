{
 "cells": [
  {
   "cell_type": "markdown",
   "metadata": {},
   "source": [
    "<a href=\"https://colab.research.google.com/github/hassiahk/Double-Hard-Debias/blob/main/notebooks/GloVe_Evaluate.ipynb\" target=\"_parent\"><img src=\"https://colab.research.google.com/assets/colab-badge.svg\" alt=\"Open In Colab\"/></a>"
   ]
  },
  {
   "cell_type": "code",
   "execution_count": null,
   "metadata": {
    "id": "uljTjB3eSxcy"
   },
   "outputs": [],
   "source": [
    "import codecs\n",
    "import os\n",
    "import json\n",
    "import operator\n",
    "import pickle\n",
    "import random\n",
    "import numpy as np\n",
    "from numpy import linalg as LA\n",
    "import scipy.spatial\n",
    "import warnings\n",
    "\n",
    "warnings.filterwarnings(\"ignore\")\n",
    "\n",
    "%load_ext autoreload\n",
    "%autoreload 2"
   ]
  },
  {
   "cell_type": "code",
   "execution_count": null,
   "metadata": {
    "id": "YpBhUxh8cu66"
   },
   "outputs": [],
   "source": [
    "def seed_everything(seed=42):\n",
    "    random.seed(seed)\n",
    "    os.environ['PYTHONHASHSEED'] = str(seed)\n",
    "    np.random.seed(seed)\n",
    "seed_everything()"
   ]
  },
  {
   "cell_type": "code",
   "execution_count": null,
   "metadata": {
    "id": "ewIXKpB9TKDY"
   },
   "outputs": [],
   "source": [
    "from double_hard_debias.utils import load_glove_txt\n",
    "\n",
    "\n",
    "def normalize(word_vec):\n",
    "    \"\"\"\n",
    "    Normalize vectors\n",
    "    \"\"\"\n",
    "    norms = np.apply_along_axis(LA.norm, 1, word_vec)\n",
    "    word_vec = word_vec / norms[:, np.newaxis]\n",
    "    return word_vec\n",
    "\n",
    "\n",
    "def debias_gn(word_vec):\n",
    "    \"\"\"\n",
    "    Removes the gender component\n",
    "    \"\"\"\n",
    "    for vector in word_vec:\n",
    "        assert(len(vector) == 300)\n",
    "    \n",
    "    word_vec = word_vec[:,:-1]\n",
    "\n",
    "    for vector in word_vec:\n",
    "        assert(len(v) == 299)\n",
    "    return word_vec"
   ]
  },
  {
   "cell_type": "code",
   "execution_count": null,
   "metadata": {
    "colab": {
     "base_uri": "https://localhost:8080/"
    },
    "executionInfo": {
     "elapsed": 142768,
     "status": "ok",
     "timestamp": 1611915893000,
     "user": {
      "displayName": "Haswanth Kumar Aekula",
      "photoUrl": "",
      "userId": "00471480593148083416"
     },
     "user_tz": -330
    },
    "id": "zaTXImLiTZFa",
    "outputId": "b198ac8c-4b36-48de-a19f-616ddbf2b6c3"
   },
   "outputs": [
    {
     "name": "stdout",
     "output_type": "stream",
     "text": [
      "322636 (322636, 300) 322636\n",
      "322636 (322636, 300) 322636\n"
     ]
    }
   ],
   "source": [
    "glove, glove_word2idx, vocab = load_glove_txt(\"../data/vectors.txt\")\n",
    "gn_glove, gn_glove_word2idx, gn_vocab = load_glove_txt(\"../data/vectors300.txt\")\n",
    "gn_glove_a = debias_gn(gn_glove)"
   ]
  },
  {
   "cell_type": "code",
   "execution_count": null,
   "metadata": {
    "colab": {
     "base_uri": "https://localhost:8080/"
    },
    "executionInfo": {
     "elapsed": 454966,
     "status": "ok",
     "timestamp": 1611916208015,
     "user": {
      "displayName": "Haswanth Kumar Aekula",
      "photoUrl": "",
      "userId": "00471480593148083416"
     },
     "user_tz": -330
    },
    "id": "ib2Z4UOhU4n-",
    "outputId": "07a00fc3-ac71-46b7-cb8b-95ff21c2f082"
   },
   "outputs": [
    {
     "name": "stdout",
     "output_type": "stream",
     "text": [
      "322636 300\n",
      "\n",
      "322636 (322636, 300) 322636\n",
      "322636 300\n",
      "\n",
      "322636 (322636, 300) 322636\n",
      "322636 (322636, 300) 322636\n",
      "322636 (322636, 300) 322636\n"
     ]
    }
   ],
   "source": [
    "gp_glove, gp_glove_word2idx, gp_vocab = load_glove_txt(\"../data/gp_glove.txt\")\n",
    "gp_gn_glove, gp_gn_glove_word2idx, gp_gn_vocab = load_glove_txt(\"../data/gp_gn_glove.txt\")\n",
    "\n",
    "hd_glove, hd_glove_word2idx, hd_vocab = load_glove_txt(\"../data/vectors_hd.txt\")\n",
    "hd_glove_a, hd_glove_a_word2idx, hd_vocab_a = load_glove_txt(\"../data/vectors_hd_a.txt\")"
   ]
  },
  {
   "cell_type": "code",
   "execution_count": null,
   "metadata": {
    "id": "Gx_88fXilpI4"
   },
   "outputs": [],
   "source": [
    "from double_hard_debias.evaluate import evaluate_concept_categorization, evaluate_word_analogy"
   ]
  },
  {
   "cell_type": "markdown",
   "metadata": {
    "id": "05NqjustqCNB"
   },
   "source": [
    "### Concept Categorization"
   ]
  },
  {
   "cell_type": "code",
   "execution_count": null,
   "metadata": {
    "colab": {
     "base_uri": "https://localhost:8080/"
    },
    "executionInfo": {
     "elapsed": 25895,
     "status": "ok",
     "timestamp": 1611655039531,
     "user": {
      "displayName": "Haswanth Kumar Aekula",
      "photoUrl": "",
      "userId": "00471480593148083416"
     },
     "user_tz": -330
    },
    "id": "E-3fDfwRlvGG",
    "outputId": "e906b70f-780c-45cd-9035-ed4b72e49565"
   },
   "outputs": [
    {
     "name": "stdout",
     "output_type": "stream",
     "text": [
      "Calculating categorization benchmarks\n",
      "Sample data from AP, num of samples: 402 : \"['architect']\" is assigned class creator\n",
      "exist 401 in 402\n",
      "Cluster purity on AP 0.5610972568578554\n",
      "Sample data from ESSLI_2c, num of samples: 45 : \"['evaluate']\" is assigned class mentalState-cognition\n",
      "exist 45 in 45\n",
      "Cluster purity on ESSLI_2c 0.5777777777777778\n",
      "Sample data from ESSLI_2b, num of samples: 40 : \"['chicken']\" is assigned class HI\n",
      "exist 40 in 40\n",
      "Cluster purity on ESSLI_2b 0.775\n",
      "Sample data from ESSLI_1a, num of samples: 44 : \"['dog']\" is assigned class groundAnimal-animal\n",
      "exist 44 in 44\n",
      "Cluster purity on ESSLI_1a 0.7272727272727273\n",
      "Sample data from Battig, num of samples: 5231 : \"aunt\" is assigned class relative\n",
      "exist 4125 in 5231\n",
      "Cluster purity on Battig 0.49987878787878787\n",
      "Sample data from BLESS, num of samples: 200 : \"['axe']\" is assigned class tool\n",
      "exist 200 in 200\n",
      "Cluster purity on BLESS 0.81\n"
     ]
    }
   ],
   "source": [
    "evaluate_concept_categorization(glove, glove_word2idx, vocab, seed=42)"
   ]
  },
  {
   "cell_type": "code",
   "execution_count": null,
   "metadata": {
    "colab": {
     "base_uri": "https://localhost:8080/"
    },
    "executionInfo": {
     "elapsed": 26826,
     "status": "ok",
     "timestamp": 1611656582838,
     "user": {
      "displayName": "Haswanth Kumar Aekula",
      "photoUrl": "",
      "userId": "00471480593148083416"
     },
     "user_tz": -330
    },
    "id": "Lirzi06QJBt6",
    "outputId": "eeb4a153-24a7-4b72-8df6-906e13bc2af7"
   },
   "outputs": [
    {
     "name": "stdout",
     "output_type": "stream",
     "text": [
      "Calculating categorization benchmarks\n",
      "Sample data from AP, num of samples: 402 : \"['architect']\" is assigned class creator\n",
      "exist 401 in 402\n",
      "Cluster purity on AP 0.5685785536159601\n",
      "Sample data from ESSLI_2c, num of samples: 45 : \"['evaluate']\" is assigned class mentalState-cognition\n",
      "exist 45 in 45\n",
      "Cluster purity on ESSLI_2c 0.5777777777777778\n",
      "Sample data from ESSLI_2b, num of samples: 40 : \"['chicken']\" is assigned class HI\n",
      "exist 40 in 40\n",
      "Cluster purity on ESSLI_2b 0.75\n",
      "Sample data from ESSLI_1a, num of samples: 44 : \"['dog']\" is assigned class groundAnimal-animal\n",
      "exist 44 in 44\n",
      "Cluster purity on ESSLI_1a 0.75\n",
      "Sample data from Battig, num of samples: 5231 : \"aunt\" is assigned class relative\n",
      "exist 4125 in 5231\n",
      "Cluster purity on Battig 0.4761212121212121\n",
      "Sample data from BLESS, num of samples: 200 : \"['axe']\" is assigned class tool\n",
      "exist 200 in 200\n",
      "Cluster purity on BLESS 0.85\n"
     ]
    }
   ],
   "source": [
    "evaluate_concept_categorization(gn_glove, gn_glove_word2idx, gn_vocab, seed=42)"
   ]
  },
  {
   "cell_type": "code",
   "execution_count": null,
   "metadata": {
    "colab": {
     "base_uri": "https://localhost:8080/"
    },
    "executionInfo": {
     "elapsed": 51407,
     "status": "ok",
     "timestamp": 1611656608019,
     "user": {
      "displayName": "Haswanth Kumar Aekula",
      "photoUrl": "",
      "userId": "00471480593148083416"
     },
     "user_tz": -330
    },
    "id": "Om5C-SBeJDhH",
    "outputId": "3e96f54c-bd4a-4e51-f1db-2b8b5394984b"
   },
   "outputs": [
    {
     "name": "stdout",
     "output_type": "stream",
     "text": [
      "Calculating categorization benchmarks\n",
      "Sample data from AP, num of samples: 402 : \"['architect']\" is assigned class creator\n",
      "exist 401 in 402\n",
      "Cluster purity on AP 0.5685785536159601\n",
      "Sample data from ESSLI_2c, num of samples: 45 : \"['evaluate']\" is assigned class mentalState-cognition\n",
      "exist 45 in 45\n",
      "Cluster purity on ESSLI_2c 0.5777777777777778\n",
      "Sample data from ESSLI_2b, num of samples: 40 : \"['chicken']\" is assigned class HI\n",
      "exist 40 in 40\n",
      "Cluster purity on ESSLI_2b 0.75\n",
      "Sample data from ESSLI_1a, num of samples: 44 : \"['dog']\" is assigned class groundAnimal-animal\n",
      "exist 44 in 44\n",
      "Cluster purity on ESSLI_1a 0.7272727272727273\n",
      "Sample data from Battig, num of samples: 5231 : \"aunt\" is assigned class relative\n",
      "exist 4125 in 5231\n",
      "Cluster purity on Battig 0.5015757575757576\n",
      "Sample data from BLESS, num of samples: 200 : \"['axe']\" is assigned class tool\n",
      "exist 200 in 200\n",
      "Cluster purity on BLESS 0.8250000000000001\n"
     ]
    }
   ],
   "source": [
    "evaluate_concept_categorization(gn_glove_a, gn_glove_word2idx, gn_vocab, seed=42)"
   ]
  },
  {
   "cell_type": "code",
   "execution_count": null,
   "metadata": {
    "colab": {
     "base_uri": "https://localhost:8080/"
    },
    "executionInfo": {
     "elapsed": 75877,
     "status": "ok",
     "timestamp": 1611656633045,
     "user": {
      "displayName": "Haswanth Kumar Aekula",
      "photoUrl": "",
      "userId": "00471480593148083416"
     },
     "user_tz": -330
    },
    "id": "vU6tGIepJEW2",
    "outputId": "83a333fa-4bb3-49bb-b2f4-4f996c660c54"
   },
   "outputs": [
    {
     "name": "stdout",
     "output_type": "stream",
     "text": [
      "Calculating categorization benchmarks\n",
      "Sample data from AP, num of samples: 402 : \"['architect']\" is assigned class creator\n",
      "exist 401 in 402\n",
      "Cluster purity on AP 0.5610972568578554\n",
      "Sample data from ESSLI_2c, num of samples: 45 : \"['evaluate']\" is assigned class mentalState-cognition\n",
      "exist 45 in 45\n",
      "Cluster purity on ESSLI_2c 0.5777777777777778\n",
      "Sample data from ESSLI_2b, num of samples: 40 : \"['chicken']\" is assigned class HI\n",
      "exist 40 in 40\n",
      "Cluster purity on ESSLI_2b 0.775\n",
      "Sample data from ESSLI_1a, num of samples: 44 : \"['dog']\" is assigned class groundAnimal-animal\n",
      "exist 44 in 44\n",
      "Cluster purity on ESSLI_1a 0.7272727272727273\n",
      "Sample data from Battig, num of samples: 5231 : \"aunt\" is assigned class relative\n",
      "exist 4125 in 5231\n",
      "Cluster purity on Battig 0.4896969696969697\n",
      "Sample data from BLESS, num of samples: 200 : \"['axe']\" is assigned class tool\n",
      "exist 200 in 200\n",
      "Cluster purity on BLESS 0.785\n"
     ]
    }
   ],
   "source": [
    "evaluate_concept_categorization(gp_glove, gp_glove_word2idx, gp_vocab, seed=42)"
   ]
  },
  {
   "cell_type": "code",
   "execution_count": null,
   "metadata": {
    "colab": {
     "base_uri": "https://localhost:8080/"
    },
    "executionInfo": {
     "elapsed": 100419,
     "status": "ok",
     "timestamp": 1611656658225,
     "user": {
      "displayName": "Haswanth Kumar Aekula",
      "photoUrl": "",
      "userId": "00471480593148083416"
     },
     "user_tz": -330
    },
    "id": "RsngKOIlJE4F",
    "outputId": "fe788872-ae71-47ba-c7f8-edae525a84bc"
   },
   "outputs": [
    {
     "name": "stdout",
     "output_type": "stream",
     "text": [
      "Calculating categorization benchmarks\n",
      "Sample data from AP, num of samples: 402 : \"['architect']\" is assigned class creator\n",
      "exist 401 in 402\n",
      "Cluster purity on AP 0.6109725685785536\n",
      "Sample data from ESSLI_2c, num of samples: 45 : \"['evaluate']\" is assigned class mentalState-cognition\n",
      "exist 45 in 45\n",
      "Cluster purity on ESSLI_2c 0.5777777777777778\n",
      "Sample data from ESSLI_2b, num of samples: 40 : \"['chicken']\" is assigned class HI\n",
      "exist 40 in 40\n",
      "Cluster purity on ESSLI_2b 0.75\n",
      "Sample data from ESSLI_1a, num of samples: 44 : \"['dog']\" is assigned class groundAnimal-animal\n",
      "exist 44 in 44\n",
      "Cluster purity on ESSLI_1a 0.7045454545454546\n",
      "Sample data from Battig, num of samples: 5231 : \"aunt\" is assigned class relative\n",
      "exist 4125 in 5231\n",
      "Cluster purity on Battig 0.5093333333333333\n",
      "Sample data from BLESS, num of samples: 200 : \"['axe']\" is assigned class tool\n",
      "exist 200 in 200\n",
      "Cluster purity on BLESS 0.775\n"
     ]
    }
   ],
   "source": [
    "evaluate_concept_categorization(gp_gn_glove, gp_gn_glove_word2idx, gp_gn_vocab, seed=42)"
   ]
  },
  {
   "cell_type": "code",
   "execution_count": null,
   "metadata": {
    "colab": {
     "base_uri": "https://localhost:8080/"
    },
    "executionInfo": {
     "elapsed": 124690,
     "status": "ok",
     "timestamp": 1611656683114,
     "user": {
      "displayName": "Haswanth Kumar Aekula",
      "photoUrl": "",
      "userId": "00471480593148083416"
     },
     "user_tz": -330
    },
    "id": "aBywVqWmJFZa",
    "outputId": "2b0ec822-2b04-4989-e674-a4cc49b0b00d"
   },
   "outputs": [
    {
     "name": "stdout",
     "output_type": "stream",
     "text": [
      "Calculating categorization benchmarks\n",
      "Sample data from AP, num of samples: 402 : \"['architect']\" is assigned class creator\n",
      "exist 401 in 402\n",
      "Cluster purity on AP 0.6234413965087282\n",
      "Sample data from ESSLI_2c, num of samples: 45 : \"['evaluate']\" is assigned class mentalState-cognition\n",
      "exist 45 in 45\n",
      "Cluster purity on ESSLI_2c 0.6444444444444445\n",
      "Sample data from ESSLI_2b, num of samples: 40 : \"['chicken']\" is assigned class HI\n",
      "exist 40 in 40\n",
      "Cluster purity on ESSLI_2b 0.8\n",
      "Sample data from ESSLI_1a, num of samples: 44 : \"['dog']\" is assigned class groundAnimal-animal\n",
      "exist 44 in 44\n",
      "Cluster purity on ESSLI_1a 0.7954545454545455\n",
      "Sample data from Battig, num of samples: 5231 : \"aunt\" is assigned class relative\n",
      "exist 4125 in 5231\n",
      "Cluster purity on Battig 0.4829090909090909\n",
      "Sample data from BLESS, num of samples: 200 : \"['axe']\" is assigned class tool\n",
      "exist 200 in 200\n",
      "Cluster purity on BLESS 0.845\n"
     ]
    }
   ],
   "source": [
    "evaluate_concept_categorization(hd_glove, hd_glove_word2idx, hd_vocab, seed=42)"
   ]
  },
  {
   "cell_type": "code",
   "execution_count": null,
   "metadata": {
    "colab": {
     "base_uri": "https://localhost:8080/"
    },
    "executionInfo": {
     "elapsed": 149025,
     "status": "ok",
     "timestamp": 1611656707993,
     "user": {
      "displayName": "Haswanth Kumar Aekula",
      "photoUrl": "",
      "userId": "00471480593148083416"
     },
     "user_tz": -330
    },
    "id": "bdlgluISJF6u",
    "outputId": "080b2c98-930d-431e-8d97-6f893102d426"
   },
   "outputs": [
    {
     "name": "stdout",
     "output_type": "stream",
     "text": [
      "Calculating categorization benchmarks\n",
      "Sample data from AP, num of samples: 402 : \"['architect']\" is assigned class creator\n",
      "exist 401 in 402\n",
      "Cluster purity on AP 0.6234413965087282\n",
      "Sample data from ESSLI_2c, num of samples: 45 : \"['evaluate']\" is assigned class mentalState-cognition\n",
      "exist 45 in 45\n",
      "Cluster purity on ESSLI_2c 0.6444444444444445\n",
      "Sample data from ESSLI_2b, num of samples: 40 : \"['chicken']\" is assigned class HI\n",
      "exist 40 in 40\n",
      "Cluster purity on ESSLI_2b 0.8\n",
      "Sample data from ESSLI_1a, num of samples: 44 : \"['dog']\" is assigned class groundAnimal-animal\n",
      "exist 44 in 44\n",
      "Cluster purity on ESSLI_1a 0.7954545454545455\n",
      "Sample data from Battig, num of samples: 5231 : \"aunt\" is assigned class relative\n",
      "exist 4125 in 5231\n",
      "Cluster purity on Battig 0.5093333333333333\n",
      "Sample data from BLESS, num of samples: 200 : \"['axe']\" is assigned class tool\n",
      "exist 200 in 200\n",
      "Cluster purity on BLESS 0.845\n"
     ]
    }
   ],
   "source": [
    "evaluate_concept_categorization(hd_glove_a, hd_glove_a_word2idx, hd_vocab_a, seed=42)"
   ]
  },
  {
   "cell_type": "code",
   "execution_count": null,
   "metadata": {
    "colab": {
     "base_uri": "https://localhost:8080/"
    },
    "executionInfo": {
     "elapsed": 169429,
     "status": "ok",
     "timestamp": 1611656733050,
     "user": {
      "displayName": "Haswanth Kumar Aekula",
      "photoUrl": "",
      "userId": "00471480593148083416"
     },
     "user_tz": -330
    },
    "id": "qXCUsHPiJGw8",
    "outputId": "b0cbfd13-16d6-4e37-e234-b13b4bb6ac14"
   },
   "outputs": [
    {
     "name": "stdout",
     "output_type": "stream",
     "text": [
      "Calculating categorization benchmarks\n",
      "Sample data from AP, num of samples: 402 : \"['architect']\" is assigned class creator\n",
      "exist 401 in 402\n",
      "Cluster purity on AP 0.5960099750623441\n",
      "Sample data from ESSLI_2c, num of samples: 45 : \"['evaluate']\" is assigned class mentalState-cognition\n",
      "exist 45 in 45\n",
      "Cluster purity on ESSLI_2c 0.5777777777777778\n",
      "Sample data from ESSLI_2b, num of samples: 40 : \"['chicken']\" is assigned class HI\n",
      "exist 40 in 40\n",
      "Cluster purity on ESSLI_2b 0.75\n",
      "Sample data from ESSLI_1a, num of samples: 44 : \"['dog']\" is assigned class groundAnimal-animal\n",
      "exist 44 in 44\n",
      "Cluster purity on ESSLI_1a 0.7272727272727273\n",
      "Sample data from Battig, num of samples: 5231 : \"aunt\" is assigned class relative\n",
      "exist 4125 in 5231\n",
      "Cluster purity on Battig 0.46715151515151515\n",
      "Sample data from BLESS, num of samples: 200 : \"['axe']\" is assigned class tool\n",
      "exist 200 in 200\n",
      "Cluster purity on BLESS 0.795\n"
     ]
    }
   ],
   "source": [
    "evaluate_concept_categorization(dhd_glove_reproduced, dhd_glove_word2idx_reproduced, dhd_vocab_reproduced, seed=42)"
   ]
  },
  {
   "cell_type": "markdown",
   "metadata": {
    "id": "wt4wuZFqqPeO"
   },
   "source": [
    "### Word Analogy"
   ]
  },
  {
   "cell_type": "code",
   "execution_count": null,
   "metadata": {
    "colab": {
     "base_uri": "https://localhost:8080/"
    },
    "executionInfo": {
     "elapsed": 436679,
     "status": "ok",
     "timestamp": 1611656334808,
     "user": {
      "displayName": "Haswanth Kumar Aekula",
      "photoUrl": "",
      "userId": "00471480593148083416"
     },
     "user_tz": -330
    },
    "id": "TAzQYWf7lyj6",
    "outputId": "f4093117-3a84-4fcc-fd2b-62e48dd6d7ee"
   },
   "outputs": [
    {
     "name": "stdout",
     "output_type": "stream",
     "text": [
      "6750\n",
      "ACCURACY TOP1-MSR: 54.24% (3661/6750)\n",
      "capital-common-countries.txt:\n",
      "ACCURACY TOP1: 96.44% (488/506)\n",
      "capital-world.txt:\n",
      "ACCURACY TOP1: 96.35% (4359/4524)\n",
      "currency.txt:\n",
      "ACCURACY TOP1: 6.58% (57/866)\n",
      "city-in-state.txt:\n",
      "ACCURACY TOP1: 72.64% (1792/2467)\n",
      "family.txt:\n",
      "ACCURACY TOP1: 87.35% (442/506)\n",
      "gram1-adjective-to-adverb.txt:\n",
      "ACCURACY TOP1: 20.97% (208/992)\n",
      "gram2-opposite.txt:\n",
      "ACCURACY TOP1: 28.94% (235/812)\n",
      "gram3-comparative.txt:\n",
      "ACCURACY TOP1: 85.29% (1136/1332)\n",
      "gram4-superlative.txt:\n",
      "ACCURACY TOP1: 49.02% (550/1122)\n",
      "gram5-present-participle.txt:\n",
      "ACCURACY TOP1: 63.16% (667/1056)\n",
      "gram6-nationality-adjective.txt:\n",
      "ACCURACY TOP1: 91.99% (1471/1599)\n",
      "gram7-past-tense.txt:\n",
      "ACCURACY TOP1: 56.35% (879/1560)\n",
      "gram8-plural.txt:\n",
      "ACCURACY TOP1: 78.68% (1048/1332)\n",
      "gram9-plural-verbs.txt:\n",
      "ACCURACY TOP1: 58.16% (506/870)\n",
      "Questions seen/total: 100.00% (19544/19544)\n",
      "Semantic accuracy: 80.48%  (7138/8869)\n",
      "Syntactic accuracy: 62.76%  (6700/10675)\n",
      "Total accuracy: 70.80%  (13838/19544)\n",
      "Analogy prediction accuracy on SemEval2012 0.17566254825324343\n"
     ]
    }
   ],
   "source": [
    "evaluate_word_analogy(glove, glove_word2idx, vocab)"
   ]
  },
  {
   "cell_type": "code",
   "execution_count": null,
   "metadata": {
    "colab": {
     "base_uri": "https://localhost:8080/"
    },
    "executionInfo": {
     "elapsed": 595278,
     "status": "ok",
     "timestamp": 1611657164436,
     "user": {
      "displayName": "Haswanth Kumar Aekula",
      "photoUrl": "",
      "userId": "00471480593148083416"
     },
     "user_tz": -330
    },
    "id": "q9TQDTxoKFsj",
    "outputId": "61001e42-b721-4960-8de9-0ea4f4988b58"
   },
   "outputs": [
    {
     "name": "stdout",
     "output_type": "stream",
     "text": [
      "6750\n",
      "ACCURACY TOP1-MSR: 51.79% (3496/6750)\n",
      "capital-common-countries.txt:\n",
      "ACCURACY TOP1: 96.44% (488/506)\n",
      "capital-world.txt:\n",
      "ACCURACY TOP1: 96.07% (4346/4524)\n",
      "currency.txt:\n",
      "ACCURACY TOP1: 7.51% (65/866)\n",
      "city-in-state.txt:\n",
      "ACCURACY TOP1: 64.57% (1593/2467)\n",
      "family.txt:\n",
      "ACCURACY TOP1: 77.47% (392/506)\n",
      "gram1-adjective-to-adverb.txt:\n",
      "ACCURACY TOP1: 20.77% (206/992)\n",
      "gram2-opposite.txt:\n",
      "ACCURACY TOP1: 26.85% (218/812)\n",
      "gram3-comparative.txt:\n",
      "ACCURACY TOP1: 82.58% (1100/1332)\n",
      "gram4-superlative.txt:\n",
      "ACCURACY TOP1: 48.04% (539/1122)\n",
      "gram5-present-participle.txt:\n",
      "ACCURACY TOP1: 57.95% (612/1056)\n",
      "gram6-nationality-adjective.txt:\n",
      "ACCURACY TOP1: 91.12% (1457/1599)\n",
      "gram7-past-tense.txt:\n",
      "ACCURACY TOP1: 55.58% (867/1560)\n",
      "gram8-plural.txt:\n",
      "ACCURACY TOP1: 78.38% (1044/1332)\n",
      "gram9-plural-verbs.txt:\n",
      "ACCURACY TOP1: 61.26% (533/870)\n",
      "Questions seen/total: 100.00% (19544/19544)\n",
      "Semantic accuracy: 77.62%  (6884/8869)\n",
      "Syntactic accuracy: 61.60%  (6576/10675)\n",
      "Total accuracy: 68.87%  (13460/19544)\n",
      "Analogy prediction accuracy on SemEval2012 0.1620272846680325\n"
     ]
    }
   ],
   "source": [
    "evaluate_word_analogy(gn_glove, gn_glove_word2idx, gn_vocab)"
   ]
  },
  {
   "cell_type": "code",
   "execution_count": null,
   "metadata": {
    "colab": {
     "base_uri": "https://localhost:8080/"
    },
    "executionInfo": {
     "elapsed": 1023608,
     "status": "ok",
     "timestamp": 1611657593318,
     "user": {
      "displayName": "Haswanth Kumar Aekula",
      "photoUrl": "",
      "userId": "00471480593148083416"
     },
     "user_tz": -330
    },
    "id": "rKH7ATxXKFsz",
    "outputId": "9ea8d6c5-fdcd-4b03-d6ed-269ef560f044"
   },
   "outputs": [
    {
     "name": "stdout",
     "output_type": "stream",
     "text": [
      "6750\n",
      "ACCURACY TOP1-MSR: 51.90% (3503/6750)\n",
      "capital-common-countries.txt:\n",
      "ACCURACY TOP1: 96.44% (488/506)\n",
      "capital-world.txt:\n",
      "ACCURACY TOP1: 96.22% (4353/4524)\n",
      "currency.txt:\n",
      "ACCURACY TOP1: 7.04% (61/866)\n",
      "city-in-state.txt:\n",
      "ACCURACY TOP1: 65.59% (1618/2467)\n",
      "family.txt:\n",
      "ACCURACY TOP1: 72.92% (369/506)\n",
      "gram1-adjective-to-adverb.txt:\n",
      "ACCURACY TOP1: 20.67% (205/992)\n",
      "gram2-opposite.txt:\n",
      "ACCURACY TOP1: 27.71% (225/812)\n",
      "gram3-comparative.txt:\n",
      "ACCURACY TOP1: 82.43% (1098/1332)\n",
      "gram4-superlative.txt:\n",
      "ACCURACY TOP1: 48.93% (549/1122)\n",
      "gram5-present-participle.txt:\n",
      "ACCURACY TOP1: 57.77% (610/1056)\n",
      "gram6-nationality-adjective.txt:\n",
      "ACCURACY TOP1: 91.31% (1460/1599)\n",
      "gram7-past-tense.txt:\n",
      "ACCURACY TOP1: 56.28% (878/1560)\n",
      "gram8-plural.txt:\n",
      "ACCURACY TOP1: 77.33% (1030/1332)\n",
      "gram9-plural-verbs.txt:\n",
      "ACCURACY TOP1: 59.43% (517/870)\n",
      "Questions seen/total: 100.00% (19544/19544)\n",
      "Semantic accuracy: 77.68%  (6889/8869)\n",
      "Syntactic accuracy: 61.56%  (6572/10675)\n",
      "Total accuracy: 68.88%  (13461/19544)\n",
      "Analogy prediction accuracy on SemEval2012 0.17454325679918348\n"
     ]
    }
   ],
   "source": [
    "evaluate_word_analogy(gn_glove_a, gn_glove_word2idx, gn_vocab)"
   ]
  },
  {
   "cell_type": "code",
   "execution_count": null,
   "metadata": {
    "colab": {
     "base_uri": "https://localhost:8080/"
    },
    "executionInfo": {
     "elapsed": 1451622,
     "status": "ok",
     "timestamp": 1611658021880,
     "user": {
      "displayName": "Haswanth Kumar Aekula",
      "photoUrl": "",
      "userId": "00471480593148083416"
     },
     "user_tz": -330
    },
    "id": "xDN-P2sFKFsz",
    "outputId": "942bd495-c17b-43ed-d8cc-d08084fd7036"
   },
   "outputs": [
    {
     "name": "stdout",
     "output_type": "stream",
     "text": [
      "6750\n",
      "ACCURACY TOP1-MSR: 51.29% (3462/6750)\n",
      "capital-common-countries.txt:\n",
      "ACCURACY TOP1: 96.64% (489/506)\n",
      "capital-world.txt:\n",
      "ACCURACY TOP1: 95.56% (4323/4524)\n",
      "currency.txt:\n",
      "ACCURACY TOP1: 6.12% (53/866)\n",
      "city-in-state.txt:\n",
      "ACCURACY TOP1: 75.03% (1851/2467)\n",
      "family.txt:\n",
      "ACCURACY TOP1: 85.38% (432/506)\n",
      "gram1-adjective-to-adverb.txt:\n",
      "ACCURACY TOP1: 22.18% (220/992)\n",
      "gram2-opposite.txt:\n",
      "ACCURACY TOP1: 26.48% (215/812)\n",
      "gram3-comparative.txt:\n",
      "ACCURACY TOP1: 84.38% (1124/1332)\n",
      "gram4-superlative.txt:\n",
      "ACCURACY TOP1: 46.88% (526/1122)\n",
      "gram5-present-participle.txt:\n",
      "ACCURACY TOP1: 62.97% (665/1056)\n",
      "gram6-nationality-adjective.txt:\n",
      "ACCURACY TOP1: 92.18% (1474/1599)\n",
      "gram7-past-tense.txt:\n",
      "ACCURACY TOP1: 53.46% (834/1560)\n",
      "gram8-plural.txt:\n",
      "ACCURACY TOP1: 75.90% (1011/1332)\n",
      "gram9-plural-verbs.txt:\n",
      "ACCURACY TOP1: 59.43% (517/870)\n",
      "Questions seen/total: 100.00% (19544/19544)\n",
      "Semantic accuracy: 80.60%  (7148/8869)\n",
      "Syntactic accuracy: 61.70%  (6586/10675)\n",
      "Total accuracy: 70.27%  (13734/19544)\n",
      "Analogy prediction accuracy on SemEval2012 0.17427152056412687\n"
     ]
    }
   ],
   "source": [
    "evaluate_word_analogy(gp_glove, gp_glove_word2idx, gp_vocab)"
   ]
  },
  {
   "cell_type": "code",
   "execution_count": null,
   "metadata": {
    "colab": {
     "base_uri": "https://localhost:8080/"
    },
    "executionInfo": {
     "elapsed": 1881972,
     "status": "ok",
     "timestamp": 1611658452736,
     "user": {
      "displayName": "Haswanth Kumar Aekula",
      "photoUrl": "",
      "userId": "00471480593148083416"
     },
     "user_tz": -330
    },
    "id": "RBpGB4ZkKFs0",
    "outputId": "c33e9639-124c-4f1d-b5e9-ef5129185d0a"
   },
   "outputs": [
    {
     "name": "stdout",
     "output_type": "stream",
     "text": [
      "6750\n",
      "ACCURACY TOP1-MSR: 51.81% (3497/6750)\n",
      "capital-common-countries.txt:\n",
      "ACCURACY TOP1: 96.84% (490/506)\n",
      "capital-world.txt:\n",
      "ACCURACY TOP1: 96.57% (4369/4524)\n",
      "currency.txt:\n",
      "ACCURACY TOP1: 5.89% (51/866)\n",
      "city-in-state.txt:\n",
      "ACCURACY TOP1: 66.03% (1629/2467)\n",
      "family.txt:\n",
      "ACCURACY TOP1: 68.58% (347/506)\n",
      "gram1-adjective-to-adverb.txt:\n",
      "ACCURACY TOP1: 20.46% (203/992)\n",
      "gram2-opposite.txt:\n",
      "ACCURACY TOP1: 27.83% (226/812)\n",
      "gram3-comparative.txt:\n",
      "ACCURACY TOP1: 84.01% (1119/1332)\n",
      "gram4-superlative.txt:\n",
      "ACCURACY TOP1: 48.40% (543/1122)\n",
      "gram5-present-participle.txt:\n",
      "ACCURACY TOP1: 56.44% (596/1056)\n",
      "gram6-nationality-adjective.txt:\n",
      "ACCURACY TOP1: 91.62% (1465/1599)\n",
      "gram7-past-tense.txt:\n",
      "ACCURACY TOP1: 56.47% (881/1560)\n",
      "gram8-plural.txt:\n",
      "ACCURACY TOP1: 76.05% (1013/1332)\n",
      "gram9-plural-verbs.txt:\n",
      "ACCURACY TOP1: 62.18% (541/870)\n",
      "Questions seen/total: 100.00% (19544/19544)\n",
      "Semantic accuracy: 77.64%  (6886/8869)\n",
      "Syntactic accuracy: 61.70%  (6587/10675)\n",
      "Total accuracy: 68.94%  (13473/19544)\n",
      "Analogy prediction accuracy on SemEval2012 0.17776766097974608\n"
     ]
    }
   ],
   "source": [
    "evaluate_word_analogy(gp_gn_glove, gp_gn_glove_word2idx, gp_gn_vocab)"
   ]
  },
  {
   "cell_type": "code",
   "execution_count": null,
   "metadata": {
    "colab": {
     "base_uri": "https://localhost:8080/"
    },
    "executionInfo": {
     "elapsed": 2309421,
     "status": "ok",
     "timestamp": 1611658881635,
     "user": {
      "displayName": "Haswanth Kumar Aekula",
      "photoUrl": "",
      "userId": "00471480593148083416"
     },
     "user_tz": -330
    },
    "id": "c4hZrby_KFs0",
    "outputId": "41cbe90d-a4aa-4c98-ad7d-a0dadf53a55a"
   },
   "outputs": [
    {
     "name": "stdout",
     "output_type": "stream",
     "text": [
      "6750\n",
      "ACCURACY TOP1-MSR: 54.27% (3663/6750)\n",
      "capital-common-countries.txt:\n",
      "ACCURACY TOP1: 96.44% (488/506)\n",
      "capital-world.txt:\n",
      "ACCURACY TOP1: 96.35% (4359/4524)\n",
      "currency.txt:\n",
      "ACCURACY TOP1: 6.47% (56/866)\n",
      "city-in-state.txt:\n",
      "ACCURACY TOP1: 72.68% (1793/2467)\n",
      "family.txt:\n",
      "ACCURACY TOP1: 83.79% (424/506)\n",
      "gram1-adjective-to-adverb.txt:\n",
      "ACCURACY TOP1: 20.97% (208/992)\n",
      "gram2-opposite.txt:\n",
      "ACCURACY TOP1: 28.82% (234/812)\n",
      "gram3-comparative.txt:\n",
      "ACCURACY TOP1: 85.36% (1137/1332)\n",
      "gram4-superlative.txt:\n",
      "ACCURACY TOP1: 48.93% (549/1122)\n",
      "gram5-present-participle.txt:\n",
      "ACCURACY TOP1: 63.26% (668/1056)\n",
      "gram6-nationality-adjective.txt:\n",
      "ACCURACY TOP1: 91.99% (1471/1599)\n",
      "gram7-past-tense.txt:\n",
      "ACCURACY TOP1: 56.54% (882/1560)\n",
      "gram8-plural.txt:\n",
      "ACCURACY TOP1: 78.23% (1042/1332)\n",
      "gram9-plural-verbs.txt:\n",
      "ACCURACY TOP1: 58.28% (507/870)\n",
      "Questions seen/total: 100.00% (19544/19544)\n",
      "Semantic accuracy: 80.28%  (7120/8869)\n",
      "Syntactic accuracy: 62.74%  (6698/10675)\n",
      "Total accuracy: 70.70%  (13818/19544)\n",
      "Analogy prediction accuracy on SemEval2012 0.17877861007323925\n"
     ]
    }
   ],
   "source": [
    "evaluate_word_analogy(hd_glove, hd_glove_word2idx, hd_vocab)"
   ]
  },
  {
   "cell_type": "code",
   "execution_count": null,
   "metadata": {
    "colab": {
     "base_uri": "https://localhost:8080/"
    },
    "executionInfo": {
     "elapsed": 2736096,
     "status": "ok",
     "timestamp": 1611659308959,
     "user": {
      "displayName": "Haswanth Kumar Aekula",
      "photoUrl": "",
      "userId": "00471480593148083416"
     },
     "user_tz": -330
    },
    "id": "8acdZ8QPKFs0",
    "outputId": "43e74ea4-340a-4772-a30b-7d0e6ae5b72b"
   },
   "outputs": [
    {
     "name": "stdout",
     "output_type": "stream",
     "text": [
      "6750\n",
      "ACCURACY TOP1-MSR: 53.94% (3641/6750)\n",
      "capital-common-countries.txt:\n",
      "ACCURACY TOP1: 96.44% (488/506)\n",
      "capital-world.txt:\n",
      "ACCURACY TOP1: 96.35% (4359/4524)\n",
      "currency.txt:\n",
      "ACCURACY TOP1: 6.47% (56/866)\n",
      "city-in-state.txt:\n",
      "ACCURACY TOP1: 72.68% (1793/2467)\n",
      "family.txt:\n",
      "ACCURACY TOP1: 53.95% (273/506)\n",
      "gram1-adjective-to-adverb.txt:\n",
      "ACCURACY TOP1: 20.97% (208/992)\n",
      "gram2-opposite.txt:\n",
      "ACCURACY TOP1: 28.82% (234/812)\n",
      "gram3-comparative.txt:\n",
      "ACCURACY TOP1: 85.36% (1137/1332)\n",
      "gram4-superlative.txt:\n",
      "ACCURACY TOP1: 48.93% (549/1122)\n",
      "gram5-present-participle.txt:\n",
      "ACCURACY TOP1: 63.26% (668/1056)\n",
      "gram6-nationality-adjective.txt:\n",
      "ACCURACY TOP1: 91.99% (1471/1599)\n",
      "gram7-past-tense.txt:\n",
      "ACCURACY TOP1: 56.54% (882/1560)\n",
      "gram8-plural.txt:\n",
      "ACCURACY TOP1: 75.68% (1008/1332)\n",
      "gram9-plural-verbs.txt:\n",
      "ACCURACY TOP1: 58.28% (507/870)\n",
      "Questions seen/total: 100.00% (19544/19544)\n",
      "Semantic accuracy: 78.58%  (6969/8869)\n",
      "Syntactic accuracy: 62.43%  (6664/10675)\n",
      "Total accuracy: 69.76%  (13633/19544)\n",
      "Analogy prediction accuracy on SemEval2012 0.17625085732716383\n"
     ]
    }
   ],
   "source": [
    "evaluate_word_analogy(hd_glove_a, hd_glove_a_word2idx, hd_vocab_a)"
   ]
  },
  {
   "cell_type": "code",
   "execution_count": null,
   "metadata": {
    "colab": {
     "base_uri": "https://localhost:8080/"
    },
    "executionInfo": {
     "elapsed": 3162816,
     "status": "ok",
     "timestamp": 1611659736387,
     "user": {
      "displayName": "Haswanth Kumar Aekula",
      "photoUrl": "",
      "userId": "00471480593148083416"
     },
     "user_tz": -330
    },
    "id": "N9CjmfR_KFs0",
    "outputId": "7180d44e-b148-4a80-c388-5509fa0a2110"
   },
   "outputs": [
    {
     "name": "stdout",
     "output_type": "stream",
     "text": [
      "6750\n",
      "ACCURACY TOP1-MSR: 53.81% (3632/6750)\n",
      "capital-common-countries.txt:\n",
      "ACCURACY TOP1: 96.44% (488/506)\n",
      "capital-world.txt:\n",
      "ACCURACY TOP1: 96.68% (4374/4524)\n",
      "currency.txt:\n",
      "ACCURACY TOP1: 6.00% (52/866)\n",
      "city-in-state.txt:\n",
      "ACCURACY TOP1: 74.67% (1842/2467)\n",
      "family.txt:\n",
      "ACCURACY TOP1: 83.60% (423/506)\n",
      "gram1-adjective-to-adverb.txt:\n",
      "ACCURACY TOP1: 21.07% (209/992)\n",
      "gram2-opposite.txt:\n",
      "ACCURACY TOP1: 28.33% (230/812)\n",
      "gram3-comparative.txt:\n",
      "ACCURACY TOP1: 84.46% (1125/1332)\n",
      "gram4-superlative.txt:\n",
      "ACCURACY TOP1: 47.42% (532/1122)\n",
      "gram5-present-participle.txt:\n",
      "ACCURACY TOP1: 62.88% (664/1056)\n",
      "gram6-nationality-adjective.txt:\n",
      "ACCURACY TOP1: 91.99% (1471/1599)\n",
      "gram7-past-tense.txt:\n",
      "ACCURACY TOP1: 54.62% (852/1560)\n",
      "gram8-plural.txt:\n",
      "ACCURACY TOP1: 76.43% (1018/1332)\n",
      "gram9-plural-verbs.txt:\n",
      "ACCURACY TOP1: 55.06% (479/870)\n",
      "Questions seen/total: 100.00% (19544/19544)\n",
      "Semantic accuracy: 80.94%  (7179/8869)\n",
      "Syntactic accuracy: 61.64%  (6580/10675)\n",
      "Total accuracy: 70.40%  (13759/19544)\n",
      "Analogy prediction accuracy on SemEval2012 0.17303299182822926\n"
     ]
    }
   ],
   "source": [
    "evaluate_word_analogy(dhd_glove_reproduced, dhd_glove_word2idx_reproduced, dhd_vocab_reproduced)"
   ]
  },
  {
   "cell_type": "code",
   "execution_count": null,
   "metadata": {
    "colab": {
     "base_uri": "https://localhost:8080/"
    },
    "executionInfo": {
     "elapsed": 536640,
     "status": "ok",
     "timestamp": 1611916318826,
     "user": {
      "displayName": "Haswanth Kumar Aekula",
      "photoUrl": "",
      "userId": "00471480593148083416"
     },
     "user_tz": -330
    },
    "id": "HRf208jZN7Ie",
    "outputId": "d1e66c96-3602-4429-8de1-bf04e5f6973b"
   },
   "outputs": [
    {
     "name": "stdout",
     "output_type": "stream",
     "text": [
      "442\n"
     ]
    },
    {
     "name": "stderr",
     "output_type": "stream",
     "text": [
      "100%|██████████| 50000/50000 [00:00<00:00, 337489.88it/s]"
     ]
    },
    {
     "name": "stdout",
     "output_type": "stream",
     "text": [
      "1883\n",
      "size of vocabulary: 47628\n"
     ]
    },
    {
     "name": "stderr",
     "output_type": "stream",
     "text": [
      "\n",
      "100%|██████████| 50000/50000 [00:00<00:00, 472613.61it/s]\n",
      "  0%|          | 0/50000 [00:00<?, ?it/s]"
     ]
    },
    {
     "name": "stdout",
     "output_type": "stream",
     "text": [
      "size of vocabulary: 47628\n"
     ]
    },
    {
     "name": "stderr",
     "output_type": "stream",
     "text": [
      "100%|██████████| 50000/50000 [00:00<00:00, 343385.60it/s]\n",
      "  0%|          | 0/50000 [00:00<?, ?it/s]"
     ]
    },
    {
     "name": "stdout",
     "output_type": "stream",
     "text": [
      "size of vocabulary: 47628\n"
     ]
    },
    {
     "name": "stderr",
     "output_type": "stream",
     "text": [
      "100%|██████████| 50000/50000 [00:00<00:00, 348779.53it/s]\n",
      "  0%|          | 0/50000 [00:00<?, ?it/s]"
     ]
    },
    {
     "name": "stdout",
     "output_type": "stream",
     "text": [
      "size of vocabulary: 47628\n"
     ]
    },
    {
     "name": "stderr",
     "output_type": "stream",
     "text": [
      "100%|██████████| 50000/50000 [00:00<00:00, 341022.51it/s]\n",
      "  0%|          | 0/50000 [00:00<?, ?it/s]"
     ]
    },
    {
     "name": "stdout",
     "output_type": "stream",
     "text": [
      "size of vocabulary: 47628\n"
     ]
    },
    {
     "name": "stderr",
     "output_type": "stream",
     "text": [
      "100%|██████████| 50000/50000 [00:00<00:00, 343339.50it/s]\n",
      "  0%|          | 0/50000 [00:00<?, ?it/s]"
     ]
    },
    {
     "name": "stdout",
     "output_type": "stream",
     "text": [
      "size of vocabulary: 47628\n"
     ]
    },
    {
     "name": "stderr",
     "output_type": "stream",
     "text": [
      "100%|██████████| 50000/50000 [00:00<00:00, 316612.90it/s]\n",
      "  0%|          | 0/50000 [00:00<?, ?it/s]"
     ]
    },
    {
     "name": "stdout",
     "output_type": "stream",
     "text": [
      "size of vocabulary: 47628\n"
     ]
    },
    {
     "name": "stderr",
     "output_type": "stream",
     "text": [
      "100%|██████████| 50000/50000 [00:00<00:00, 307285.82it/s]\n"
     ]
    },
    {
     "name": "stdout",
     "output_type": "stream",
     "text": [
      "size of vocabulary: 47628\n"
     ]
    }
   ],
   "source": [
    "from tqdm import tqdm\n",
    "from double_hard_debias.utils import limit_vocab\n",
    "\n",
    "gender_specific = []\n",
    "\n",
    "with open('./data/male_word_file.txt') as f:\n",
    "    for l in f:\n",
    "        gender_specific.append(l.strip())\n",
    "with open('./data/female_word_file.txt') as f:\n",
    "    for l in f:\n",
    "        gender_specific.append(l.strip())\n",
    "print(len(gender_specific))\n",
    "\n",
    "with codecs.open('./data/gender_specific_full.json') as f:\n",
    "    gender_specific.extend(json.load(f))\n",
    "\n",
    "\n",
    "print(len(gender_specific))\n",
    "\n",
    "glove_limit, glove_word2idx_limit, glove_vocab_limit = limit_vocab(\n",
    "    glove, glove_word2idx, vocab, exclude=gender_specific\n",
    ")\n",
    "\n",
    "gn_limit, gn_word2idx_limit, gn_vocab_limit = limit_vocab(\n",
    "    gn_glove, gn_glove_word2idx, gn_vocab, exclude=gender_specific\n",
    ")\n",
    "\n",
    "gn_a_limit, gn_a_word2idx_limit, gn_a_vocab_limit = limit_vocab(\n",
    "    gn_glove_a, gn_glove_word2idx, gn_vocab, exclude=gender_specific\n",
    ")\n",
    "\n",
    "gp_limit, gp_word2idx_limit, gp_vocab_limit = limit_vocab(\n",
    "    gp_glove, gp_glove_word2idx, gp_vocab, exclude=gender_specific\n",
    ")\n",
    "\n",
    "gp_gn_limit, gp_gn_word2idx_limit, gp_gn_vocab_limit = limit_vocab(\n",
    "    gp_gn_glove, gp_gn_glove_word2idx, gp_gn_vocab, exclude=gender_specific\n",
    ")\n",
    "\n",
    "hd_limit, hd_word2idx_limit, hd_vocab_limit = limit_vocab(\n",
    "    hd_glove, hd_glove_word2idx, hd_vocab, exclude=gender_specific\n",
    ")\n",
    "\n",
    "hd_a_limit, hd_a_word2idx_limit, hd_a_vocab_limit = limit_vocab(\n",
    "    hd_glove_a, hd_glove_a_word2idx, hd_vocab_a, exclude=gender_specific\n",
    ")\n",
    "\n",
    "dhd_limit, dhd_word2idx_limit, dhd_vocab_limit = limit_vocab(\n",
    "    dhd_glove_reproduced, dhd_glove_word2idx_reproduced, dhd_vocab_reproduced, exclude=gender_specific\n",
    ")"
   ]
  },
  {
   "cell_type": "code",
   "execution_count": null,
   "metadata": {
    "id": "y-QPpXH-MjCZ"
   },
   "outputs": [],
   "source": [
    "from double_hard_debias.utils import compute_bias_by_projection\n",
    "\n",
    "\n",
    "he_embed = glove[glove_word2idx['he'], :]\n",
    "she_embed = glove[glove_word2idx['she'], :]\n",
    "\n",
    "gender_bias_before = compute_bias_by_projection(\n",
    "    glove_limit, glove_word2idx_limit, glove_vocab_limit, he_embed, she_embed\n",
    ")\n",
    "sorted_g = sorted(gender_bias_before.items(), key=operator.itemgetter(1))"
   ]
  },
  {
   "cell_type": "code",
   "execution_count": null,
   "metadata": {
    "id": "NdARNcqUMpH0"
   },
   "outputs": [],
   "source": [
    "def visualize(vectors, y_true, y_pred, ax, title, random_state):\n",
    "    \n",
    "    # perform TSNE\n",
    "    vectors = normalize(vectors)\n",
    "    X_embedded = TSNE(n_components=2, random_state=random_state).fit_transform(vectors)\n",
    "    for x,p,y in zip(X_embedded, y_pred, y_true):\n",
    "        if y:\n",
    "            ax.scatter(x[0], x[1], marker = '.', c = 'c')\n",
    "        else:\n",
    "            ax.scatter(x[0], x[1], marker = 'x', c = 'darkviolet')\n",
    "    \n",
    "    return ax\n",
    "\n",
    "def cluster_and_visualize(words, X1, title, random_state, tsne_random_state, y_true, num=2):\n",
    "    \n",
    "    kmeans_1 = KMeans(n_clusters=num, random_state=random_state).fit(X1)\n",
    "    y_pred_1 = kmeans_1.predict(X1)\n",
    "    correct = [1 if item1 == item2 else 0 for (item1,item2) in zip(y_true, y_pred_1) ]\n",
    "    print('precision', max(sum(correct)/float(len(correct)), 1 - sum(correct)/float(len(correct))))\n",
    "    \n",
    "    fig, axs = plt.subplots(1, 1, figsize=(6, 3))\n",
    "    ax1 = visualize(X1, y_true, y_pred_1, axs, title, tsne_random_state)\n",
    "    plt.title(title)\n",
    "    # fig.savefig(\"./figures/tsne/{}_{}_{}.pdf\".format(title, size, random_state))"
   ]
  },
  {
   "cell_type": "code",
   "execution_count": null,
   "metadata": {
    "id": "0R7-WcBrMtvS"
   },
   "outputs": [],
   "source": [
    "from sklearn.cluster import KMeans\n",
    "from sklearn.manifold import TSNE\n",
    "from double_hard_debias.utils import remove_vector_component\n",
    "import matplotlib.pyplot as plt\n",
    "from cycler import cycler\n",
    "%matplotlib inline\n",
    "\n",
    "size = 500\n",
    "female = [item[0] for item in sorted_g[:size]]\n",
    "male = [item[0] for item in sorted_g[-size:]]\n",
    "y_true = [1]*size + [0]*size"
   ]
  },
  {
   "cell_type": "markdown",
   "metadata": {
    "id": "1Q3gNopXpoLA"
   },
   "source": [
    "### t-SNE Projection (van der Maaten and Hinton, 2008)"
   ]
  },
  {
   "cell_type": "code",
   "execution_count": null,
   "metadata": {
    "id": "xcpREcM_MwMu"
   },
   "outputs": [],
   "source": [
    "random_state = 4\n",
    "tsne_random_state = 5"
   ]
  },
  {
   "cell_type": "code",
   "execution_count": null,
   "metadata": {
    "colab": {
     "base_uri": "https://localhost:8080/",
     "height": 228
    },
    "executionInfo": {
     "elapsed": 15491,
     "status": "ok",
     "timestamp": 1611916935716,
     "user": {
      "displayName": "Haswanth Kumar Aekula",
      "photoUrl": "",
      "userId": "00471480593148083416"
     },
     "user_tz": -330
    },
    "id": "oZ4zBBEVM09q",
    "outputId": "90c0b44a-f405-4bf4-dfea-44fda2770bf9"
   },
   "outputs": [
    {
     "name": "stdout",
     "output_type": "stream",
     "text": [
      "precision 1.0\n"
     ]
    },
    {
     "data": {
      "image/png": "[encoded data removed]",
      "text/plain": [
       "<Figure size 432x216 with 1 Axes>"
      ]
     },
     "metadata": {
      "needs_background": "light",
      "tags": []
     },
     "output_type": "display_data"
    }
   ],
   "source": [
    "cluster_and_visualize(male + female, remove_vector_component(male + female, glove_limit, glove_word2idx_limit), \n",
    "                          'GloVe', random_state, tsne_random_state, y_true)"
   ]
  },
  {
   "cell_type": "code",
   "execution_count": null,
   "metadata": {
    "colab": {
     "base_uri": "https://localhost:8080/",
     "height": 228
    },
    "executionInfo": {
     "elapsed": 25486,
     "status": "ok",
     "timestamp": 1611916949103,
     "user": {
      "displayName": "Haswanth Kumar Aekula",
      "photoUrl": "",
      "userId": "00471480593148083416"
     },
     "user_tz": -330
    },
    "id": "vQxz0AMTPgor",
    "outputId": "8e3b17f3-54b0-4a35-ed11-7de5dc74a222"
   },
   "outputs": [
    {
     "name": "stdout",
     "output_type": "stream",
     "text": [
      "precision 1.0\n"
     ]
    },
    {
     "data": {
      "image/png": "[encoded data removed]",
      "text/plain": [
       "<Figure size 432x216 with 1 Axes>"
      ]
     },
     "metadata": {
      "needs_background": "light",
      "tags": []
     },
     "output_type": "display_data"
    }
   ],
   "source": [
    "cluster_and_visualize(male + female, remove_vector_component(male + female, gn_limit, gn_word2idx_limit), \n",
    "                          'GN-GloVe', random_state, tsne_random_state, y_true)"
   ]
  },
  {
   "cell_type": "code",
   "execution_count": null,
   "metadata": {
    "colab": {
     "base_uri": "https://localhost:8080/",
     "height": 228
    },
    "executionInfo": {
     "elapsed": 38299,
     "status": "ok",
     "timestamp": 1611916962760,
     "user": {
      "displayName": "Haswanth Kumar Aekula",
      "photoUrl": "",
      "userId": "00471480593148083416"
     },
     "user_tz": -330
    },
    "id": "UxHmg9qSPldv",
    "outputId": "14615f94-c526-439f-9459-dbd27974e1f2"
   },
   "outputs": [
    {
     "name": "stdout",
     "output_type": "stream",
     "text": [
      "precision 0.867\n"
     ]
    },
    {
     "data": {
      "image/png": "[encoded data removed]",
      "text/plain": [
       "<Figure size 432x216 with 1 Axes>"
      ]
     },
     "metadata": {
      "needs_background": "light",
      "tags": []
     },
     "output_type": "display_data"
    }
   ],
   "source": [
    "cluster_and_visualize(male + female, remove_vector_component(male + female, gn_a_limit, gn_a_word2idx_limit), \n",
    "                          'GN-GloVe_a', random_state, tsne_random_state,  y_true)"
   ]
  },
  {
   "cell_type": "code",
   "execution_count": null,
   "metadata": {
    "colab": {
     "base_uri": "https://localhost:8080/",
     "height": 232
    },
    "executionInfo": {
     "elapsed": 51387,
     "status": "ok",
     "timestamp": 1611916976475,
     "user": {
      "displayName": "Haswanth Kumar Aekula",
      "photoUrl": "",
      "userId": "00471480593148083416"
     },
     "user_tz": -330
    },
    "id": "0xKpQRaqPlTV",
    "outputId": "dc31e2a8-8a8f-4b12-9bfa-c3e8c65fd473"
   },
   "outputs": [
    {
     "name": "stdout",
     "output_type": "stream",
     "text": [
      "precision 1.0\n"
     ]
    },
    {
     "data": {
      "image/png": "[encoded data removed]",
      "text/plain": [
       "<Figure size 432x216 with 1 Axes>"
      ]
     },
     "metadata": {
      "needs_background": "light",
      "tags": []
     },
     "output_type": "display_data"
    }
   ],
   "source": [
    "cluster_and_visualize(male + female, remove_vector_component(male + female, gp_limit, gp_word2idx_limit), \n",
    "                          'GP-GloVe', random_state, tsne_random_state,  y_true)"
   ]
  },
  {
   "cell_type": "code",
   "execution_count": null,
   "metadata": {
    "colab": {
     "base_uri": "https://localhost:8080/",
     "height": 228
    },
    "executionInfo": {
     "elapsed": 64524,
     "status": "ok",
     "timestamp": 1611916990264,
     "user": {
      "displayName": "Haswanth Kumar Aekula",
      "photoUrl": "",
      "userId": "00471480593148083416"
     },
     "user_tz": -330
    },
    "id": "uGgDolC-PlFj",
    "outputId": "7e468dcc-7ee2-4d5f-f3fb-ea53d9bb8d61"
   },
   "outputs": [
    {
     "name": "stdout",
     "output_type": "stream",
     "text": [
      "precision 1.0\n"
     ]
    },
    {
     "data": {
      "image/png": "[encoded data removed]",
      "text/plain": [
       "<Figure size 432x216 with 1 Axes>"
      ]
     },
     "metadata": {
      "needs_background": "light",
      "tags": []
     },
     "output_type": "display_data"
    }
   ],
   "source": [
    "cluster_and_visualize(male + female, remove_vector_component(male + female, gp_gn_limit, gp_gn_word2idx_limit), \n",
    "                          'GP-GN-GloVe', random_state, tsne_random_state, y_true)"
   ]
  },
  {
   "cell_type": "code",
   "execution_count": null,
   "metadata": {
    "colab": {
     "base_uri": "https://localhost:8080/",
     "height": 228
    },
    "executionInfo": {
     "elapsed": 77136,
     "status": "ok",
     "timestamp": 1611917003563,
     "user": {
      "displayName": "Haswanth Kumar Aekula",
      "photoUrl": "",
      "userId": "00471480593148083416"
     },
     "user_tz": -330
    },
    "id": "wsXNdi2ZM3hG",
    "outputId": "00edda69-1a7a-43fb-fea5-7f838212ea6b"
   },
   "outputs": [
    {
     "name": "stdout",
     "output_type": "stream",
     "text": [
      "precision 0.8029999999999999\n"
     ]
    },
    {
     "data": {
      "image/png": "[encoded data removed]",
      "text/plain": [
       "<Figure size 432x216 with 1 Axes>"
      ]
     },
     "metadata": {
      "needs_background": "light",
      "tags": []
     },
     "output_type": "display_data"
    }
   ],
   "source": [
    "cluster_and_visualize(male + female, remove_vector_component(male + female, hd_limit, hd_word2idx_limit), \n",
    "                          'Hard-GloVe', random_state, tsne_random_state, y_true)"
   ]
  },
  {
   "cell_type": "code",
   "execution_count": null,
   "metadata": {
    "colab": {
     "base_uri": "https://localhost:8080/",
     "height": 228
    },
    "executionInfo": {
     "elapsed": 90209,
     "status": "ok",
     "timestamp": 1611917017357,
     "user": {
      "displayName": "Haswanth Kumar Aekula",
      "photoUrl": "",
      "userId": "00471480593148083416"
     },
     "user_tz": -330
    },
    "id": "w-tBJurGPNpF",
    "outputId": "6a573877-d2b2-4242-ee5d-b4d6830b3864"
   },
   "outputs": [
    {
     "name": "stdout",
     "output_type": "stream",
     "text": [
      "precision 0.8029999999999999\n"
     ]
    },
    {
     "data": {
      "image/png": "[encoded data removed]",
      "text/plain": [
       "<Figure size 432x216 with 1 Axes>"
      ]
     },
     "metadata": {
      "needs_background": "light",
      "tags": []
     },
     "output_type": "display_data"
    }
   ],
   "source": [
    "cluster_and_visualize(male + female, remove_vector_component(male + female, hd_a_limit, hd_a_word2idx_limit), \n",
    "                          ' Strong-Hard-GloVe', random_state, tsne_random_state, y_true)"
   ]
  },
  {
   "cell_type": "code",
   "execution_count": null,
   "metadata": {
    "colab": {
     "base_uri": "https://localhost:8080/",
     "height": 228
    },
    "executionInfo": {
     "elapsed": 103046,
     "status": "ok",
     "timestamp": 1611917031326,
     "user": {
      "displayName": "Haswanth Kumar Aekula",
      "photoUrl": "",
      "userId": "00471480593148083416"
     },
     "user_tz": -330
    },
    "id": "4unqG61ePSGl",
    "outputId": "1adb3c46-778c-4bc9-82c3-3d0d0cede35b"
   },
   "outputs": [
    {
     "name": "stdout",
     "output_type": "stream",
     "text": [
      "precision 0.742\n"
     ]
    },
    {
     "data": {
      "image/png": "[encoded data removed]",
      "text/plain": [
       "<Figure size 432x216 with 1 Axes>"
      ]
     },
     "metadata": {
      "needs_background": "light",
      "tags": []
     },
     "output_type": "display_data"
    }
   ],
   "source": [
    "cluster_and_visualize(male + female, remove_vector_component(male + female, dhd_limit, dhd_word2idx_limit), \n",
    "                          'Double-Hard-GloVe', random_state, tsne_random_state, y_true)"
   ]
  },
  {
   "cell_type": "markdown",
   "metadata": {
    "id": "iO3VsfIepJP-"
   },
   "source": [
    "### Neighborhood Metric (Clustering Accuracy), (Gonen and Goldberg, 2019)"
   ]
  },
  {
   "cell_type": "code",
   "execution_count": null,
   "metadata": {
    "id": "pyWXflk3PVrg"
   },
   "outputs": [],
   "source": [
    "def cluster(words, X1, random_state, y_true, num=2):\n",
    "    \n",
    "    kmeans_1 = KMeans(n_clusters=num, random_state=random_state).fit(X1)\n",
    "    y_pred_1 = kmeans_1.predict(X1)\n",
    "    correct = [1 if item1 == item2 else 0 for (item1,item2) in zip(y_true, y_pred_1) ]\n",
    "    print('precision', max(sum(correct)/float(len(correct)), 1 - sum(correct)/float(len(correct))))"
   ]
  },
  {
   "cell_type": "code",
   "execution_count": null,
   "metadata": {
    "id": "4j31NxgtklTl"
   },
   "outputs": [],
   "source": [
    "def my_cluster(wv, word2idx, start=0, size=500, random_state = 1):\n",
    "    \n",
    "    if start == 0:\n",
    "        female = [item[0] for item in sorted_g[:size]]\n",
    "        male = [item[0] for item in sorted_g[-size:]]\n",
    "    else:\n",
    "        female = [item[0] for item in sorted_g[start:size+start]]\n",
    "        male = [item[0] for item in sorted_g[-(start+size):-start]]\n",
    "\n",
    "    y_true = [1]*size + [0]*size\n",
    "    \n",
    "    cluster(male + female, remove_vector_component(male + female, wv, word2idx), random_state, y_true)"
   ]
  },
  {
   "cell_type": "code",
   "execution_count": null,
   "metadata": {
    "colab": {
     "base_uri": "https://localhost:8080/"
    },
    "executionInfo": {
     "elapsed": 1518,
     "status": "ok",
     "timestamp": 1611679511787,
     "user": {
      "displayName": "Haswanth Kumar Aekula",
      "photoUrl": "",
      "userId": "00471480593148083416"
     },
     "user_tz": -330
    },
    "id": "KCHSJUARkoNk",
    "outputId": "415249e0-c7bb-4670-d0f4-5b9743780d17"
   },
   "outputs": [
    {
     "name": "stdout",
     "output_type": "stream",
     "text": [
      "precision 1.0\n",
      "precision 1.0\n",
      "precision 1.0\n",
      "precision 1.0\n",
      "precision 1.0\n",
      "precision 0.765\n",
      "precision 0.765\n",
      "precision 0.665\n"
     ]
    }
   ],
   "source": [
    "random_state_ = 0\n",
    "start = 0\n",
    "end = 100\n",
    "my_cluster(glove_limit, glove_word2idx_limit, start, end, random_state=random_state_)\n",
    "my_cluster(gn_limit, gn_word2idx_limit, start, end, random_state=random_state_)\n",
    "my_cluster(gn_a_limit, gn_a_word2idx_limit, start, end, random_state=random_state_)\n",
    "my_cluster(gp_limit, gp_word2idx_limit, start, end, random_state=random_state_)\n",
    "my_cluster(gp_gn_limit, gp_gn_word2idx_limit, start, end, random_state=random_state_)\n",
    "my_cluster(hd_limit, hd_word2idx_limit, start, end, random_state=random_state_)\n",
    "my_cluster(hd_a_limit, hd_a_word2idx_limit, start, end, random_state=random_state_)\n",
    "my_cluster(dhd_limit, dhd_word2idx_limit, start, end, random_state=random_state_)"
   ]
  },
  {
   "cell_type": "code",
   "execution_count": null,
   "metadata": {
    "colab": {
     "base_uri": "https://localhost:8080/"
    },
    "executionInfo": {
     "elapsed": 2532,
     "status": "ok",
     "timestamp": 1611679529697,
     "user": {
      "displayName": "Haswanth Kumar Aekula",
      "photoUrl": "",
      "userId": "00471480593148083416"
     },
     "user_tz": -330
    },
    "id": "YkzBfNGZksB2",
    "outputId": "6789634b-a233-4f1f-aa31-d4adf8560960"
   },
   "outputs": [
    {
     "name": "stdout",
     "output_type": "stream",
     "text": [
      "precision 1.0\n",
      "precision 1.0\n",
      "precision 0.995\n",
      "precision 1.0\n",
      "precision 1.0\n",
      "precision 0.8029999999999999\n",
      "precision 0.8029999999999999\n",
      "precision 0.741\n"
     ]
    }
   ],
   "source": [
    "random_state_ = 0\n",
    "start = 0\n",
    "end = 500\n",
    "my_cluster(glove_limit, glove_word2idx_limit, start, end, random_state=random_state_)\n",
    "my_cluster(gn_limit, gn_word2idx_limit, start, end, random_state=random_state_)\n",
    "my_cluster(gn_a_limit, gn_a_word2idx_limit, start, end, random_state=random_state_)\n",
    "my_cluster(gp_limit, gp_word2idx_limit, start, end, random_state=random_state_)\n",
    "my_cluster(gp_gn_limit, gp_gn_word2idx_limit, start, end, random_state=random_state_)\n",
    "my_cluster(hd_limit, hd_word2idx_limit, start, end, random_state=random_state_)\n",
    "my_cluster(hd_a_limit, hd_a_word2idx_limit, start, end, random_state=random_state_)\n",
    "my_cluster(dhd_limit, dhd_word2idx_limit, start, end, random_state=random_state_)"
   ]
  },
  {
   "cell_type": "code",
   "execution_count": null,
   "metadata": {
    "colab": {
     "base_uri": "https://localhost:8080/"
    },
    "executionInfo": {
     "elapsed": 4922,
     "status": "ok",
     "timestamp": 1611679537317,
     "user": {
      "displayName": "Haswanth Kumar Aekula",
      "photoUrl": "",
      "userId": "00471480593148083416"
     },
     "user_tz": -330
    },
    "id": "IalIrUHflBDS",
    "outputId": "1ac2593e-7caf-4418-a35b-40783d8c3af0"
   },
   "outputs": [
    {
     "name": "stdout",
     "output_type": "stream",
     "text": [
      "precision 1.0\n",
      "precision 0.998\n",
      "precision 0.8945\n",
      "precision 1.0\n",
      "precision 0.9995\n",
      "precision 0.8025\n",
      "precision 0.8025\n",
      "precision 0.704\n"
     ]
    }
   ],
   "source": [
    "random_state_ = 0\n",
    "start = 0\n",
    "end = 1000\n",
    "my_cluster(glove_limit, glove_word2idx_limit, start, end, random_state=random_state_)\n",
    "my_cluster(gn_limit, gn_word2idx_limit, start, end, random_state=random_state_)\n",
    "my_cluster(gn_a_limit, gn_a_word2idx_limit, start, end, random_state=random_state_)\n",
    "my_cluster(gp_limit, gp_word2idx_limit, start, end, random_state=random_state_)\n",
    "my_cluster(gp_gn_limit, gp_gn_word2idx_limit, start, end, random_state=random_state_)\n",
    "my_cluster(hd_limit, hd_word2idx_limit, start, end, random_state=random_state_)\n",
    "my_cluster(hd_a_limit, hd_a_word2idx_limit, start, end, random_state=random_state_)\n",
    "my_cluster(dhd_limit, dhd_word2idx_limit, start, end, random_state=random_state_)"
   ]
  },
  {
   "cell_type": "markdown",
   "metadata": {
    "id": "dbWUBMZgqUEp"
   },
   "source": [
    "### WEAT (Caliskan et al., 2017)"
   ]
  },
  {
   "cell_type": "code",
   "execution_count": null,
   "metadata": {
    "colab": {
     "base_uri": "https://localhost:8080/"
    },
    "executionInfo": {
     "elapsed": 1294,
     "status": "ok",
     "timestamp": 1611681087204,
     "user": {
      "displayName": "Haswanth Kumar Aekula",
      "photoUrl": "",
      "userId": "00471480593148083416"
     },
     "user_tz": -330
    },
    "id": "kYoTLOFsmqmX",
    "outputId": "428c8a79-131c-4e4f-a94c-385e9a0cbf0b"
   },
   "outputs": [
    {
     "name": "stdout",
     "output_type": "stream",
     "text": [
      "['john', 'paul', 'mike', 'kevin', 'steve', 'greg', 'jeff', 'tom']\n",
      "['amy', 'joan', 'lisa', 'sarah', 'diana', 'kate', 'ann', 'donna']\n",
      "['executive', 'management', 'professional', 'corporation', 'salary', 'office', 'business', 'career']\n",
      "['home', 'parents', 'children', 'family', 'cousins', 'marriage', 'wedding', 'relatives']\n",
      "['math', 'algebra', 'geometry', 'calculus', 'equations', 'computation', 'numbers', 'addition']\n",
      "['poetry', 'art', 'dance', 'literature', 'novel', 'symphony', 'drama', 'sculpture']\n",
      "['science', 'technology', 'physics', 'chemistry', 'einstein', 'nasa', 'experiment', 'astronomy']\n",
      "['poetry', 'art', 'shakespeare', 'dance', 'literature', 'novel', 'symphony', 'drama']\n"
     ]
    }
   ],
   "source": [
    "from double_hard_debias.utils import p_value_exhaust, effect_size\n",
    "from double_hard_debias.utils import WEAT_WORDS\n",
    "\n",
    "\n",
    "A = WEAT_WORDS['A']\n",
    "B = WEAT_WORDS['B']\n",
    "C = WEAT_WORDS['C']\n",
    "D = WEAT_WORDS['D']\n",
    "E = WEAT_WORDS['E']\n",
    "F = WEAT_WORDS['F']\n",
    "G = WEAT_WORDS['G']\n",
    "H = WEAT_WORDS['H']\n",
    "\n",
    "A = [elem.lower() for elem in A]\n",
    "A = ['john', 'paul', 'mike', 'kevin', 'steve', 'greg', 'jeff', 'tom']\n",
    "B = [elem.lower() for elem in B]\n",
    "C = [elem.lower() for elem in C]\n",
    "D = [elem.lower() for elem in D]\n",
    "E = [elem.lower() for elem in E]\n",
    "F = [elem.lower() for elem in F]\n",
    "G = [elem.lower() for elem in G]\n",
    "H = [elem.lower() for elem in H]\n",
    "print(A)\n",
    "print(B)\n",
    "print(C)\n",
    "print(D)\n",
    "print(E)\n",
    "print(F)\n",
    "print(G)\n",
    "print(H)"
   ]
  },
  {
   "cell_type": "code",
   "execution_count": null,
   "metadata": {
    "colab": {
     "base_uri": "https://localhost:8080/"
    },
    "executionInfo": {
     "elapsed": 948,
     "status": "ok",
     "timestamp": 1611681444052,
     "user": {
      "displayName": "Haswanth Kumar Aekula",
      "photoUrl": "",
      "userId": "00471480593148083416"
     },
     "user_tz": -330
    },
    "id": "kUxb-w_vrYyA",
    "outputId": "6f7bea77-5bf0-4123-f7d3-8935b738fbd5"
   },
   "outputs": [
    {
     "name": "stdout",
     "output_type": "stream",
     "text": [
      "1.805996189486473\n",
      "1.8211045958742451\n",
      "1.7554763167372835\n",
      "1.8058846500019743\n",
      "1.7974306940681066\n",
      "1.546645694968245\n",
      "1.5466455821704757\n",
      "1.5313012260878658\n"
     ]
    }
   ],
   "source": [
    "print(effect_size(A, B, C, D, glove, glove_word2idx, vocab))\n",
    "print(effect_size(A, B, C, D, gn_glove, gn_glove_word2idx, gn_vocab))\n",
    "print(effect_size(A, B, C, D, gn_glove_a, gn_glove_word2idx, gn_vocab))\n",
    "print(effect_size(A, B, C, D, gp_glove, gp_glove_word2idx, gp_vocab))\n",
    "print(effect_size(A, B, C, D, gp_gn_glove, gp_gn_glove_word2idx, gp_gn_vocab))\n",
    "print(effect_size(A, B, C, D, hd_glove, hd_glove_word2idx, hd_vocab))\n",
    "print(effect_size(A, B, C, D, hd_glove_a, hd_glove_a_word2idx, hd_vocab_a))\n",
    "print(effect_size(A, B, C, D, dhd_glove_reproduced, dhd_glove_word2idx_reproduced, dhd_vocab_reproduced))"
   ]
  },
  {
   "cell_type": "code",
   "execution_count": null,
   "metadata": {
    "colab": {
     "base_uri": "https://localhost:8080/"
    },
    "executionInfo": {
     "elapsed": 1039,
     "status": "ok",
     "timestamp": 1611681452307,
     "user": {
      "displayName": "Haswanth Kumar Aekula",
      "photoUrl": "",
      "userId": "00471480593148083416"
     },
     "user_tz": -330
    },
    "id": "eENTvu0MrkVw",
    "outputId": "40beb807-8fbc-434a-802f-6af0ac2bb2e4"
   },
   "outputs": [
    {
     "name": "stdout",
     "output_type": "stream",
     "text": [
      "0.5528808305119365\n",
      "1.206909759659452\n",
      "1.4272680333459622\n",
      "0.8739090072893716\n",
      "1.4149091958989295\n",
      "0.07450990829984834\n",
      "0.07451019506434306\n",
      "-0.09438447602788241\n"
     ]
    }
   ],
   "source": [
    "print(effect_size(A, B, E, F, glove, glove_word2idx, vocab))\n",
    "print(effect_size(A, B, E, F, gn_glove, gn_glove_word2idx, gn_vocab))\n",
    "print(effect_size(A, B, E, F, gn_glove_a, gn_glove_word2idx, gn_vocab))\n",
    "print(effect_size(A, B, E, F, gp_glove, gp_glove_word2idx, gp_vocab))\n",
    "print(effect_size(A, B, E, F, gp_gn_glove, gp_gn_glove_word2idx, gp_gn_vocab))\n",
    "print(effect_size(A, B, E, F, hd_glove, hd_glove_word2idx, hd_vocab))\n",
    "print(effect_size(A, B, E, F, hd_glove_a, hd_glove_a_word2idx, hd_vocab_a))\n",
    "print(effect_size(A, B, E, F, dhd_glove_reproduced, dhd_glove_word2idx_reproduced, dhd_vocab_reproduced))"
   ]
  },
  {
   "cell_type": "code",
   "execution_count": null,
   "metadata": {
    "colab": {
     "base_uri": "https://localhost:8080/"
    },
    "executionInfo": {
     "elapsed": 955,
     "status": "ok",
     "timestamp": 1611681464353,
     "user": {
      "displayName": "Haswanth Kumar Aekula",
      "photoUrl": "",
      "userId": "00471480593148083416"
     },
     "user_tz": -330
    },
    "id": "jNKzb1itr0iE",
    "outputId": "e9bea0b3-b528-41c7-9362-1de3564652cf"
   },
   "outputs": [
    {
     "name": "stdout",
     "output_type": "stream",
     "text": [
      "0.8793966839691493\n",
      "1.0243548901586481\n",
      "1.015708382863749\n",
      "0.9130660186552044\n",
      "1.042559518358139\n",
      "-0.16228878039927028\n",
      "-0.16228896283873995\n",
      "-0.14963922893501877\n"
     ]
    }
   ],
   "source": [
    "print(effect_size(A, B, G, H, glove, glove_word2idx, vocab))\n",
    "print(effect_size(A, B, G, H, gn_glove, gn_glove_word2idx, gn_vocab))\n",
    "print(effect_size(A, B, G, H, gn_glove_a, gn_glove_word2idx, gn_vocab))\n",
    "print(effect_size(A, B, G, H, gp_glove, gp_glove_word2idx, gp_vocab))\n",
    "print(effect_size(A, B, G, H, gp_gn_glove, gp_gn_glove_word2idx, gp_gn_vocab))\n",
    "print(effect_size(A, B, G, H, hd_glove, hd_glove_word2idx, hd_vocab))\n",
    "print(effect_size(A, B, G, H, hd_glove_a, hd_glove_a_word2idx, hd_vocab_a))\n",
    "print(effect_size(A, B, G, H, dhd_glove_reproduced, dhd_glove_word2idx_reproduced, dhd_vocab_reproduced))"
   ]
  },
  {
   "cell_type": "code",
   "execution_count": null,
   "metadata": {
    "colab": {
     "base_uri": "https://localhost:8080/"
    },
    "executionInfo": {
     "elapsed": 1752,
     "status": "ok",
     "timestamp": 1611681886474,
     "user": {
      "displayName": "Haswanth Kumar Aekula",
      "photoUrl": "",
      "userId": "00471480593148083416"
     },
     "user_tz": -330
    },
    "id": "_FbHn_DRuWbU",
    "outputId": "d87b5f67-61f8-4b13-d6db-623f45336914"
   },
   "outputs": [
    {
     "name": "stdout",
     "output_type": "stream",
     "text": [
      "num of samples 12870\n",
      "0.0\n",
      "num of samples 12870\n",
      "0.0\n",
      "num of samples 12870\n",
      "0.0\n",
      "num of samples 12870\n",
      "0.0\n",
      "num of samples 12870\n",
      "7.77000777000777e-05\n",
      "num of samples 12870\n",
      "0.0001554001554001554\n",
      "num of samples 12870\n",
      "0.0001554001554001554\n",
      "num of samples 12870\n",
      "0.0001554001554001554\n"
     ]
    }
   ],
   "source": [
    "print(p_value_exhaust(A, B, C, D, glove, glove_word2idx, vocab))\n",
    "print(p_value_exhaust(A, B, C, D, gn_glove, gn_glove_word2idx, gn_vocab))\n",
    "print(p_value_exhaust(A, B, C, D, gn_glove_a, gn_glove_word2idx, gn_vocab))\n",
    "print(p_value_exhaust(A, B, C, D, gp_glove, gp_glove_word2idx, gp_vocab))\n",
    "print(p_value_exhaust(A, B, C, D, gp_gn_glove, gp_gn_glove_word2idx, gp_gn_vocab))\n",
    "print(p_value_exhaust(A, B, C, D, hd_glove, hd_glove_word2idx, hd_vocab))\n",
    "print(p_value_exhaust(A, B, C, D, hd_glove_a, hd_glove_a_word2idx, hd_vocab_a))\n",
    "print(p_value_exhaust(A, B, C, D, dhd_glove_reproduced, dhd_glove_word2idx_reproduced, dhd_vocab_reproduced))"
   ]
  },
  {
   "cell_type": "code",
   "execution_count": null,
   "metadata": {
    "colab": {
     "base_uri": "https://localhost:8080/"
    },
    "executionInfo": {
     "elapsed": 1917,
     "status": "ok",
     "timestamp": 1611681889495,
     "user": {
      "displayName": "Haswanth Kumar Aekula",
      "photoUrl": "",
      "userId": "00471480593148083416"
     },
     "user_tz": -330
    },
    "id": "Nz3n3eNsuWba",
    "outputId": "6509455c-77b9-49bd-f5b1-3f1b36ca7f31"
   },
   "outputs": [
    {
     "name": "stdout",
     "output_type": "stream",
     "text": [
      "num of samples 12870\n",
      "0.1393939393939394\n",
      "num of samples 12870\n",
      "0.005905205905205905\n",
      "num of samples 12870\n",
      "0.00101010101010101\n",
      "num of samples 12870\n",
      "0.04048174048174048\n",
      "num of samples 12870\n",
      "0.0012432012432012432\n",
      "num of samples 12870\n",
      "0.4425796425796426\n",
      "num of samples 12870\n",
      "0.4425796425796426\n",
      "num of samples 12870\n",
      "0.5717948717948718\n"
     ]
    }
   ],
   "source": [
    "print(p_value_exhaust(A, B, E, F, glove, glove_word2idx, vocab))\n",
    "print(p_value_exhaust(A, B, E, F, gn_glove, gn_glove_word2idx, gn_vocab))\n",
    "print(p_value_exhaust(A, B, E, F, gn_glove_a, gn_glove_word2idx, gn_vocab))\n",
    "print(p_value_exhaust(A, B, E, F, gp_glove, gp_glove_word2idx, gp_vocab))\n",
    "print(p_value_exhaust(A, B, E, F, gp_gn_glove, gp_gn_glove_word2idx, gp_gn_vocab))\n",
    "print(p_value_exhaust(A, B, E, F, hd_glove, hd_glove_word2idx, hd_vocab))\n",
    "print(p_value_exhaust(A, B, E, F, hd_glove_a, hd_glove_a_word2idx, hd_vocab_a))\n",
    "print(p_value_exhaust(A, B, E, F, dhd_glove_reproduced, dhd_glove_word2idx_reproduced, dhd_vocab_reproduced))"
   ]
  },
  {
   "cell_type": "code",
   "execution_count": null,
   "metadata": {
    "colab": {
     "base_uri": "https://localhost:8080/"
    },
    "executionInfo": {
     "elapsed": 1906,
     "status": "ok",
     "timestamp": 1611681890313,
     "user": {
      "displayName": "Haswanth Kumar Aekula",
      "photoUrl": "",
      "userId": "00471480593148083416"
     },
     "user_tz": -330
    },
    "id": "kyTl-Y3guWbb",
    "outputId": "e683a018-c4ec-40d1-b04d-2c4461618fc8"
   },
   "outputs": [
    {
     "name": "stdout",
     "output_type": "stream",
     "text": [
      "num of samples 12870\n",
      "0.03597513597513598\n",
      "num of samples 12870\n",
      "0.015462315462315463\n",
      "num of samples 12870\n",
      "0.016394716394716395\n",
      "num of samples 12870\n",
      "0.033022533022533024\n",
      "num of samples 12870\n",
      "0.01320901320901321\n",
      "num of samples 12870\n",
      "0.6241647241647241\n",
      "num of samples 12870\n",
      "0.6240870240870241\n",
      "num of samples 12870\n",
      "0.6142191142191142\n"
     ]
    }
   ],
   "source": [
    "print(p_value_exhaust(A, B, G, H, glove, glove_word2idx, vocab))\n",
    "print(p_value_exhaust(A, B, G, H, gn_glove, gn_glove_word2idx, gn_vocab))\n",
    "print(p_value_exhaust(A, B, G, H, gn_glove_a, gn_glove_word2idx, gn_vocab))\n",
    "print(p_value_exhaust(A, B, G, H, gp_glove, gp_glove_word2idx, gp_vocab))\n",
    "print(p_value_exhaust(A, B, G, H, gp_gn_glove, gp_gn_glove_word2idx, gp_gn_vocab))\n",
    "print(p_value_exhaust(A, B, G, H, hd_glove, hd_glove_word2idx, hd_vocab))\n",
    "print(p_value_exhaust(A, B, G, H, hd_glove_a, hd_glove_a_word2idx, hd_vocab_a))\n",
    "print(p_value_exhaust(A, B, G, H, dhd_glove_reproduced, dhd_glove_word2idx_reproduced, dhd_vocab_reproduced))"
   ]
  },
  {
   "cell_type": "code",
   "execution_count": null,
   "metadata": {
    "id": "eQM00DwivHsy"
   },
   "outputs": [],
   "source": []
  }
 ],
 "metadata": {
  "colab": {
   "collapsed_sections": [],
   "name": "GloVe_Eval.ipynb",
   "provenance": []
  },
  "kernelspec": {
   "display_name": "rc2020",
   "language": "python",
   "name": "rc2020"
  },
  "language_info": {
   "codemirror_mode": {
    "name": "ipython",
    "version": 3
   },
   "file_extension": ".py",
   "mimetype": "text/x-python",
   "name": "python",
   "nbconvert_exporter": "python",
   "pygments_lexer": "ipython3",
   "version": "3.8.5"
  }
 },
 "nbformat": 4,
 "nbformat_minor": 1
}
