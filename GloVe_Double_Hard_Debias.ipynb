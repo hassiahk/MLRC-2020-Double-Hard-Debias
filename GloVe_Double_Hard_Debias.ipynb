{
 "cells": [
  {
   "cell_type": "markdown",
   "metadata": {},
   "source": [
    "<a href=\"https://colab.research.google.com/github/hassiahk/Double-Hard-Debias/blob/main/GloVe_Double_Hard_Debias.ipynb\" target=\"_parent\"><img src=\"https://colab.research.google.com/assets/colab-badge.svg\" alt=\"Open In Colab\"/></a>"
   ]
  },
  {
   "cell_type": "code",
   "execution_count": 1,
   "metadata": {},
   "outputs": [],
   "source": [
    "import codecs\n",
    "import json\n",
    "import operator\n",
    "from typing import Tuple, Dict, List\n",
    "import numpy as np\n",
    "import scipy\n",
    "\n",
    "%load_ext autoreload\n",
    "%autoreload 2"
   ]
  },
  {
   "cell_type": "markdown",
   "metadata": {},
   "source": [
    "### Step 1: Load the GloVe word embeddings"
   ]
  },
  {
   "cell_type": "code",
   "execution_count": 2,
   "metadata": {},
   "outputs": [
    {
     "name": "stdout",
     "output_type": "stream",
     "text": [
      "word_vec shape: (322636, 300), word2idx length: 322636, vocab length: 322636\n"
     ]
    }
   ],
   "source": [
    "def load_glove_txt(path: str) -> Tuple[np.ndarray, Dict[str, int], List[str]]:\n",
    "    \"\"\"\n",
    "    Loads GloVe embeddings from txt file.\n",
    "    \"\"\"\n",
    "\n",
    "    with open(path, \"r\", encoding=\"utf-8\") as glove_file:\n",
    "        lines = glove_file.readlines()\n",
    "\n",
    "    word_vec = []\n",
    "    vocab = []\n",
    "\n",
    "    for line in lines:\n",
    "        tokens = line.strip().split(\" \")\n",
    "\n",
    "        # `tokens` should be a list of length 301 which consists of the word and the respective 300 dimension word vector\n",
    "        assert len(tokens) == 301\n",
    "\n",
    "        vocab.append(tokens[0])\n",
    "        word_vec.append(tokens[1:])\n",
    "\n",
    "    word2idx = {word: idx for idx, word in enumerate(vocab)}\n",
    "    word_vec = np.array(word_vec).astype(float)\n",
    "    print(f\"word_vec shape: {word_vec.shape}, word2idx length: {len(word2idx)}, vocab length: {len(vocab)}\")\n",
    "\n",
    "    return word_vec, word2idx, vocab\n",
    "\n",
    "word_vec, word2idx, vocab = load_glove_txt('./data/vectors.txt')"
   ]
  },
  {
   "cell_type": "markdown",
   "metadata": {},
   "source": [
    "### Step 2: Create Male and Female biased word sets"
   ]
  },
  {
   "cell_type": "markdown",
   "metadata": {},
   "source": [
    "#### Restrict the vocabulary if needed"
   ]
  },
  {
   "cell_type": "code",
   "execution_count": 3,
   "metadata": {},
   "outputs": [
    {
     "name": "stderr",
     "output_type": "stream",
     "text": [
      "100%|█████████████████████████████████████████████████████████████████████████████████████████████████| 50000/50000 [00:00<00:00, 76214.90it/s]\n"
     ]
    },
    {
     "name": "stdout",
     "output_type": "stream",
     "text": [
      "Vocabulary size: 47628\n"
     ]
    }
   ],
   "source": [
    "from utils import limit_vocab\n",
    "\n",
    "\n",
    "with open('./data/male_word_file.txt') as f:\n",
    "    gender_specific = [line.strip() for line in f]\n",
    "\n",
    "with open('./data/female_word_file.txt') as f:\n",
    "    for l in f:\n",
    "        gender_specific.append(l.strip())\n",
    "\n",
    "with codecs.open('./data/gender_specific_full.json') as f:\n",
    "    gender_specific.extend(json.load(f))\n",
    "\n",
    "definitional_pairs = [\n",
    "    ['she', 'he'], ['herself', 'himself'], ['her', 'his'], ['daughter', 'son'], ['girl', 'boy'], ['mother', 'father'], \n",
    "    ['woman', 'man'], ['mary', 'john'], ['gal', 'guy'], ['female', 'male']\n",
    "]\n",
    "\n",
    "definitional_words = [word for pair in definitional_pairs for word in pair]\n",
    "\n",
    "# We will be testing the Double-Hard Debias techique to this subset of words.\n",
    "# Excluding the gender specific words from this subset.\n",
    "word_vec_limited, word2idx_limited, vocab_limited = limit_vocab(word_vec, word2idx, vocab, exclude=gender_specific)"
   ]
  },
  {
   "cell_type": "markdown",
   "metadata": {},
   "source": [
    "#### Compute original gender bias of a word"
   ]
  },
  {
   "cell_type": "code",
   "execution_count": 4,
   "metadata": {},
   "outputs": [],
   "source": [
    "# In an ideal case, the gender bias of a word in the vocab_limited should be zero if it is a gender nuetral word\n",
    "# but this does not happen in a real world scenario.\n",
    "\n",
    "# Generally, cosine similarity is used to measure how similar two vectors are.\n",
    "# So, the basic intuition is that if two vectors are similar then the angle and distance between them is 0.\n",
    "# Distance between two vectors = 1 - similarity of two vectors.\n",
    "\n",
    "def cosine_similarity(word_vec1: np.ndarray, word_vec2: np.ndarray) -> float:\n",
    "    \"\"\"\n",
    "    Computes Cosine Similarity between two word embeddings or vectors.\n",
    "    \"\"\"\n",
    "    \n",
    "    # Cosine similarity is nothing but 1 - cosine distance\n",
    "    return 1 - scipy.spatial.distance.cosine(word_vec1, word_vec2)\n",
    "\n",
    "\n",
    "# Gender bias of a word is the difference of the word's similarity to `he` word embedding and \n",
    "# the word's similarity to `she` word embedding.\n",
    "\n",
    "def compute_bias(\n",
    "    word_vec: np.ndarray,\n",
    "    word2idx: Dict[str, int],\n",
    "    vocab: List[str],\n",
    "    he_embed: np.ndarray,\n",
    "    she_embed: np.ndarray,\n",
    ") -> Dict[str, float]:\n",
    "    \"\"\"\n",
    "    Computes bias of each word by taking the difference of the word's similarity to `he` word embedding\n",
    "    and the word's similarity to `she` word embedding.\n",
    "    \"\"\"\n",
    "    \n",
    "    gender_bias = {}\n",
    "\n",
    "    for word in vocab:\n",
    "        vector = word_vec[word2idx[word]]\n",
    "        # There should not be any difference in 'he' similarity and 'she' similarity for a gender neutral word.\n",
    "        gender_bias[word] = cosine_similarity(vector, he_embed) - cosine_similarity(vector, she_embed)\n",
    "\n",
    "    return gender_bias\n",
    "\n",
    "\n",
    "he_embed = word_vec[word2idx['he']]\n",
    "she_embed = word_vec[word2idx['she']]\n",
    "\n",
    "# If this gender bias is > 0 then the word is biased towards male and if < 0 then biased towards female.\n",
    "gender_bias_original = compute_bias(word_vec_limited, word2idx_limited, vocab_limited, he_embed, she_embed)"
   ]
  },
  {
   "cell_type": "code",
   "execution_count": 5,
   "metadata": {},
   "outputs": [
    {
     "data": {
      "text/plain": [
       "0.012779653811138436"
      ]
     },
     "execution_count": 5,
     "metadata": {},
     "output_type": "execute_result"
    }
   ],
   "source": [
    "gender_bias_original['doctor']"
   ]
  },
  {
   "cell_type": "code",
   "execution_count": 6,
   "metadata": {},
   "outputs": [
    {
     "data": {
      "text/plain": [
       "[]"
      ]
     },
     "execution_count": 6,
     "metadata": {},
     "output_type": "execute_result"
    }
   ],
   "source": [
    "# As you can see here, no word has zero gender bias.        \n",
    "zero_gender_bias_words = [word for word, bias in gender_bias_original.items() if np.allclose([bias], [0])]\n",
    "zero_gender_bias_words"
   ]
  },
  {
   "cell_type": "markdown",
   "metadata": {},
   "source": [
    "#### Creating Male and Female biased word sets"
   ]
  },
  {
   "cell_type": "code",
   "execution_count": 7,
   "metadata": {},
   "outputs": [],
   "source": [
    "# Sorting gender_bias_original in the ascending order so that all the female biased words will be at the start and\n",
    "# all the male biased words will be at the end.\n",
    "biased_words_sorted = sorted(gender_bias_original.items(), key=operator.itemgetter(1))\n",
    "\n",
    "# Considering 1000 male and 1000 female biased words. \n",
    "# size can be anything, the authors mentioned that they took 500 male and 500 female top biased words.\n",
    "size = 1000\n",
    "female_words = [word for word, bias in biased_words_sorted[:size]]\n",
    "male_words = [word for word, bias in biased_words_sorted[-size:]]"
   ]
  },
  {
   "cell_type": "markdown",
   "metadata": {},
   "source": [
    "### Step 3: Decentralize the word embeddings"
   ]
  },
  {
   "cell_type": "code",
   "execution_count": 8,
   "metadata": {},
   "outputs": [],
   "source": [
    "word_vec_mean = np.mean(word_vec, axis=0)\n",
    "word_vec_decentralized = word_vec - word_vec_mean"
   ]
  },
  {
   "cell_type": "markdown",
   "metadata": {},
   "source": [
    "### Step 4: Compute principal components of decentralized word embeddings using PCA"
   ]
  },
  {
   "cell_type": "code",
   "execution_count": 9,
   "metadata": {},
   "outputs": [],
   "source": [
    "from sklearn.decomposition import PCA\n",
    "\n",
    "\n",
    "def principal_component_analysis(word_vec: np.ndarray) -> PCA:\n",
    "    \"\"\"\n",
    "    Performs PCA on decentralized word embeddings.\n",
    "    \"\"\"\n",
    "    \n",
    "    # Decentalize word embeddings irrespective of whether they are already decentralized because\n",
    "    # mean of decentralized word embeddings is zero.\n",
    "    word_vec_mean = np.mean(word_vec, axis=0)\n",
    "    word_vec_decentralized = word_vec - word_vec_mean\n",
    "\n",
    "    pca = PCA()\n",
    "    pca.fit(word_vec_decentralized)\n",
    "    \n",
    "    return pca\n",
    "\n",
    "main_pca = principal_component_analysis(word_vec_decentralized)\n",
    "# You can access a principal component by main_pca.components_[component_id]"
   ]
  },
  {
   "cell_type": "markdown",
   "metadata": {},
   "source": [
    "### Step 5: Find and remove frequency and gender directions from the decentralized word embeddings"
   ]
  },
  {
   "cell_type": "code",
   "execution_count": 10,
   "metadata": {},
   "outputs": [],
   "source": [
    "from utils import perform_pca, remove_vector_component\n",
    "\n",
    "\n",
    "def frequency_gender_debias(word_vec, word2idx, word2idx_partial, vocab_partial, component_id):\n",
    "    pricipal_component = main_pca.components_[component_id]\n",
    "      \n",
    "    word_vec_frequency = np.zeros((len(vocab_partial), word_vec.shape[1]))\n",
    "\n",
    "    # Debiasing the embeddings by removing frequency component.\n",
    "    for word in vocab_partial:\n",
    "        vector = word_vec[word2idx[word]]\n",
    "        \n",
    "        # pricipal_component is a unit vector since all pricipal components are unit vectors.\n",
    "        # We need to remove the component of vector in the direction of principal_component which is nothing but\n",
    "        # the projection of vector on principal_component.\n",
    "        projection = np.dot(np.dot(np.transpose(pricipal_component), vector), pricipal_component)\n",
    "        word_vec_frequency[word2idx_partial[word]] = vector - projection\n",
    "    \n",
    "    # Debiasing the embeddings by removing gender component.\n",
    "    gender_vector = perform_pca(definitional_pairs, word_vec_frequency, word2idx_partial).components_[0]\n",
    "    word_vec_debiased = np.zeros((len(vocab_partial), word_vec_frequency.shape[1]))\n",
    "    \n",
    "    for word in vocab_partial:\n",
    "        vector = word_vec_frequency[word2idx_partial[word]]\n",
    "        word_vec_debiased[word2idx_partial[word]] = remove_vector_component(vector, gender_vector)\n",
    "        \n",
    "    return word_vec_debiased"
   ]
  },
  {
   "cell_type": "markdown",
   "metadata": {},
   "source": [
    "### Step 6: Perform KMeans and evaluate the debiased word embeddings"
   ]
  },
  {
   "cell_type": "code",
   "execution_count": 11,
   "metadata": {},
   "outputs": [],
   "source": [
    "from sklearn.cluster import KMeans\n",
    "\n",
    "\n",
    "def cluster_and_evaluate(X, y_true, n_clusters=2, random_state=42) -> Tuple[KMeans, List[int], List[float]]:\n",
    "    kmeans = KMeans(n_clusters=n_clusters, random_state=random_state).fit(X)\n",
    "    y_pred = kmeans.predict(X)\n",
    "    \n",
    "    \n",
    "    result = [1 if target == prediction else 0 for target, prediction in zip(y_true, y_pred)] \n",
    "    accuracy = sum(result) / len(result)\n",
    "    precision = max(accuracy, 1 - accuracy) # Not sure about this\n",
    "    print(f'Precision: {precision}')\n",
    "    \n",
    "    return kmeans, y_pred, precision"
   ]
  },
  {
   "cell_type": "markdown",
   "metadata": {},
   "source": [
    "### Step 7: Find the optimal frequency direction"
   ]
  },
  {
   "cell_type": "code",
   "execution_count": 12,
   "metadata": {},
   "outputs": [
    {
     "name": "stdout",
     "output_type": "stream",
     "text": [
      "Component: 0\n",
      "Pairs used in PCA: 10\n",
      "Precision: 0.817\n",
      "Component: 1\n",
      "Pairs used in PCA: 10\n",
      "Precision: 0.704\n",
      "Component: 2\n",
      "Pairs used in PCA: 10\n",
      "Precision: 0.8145\n",
      "Component: 3\n",
      "Pairs used in PCA: 10\n",
      "Precision: 0.816\n",
      "Component: 4\n",
      "Pairs used in PCA: 10\n",
      "Precision: 0.802\n",
      "Component: 5\n",
      "Pairs used in PCA: 10\n",
      "Precision: 0.775\n",
      "Component: 6\n",
      "Pairs used in PCA: 10\n",
      "Precision: 0.785\n",
      "Component: 7\n",
      "Pairs used in PCA: 10\n",
      "Precision: 0.8025\n",
      "Component: 8\n",
      "Pairs used in PCA: 10\n",
      "Precision: 0.807\n",
      "Component: 9\n",
      "Pairs used in PCA: 10\n",
      "Precision: 0.815\n",
      "Component: 10\n",
      "Pairs used in PCA: 10\n",
      "Precision: 0.812\n",
      "Component: 11\n",
      "Pairs used in PCA: 10\n",
      "Precision: 0.818\n",
      "Component: 12\n",
      "Pairs used in PCA: 10\n",
      "Precision: 0.8180000000000001\n",
      "Component: 13\n",
      "Pairs used in PCA: 10\n",
      "Precision: 0.8045\n",
      "Component: 14\n",
      "Pairs used in PCA: 10\n",
      "Precision: 0.8145\n",
      "Component: 15\n",
      "Pairs used in PCA: 10\n",
      "Precision: 0.811\n",
      "Component: 16\n",
      "Pairs used in PCA: 10\n",
      "Precision: 0.8145\n",
      "Component: 17\n",
      "Pairs used in PCA: 10\n",
      "Precision: 0.806\n",
      "Component: 18\n",
      "Pairs used in PCA: 10\n",
      "Precision: 0.808\n",
      "Component: 19\n",
      "Pairs used in PCA: 10\n",
      "Precision: 0.8165\n"
     ]
    }
   ],
   "source": [
    "def get_embeddings(words, word_vec, word2idx):\n",
    "    \"\"\"\n",
    "    Get embeddings for the given words.\n",
    "    \"\"\"\n",
    "    embeddings = [word_vec[word2idx[word]] for word in words]\n",
    "    \n",
    "    return embeddings\n",
    "\n",
    "\n",
    "y_true = [1] * size + [0] * size\n",
    "\n",
    "vocab_partial = list(set(male_words + female_words + [word for word in definitional_words if word in word2idx]))\n",
    "word2idx_partial = {word: idx for idx, word in enumerate(vocab_partial)}\n",
    "\n",
    "precisions = []\n",
    "\n",
    "for i in range(20):\n",
    "    print(f'Component: {i}')\n",
    "    \n",
    "    word_vec_debiased = frequency_gender_debias(word_vec_decentralized, word2idx, word2idx_partial, vocab_partial, i)\n",
    "    kmeans, y_pred, precision = cluster_and_evaluate(\n",
    "        get_embeddings(male_words + female_words, word_vec_debiased, word2idx_partial), y_true, random_state=1 \n",
    "    )\n",
    "    precisions.append(precision)\n",
    "\n",
    "optimal_frequency_direction = precisions.index(min(precisions))"
   ]
  },
  {
   "cell_type": "code",
   "execution_count": 13,
   "metadata": {},
   "outputs": [
    {
     "data": {
      "image/png": "[encoded data removed]",
      "text/plain": [
       "<Figure size 432x201.6 with 1 Axes>"
      ]
     },
     "metadata": {
      "needs_background": "light"
     },
     "output_type": "display_data"
    }
   ],
   "source": [
    "import matplotlib.pyplot as plt\n",
    "\n",
    "\n",
    "directions = np.arange(1, 21)\n",
    "\n",
    "fig, ax1 = plt.subplots(figsize=(6,2.8))\n",
    "\n",
    "color = 'red'\n",
    "ax1.set_xlabel('Project out the D-th directions', fontsize=17)\n",
    "ax1.set_ylabel('Precision', fontsize=17)\n",
    "ax1.scatter(directions, precisions, color=color, label='GloVe', marker = 'x', s=60)\n",
    "plt.xticks(list(range(0, 21, 2)), fontsize=15)\n",
    "ax1.tick_params(axis='y', labelsize=14)\n",
    "ax1.set_ylim(0.65, 0.84)\n",
    "ax1.legend(loc='lower right', frameon=True, fontsize='large')\n",
    "ax1.grid(axis='y')\n",
    "\n",
    "fig.tight_layout()  # otherwise the right y-label is slightly clipped\n",
    "plt.show()"
   ]
  },
  {
   "cell_type": "markdown",
   "metadata": {},
   "source": [
    "### Step 8: Double-Hard Debias (Debiasing Frequency and Gender components) the original word embeddings in the optimal frequency direction"
   ]
  },
  {
   "cell_type": "code",
   "execution_count": null,
   "metadata": {},
   "outputs": [],
   "source": [
    "from utils import perform_pca, remove_vector_component\n",
    "\n",
    "pricipal_component = main_pca.components_[optimal_frequency_direction]\n",
    "\n",
    "word_vec_frequency = np.zeros((len(vocab), word_vec.shape[1]))\n",
    "\n",
    "for word in vocab:\n",
    "    vector = word_vec[word2idx[word]]\n",
    "    \n",
    "    projection = np.dot(np.dot(np.transpose(pricipal_component), vector), pricipal_component)\n",
    "    word_vec_frequency[word2idx[word]] = vector - projection - word_vec_mean\n",
    "\n",
    "gender_vector = perform_pca(definitional_pairs, word_vec_frequency, word2idx).components_[0]\n",
    "word_vec_debiased = np.zeros((len(vocab), word_vec_frequency.shape[1]))\n",
    "\n",
    "for word in vocab:\n",
    "    vector = word_vec_frequency[word2idx[word]]\n",
    "    word_vec_debiased[word2idx[word]] = remove_vector_component(vector, gender_vector)"
   ]
  },
  {
   "cell_type": "code",
   "execution_count": null,
   "metadata": {},
   "outputs": [],
   "source": []
  }
 ],
 "metadata": {
  "kernelspec": {
   "display_name": "Python 3",
   "language": "python",
   "name": "python3"
  },
  "language_info": {
   "codemirror_mode": {
    "name": "ipython",
    "version": 3
   },
   "file_extension": ".py",
   "mimetype": "text/x-python",
   "name": "python",
   "nbconvert_exporter": "python",
   "pygments_lexer": "ipython3",
   "version": "3.8.5"
  }
 },
 "nbformat": 4,
 "nbformat_minor": 2
}
